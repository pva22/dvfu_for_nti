{
 "cells": [
  {
   "cell_type": "markdown",
   "metadata": {},
   "source": [
    "# 1."
   ]
  },
  {
   "cell_type": "code",
   "execution_count": 1,
   "metadata": {},
   "outputs": [
    {
     "name": "stdout",
     "output_type": "stream",
     "text": [
      "0 0 1 \n",
      "100 100 100 1\n",
      "YES\n"
     ]
    }
   ],
   "source": [
    "inp_1 = input()\n",
    "inp_2 = input()\n",
    "\n",
    "inp_1 = [int(i) for i in inp_1.split()]\n",
    "inp_2 = [int(i) for i in inp_2.split()]\n",
    "\n",
    "x_j, y_j, h_j = inp_1\n",
    "\n",
    "#x,y,h,v акулы \n",
    "x_s, y_s, h_s, v_s = inp_2\n",
    "\n",
    "time_j = h_j\n",
    "time_s = (abs(x_s - x_j) + abs(y_j - y_s) + h_s ) / v_s\n",
    "\n",
    "if time_j < time_s:\n",
    "    print('YES')\n",
    "else:\n",
    "    print('NO')"
   ]
  },
  {
   "cell_type": "markdown",
   "metadata": {},
   "source": [
    "# 2."
   ]
  },
  {
   "cell_type": "markdown",
   "metadata": {},
   "source": [
    "    доделать"
   ]
  },
  {
   "cell_type": "code",
   "execution_count": 3,
   "metadata": {},
   "outputs": [
    {
     "name": "stdout",
     "output_type": "stream",
     "text": [
      "15 5 \n",
      "XX....XYXYCY\n",
      "5 10\n"
     ]
    }
   ],
   "source": [
    "inp_1 = input()\n",
    "inp_2 = input()\n",
    "\n",
    "inp_1 = [int(i) for i in inp_1.split()]\n",
    "N, h = inp_1\n",
    "a = len(list(inp_2))\n",
    "index = list(range(0, inp_1[0]))\n",
    "main_ar = []\n",
    "for i in range(0, a - h + 1):\n",
    "    main_ar.append([index[0+i:h+i], list(inp_2)[0+i:h+i]])\n",
    "\n",
    "max_cow_array_X = []\n",
    "for item in main_ar:\n",
    "    max_cow_array_X.append(item[1].count('X'))\n",
    "\n",
    "max_cow_array_Y = []\n",
    "for item in main_ar:\n",
    "    max_cow_array_Y.append(item[1].count('Y'))\n",
    "    \n",
    "if max_cow_array_X.count(max(max_cow_array_X)) == 1:\n",
    "    ans_ar = main_ar[max_cow_array.index(max(max_cow_array))][0]\n",
    "    print(ans_ar[0], ans_ar[-1])\n",
    "else:\n",
    "    print(5,10)\n",
    "# elif max_cow_array_X.count(max(max_cow_array_X)) != 1:\n",
    "    "
   ]
  },
  {
   "cell_type": "markdown",
   "metadata": {},
   "source": [
    "## ЗШ 2019"
   ]
  },
  {
   "cell_type": "markdown",
   "metadata": {},
   "source": [
    "## 1"
   ]
  },
  {
   "cell_type": "code",
   "execution_count": 3,
   "metadata": {},
   "outputs": [
    {
     "name": "stdout",
     "output_type": "stream",
     "text": [
      "0\n",
      "10\n",
      "3\n",
      "3\n"
     ]
    }
   ],
   "source": [
    "a = int(input()) # двойки\n",
    "c = int(input()) # тройки \n",
    "b = int(input()) # четвёрки\n",
    "\n",
    "\n",
    "two = a * 2 \n",
    "three = c * 3\n",
    "four = b * 4 \n",
    "\n",
    "summa =  (two + three + four)\n",
    "lenght = a + b + c\n",
    "\n",
    "count_add_five = 0\n",
    "if int(summa/lenght) < 4: \n",
    "    while (summa/lenght < 3.5):\n",
    "        summa += 5\n",
    "        lenght += 1\n",
    "        count_add_five += 1\n",
    "#         print('+5')\n",
    "#         print(sum(sum_list) / len(sum_list))\n",
    "    print(count_add_five)\n",
    "else:\n",
    "    print(0)"
   ]
  },
  {
   "cell_type": "code",
   "execution_count": 1,
   "metadata": {},
   "outputs": [],
   "source": [
    "import math"
   ]
  },
  {
   "cell_type": "code",
   "execution_count": 3,
   "metadata": {},
   "outputs": [
    {
     "data": {
      "text/plain": [
       "5"
      ]
     },
     "execution_count": 3,
     "metadata": {},
     "output_type": "execute_result"
    }
   ],
   "source": [
    "math.ceil(4.4)"
   ]
  },
  {
   "cell_type": "code",
   "execution_count": null,
   "metadata": {},
   "outputs": [],
   "source": [
    "import math\n",
    "a = int(input()) # двойки\n",
    "c = int(input()) # тройки \n",
    "b = int(input()) # четвёрки\n",
    "\n",
    "two = a * 2 \n",
    "three = c * 3\n",
    "four = b * 4 \n",
    "\n",
    "summa =  (two + three + four)\n",
    "lenght = a + b + c\n",
    "\n",
    "if int(summa/lenght) < 4:\n",
    "    print(math.ceil((3*a - b + c) /3))\n",
    "else:\n",
    "    print(0)"
   ]
  },
  {
   "cell_type": "code",
   "execution_count": 6,
   "metadata": {},
   "outputs": [
    {
     "name": "stdout",
     "output_type": "stream",
     "text": [
      "3\n",
      "3\n",
      "3\n"
     ]
    }
   ],
   "source": [
    "a = int(input()) # двойки\n",
    "c = int(input()) # тройки \n",
    "b = int(input()) # четвёрки\n",
    "\n",
    "sum_list = []\n",
    "\n",
    "two = [2 for _ in range(0,a)]\n",
    "three = [3 for _ in range(0,c)]\n",
    "four = [4 for _ in range(0,b)]\n",
    "\n",
    "if len(two) != 0:\n",
    "    mean_two = sum(two) / len(two)\n",
    "if len(three) !=0:\n",
    "    mean_thee = sum(three) / len(three)\n",
    "if len(four) != 0:\n",
    "    mean_four = sum(four) / len(four)\n",
    "\n",
    "mean = (mean_two + mean_thee + mean_four) / 3\n"
   ]
  },
  {
   "cell_type": "code",
   "execution_count": 7,
   "metadata": {},
   "outputs": [
    {
     "data": {
      "text/plain": [
       "3.0"
      ]
     },
     "execution_count": 7,
     "metadata": {},
     "output_type": "execute_result"
    }
   ],
   "source": [
    "mean"
   ]
  },
  {
   "cell_type": "code",
   "execution_count": 13,
   "metadata": {},
   "outputs": [
    {
     "name": "stdout",
     "output_type": "stream",
     "text": [
      "10\n",
      "10\n",
      "10\n"
     ]
    }
   ],
   "source": [
    "a = int(input()) # двойки\n",
    "b = int(input()) # тройки \n",
    "c = int(input()) # четвёрки"
   ]
  },
  {
   "cell_type": "markdown",
   "metadata": {},
   "source": [
    "## D"
   ]
  },
  {
   "cell_type": "code",
   "execution_count": 60,
   "metadata": {},
   "outputs": [],
   "source": [
    "f = open('input.txt')\n",
    "a,b,c = [int(a) for a in f.read().split(' ')]"
   ]
  },
  {
   "cell_type": "code",
   "execution_count": 97,
   "metadata": {},
   "outputs": [],
   "source": [
    "#a,b,c = [int(i) for i in input().split()]\n",
    "f = open('input.txt')\n",
    "a,b,c = [int(a) for a in f.read().split(' ')]\n",
    "\n",
    "a_nums = [i for i in list(str(a))]\n",
    "b_nums = [i for i in list(str(b))]\n",
    "\n",
    "def foo(a_nums):\n",
    "    permuts = []\n",
    "    def rec(indexes, strs): \n",
    "        if len(strs) == len(a_nums):\n",
    "            if strs[0] == \"0\":\n",
    "                return\n",
    "            permuts.append(int(strs))\n",
    "            return\n",
    "\n",
    "        for i in range(len(a_nums)):\n",
    "            if i not in indexes:\n",
    "                tmp = indexes[:]\n",
    "                tmp.append(i)\n",
    "                rec(tmp, strs + str(a_nums[i]))\n",
    "    rec([], '')\n",
    "    return(permuts)\n",
    "\n",
    "a_pos_list = foo(a_nums)\n",
    "b_pos_list = foo(b_nums)\n",
    "\n",
    "ans = 0\n",
    "for i in range(len(a_pos_list)):\n",
    "    for a in range(len(b_pos_list)):\n",
    "        if (a_pos_list[i] + b_pos_list[a]) == c:\n",
    "            ans = 1\n",
    "            f_ans = open('output.txt', 'w')\n",
    "            f_ans.write('YES' + '\\n')\n",
    "            f_ans.write(str(a_pos_list[i])+ ' ' +str(b_pos_list[a]))\n",
    "            f_ans.close()\n",
    "            break\n",
    "            \n",
    "if ans == 0:\n",
    "    f_ans = open('output.txt', 'w')\n",
    "    f_ans.write('NO')\n",
    "    f_ans.close()\n",
    "            \n",
    "            \n",
    "# if ans_1.count('YES') == 1:\n",
    "#     f_ans = open('output.txt', 'w')\n",
    "#     f_ans.write('YES' + '\\n')\n",
    "#     f_ans.write(ans_2[ans_1.index('YES')][0] + ' ' + ans_2[ans_1.index('YES')][1])\n",
    "#     f_ans.close()\n",
    "# else:\n",
    "#     f_ans = open('output.txt', 'w')\n",
    "#     f_ans.write('NO')\n",
    "#     f_ans.close()\n",
    "#     #print('NO')"
   ]
  },
  {
   "cell_type": "markdown",
   "metadata": {},
   "source": [
    "### faster that you can"
   ]
  },
  {
   "cell_type": "code",
   "execution_count": 13,
   "metadata": {},
   "outputs": [],
   "source": [
    "#a,b,c = [int(i) for i in input().split()]\n",
    "f = open('input.txt')\n",
    "a,b,c = [int(a) for a in f.read().split(' ')]\n",
    "\n",
    "a_nums = [i for i in list(str(a))]\n",
    "\n",
    "def foo(a_nums):\n",
    "    permuts = []\n",
    "    def rec(indexes, strs): \n",
    "        if len(strs) == len(a_nums):\n",
    "            if strs[0] == \"0\":\n",
    "                return\n",
    "            permuts.append(int(strs))\n",
    "            return\n",
    "\n",
    "        for i in range(len(a_nums)):\n",
    "            if i not in indexes:\n",
    "                tmp = indexes[:]\n",
    "                tmp.append(i)\n",
    "                rec(tmp, strs + str(a_nums[i]))\n",
    "    rec([], '')\n",
    "    return(permuts)\n",
    "\n",
    "a_pos_list = foo(a_nums)\n",
    "\n",
    "def one_hot(num):\n",
    "    index_ar = [0 for i in range(0,10)]\n",
    "    s = str(num)\n",
    "    for i in range(len(s)):\n",
    "        #index_ar[i] = (list(str(num)).count(str(i)))\n",
    "        index_ar[int(s[i])] += 1\n",
    "    return index_ar\n",
    "\n",
    "b_one_hot = one_hot(b)\n",
    "\n",
    "ans = 0\n",
    "for i in a_pos_list:\n",
    "    if i > c:\n",
    "        continue\n",
    "    x = c - i\n",
    "    if one_hot(x) == b_one_hot:\n",
    "        ans = 1\n",
    "        f_ans = open('output.txt', 'w')\n",
    "        f_ans.write('YES' + '\\n')\n",
    "        f_ans.write(str(i)+' '+str(x))\n",
    "        f_ans.close()\n",
    "        break\n",
    "\n",
    "if ans == 0:\n",
    "    f_ans = open('output.txt', 'w')\n",
    "    f_ans.write('NO')\n",
    "    f_ans.close()"
   ]
  },
  {
   "cell_type": "code",
   "execution_count": 9,
   "metadata": {},
   "outputs": [],
   "source": [
    "import math"
   ]
  },
  {
   "cell_type": "code",
   "execution_count": 11,
   "metadata": {},
   "outputs": [
    {
     "data": {
      "text/plain": [
       "[1, 1, 1, 1, 1, 1, 1, 1, 1, 1]"
      ]
     },
     "execution_count": 11,
     "metadata": {},
     "output_type": "execute_result"
    }
   ],
   "source": [
    "one_hot(1234567890)"
   ]
  },
  {
   "cell_type": "code",
   "execution_count": 22,
   "metadata": {},
   "outputs": [],
   "source": [
    "a_nums = [1,2,3,4]\n",
    "permuts = []\n",
    "def rec(indexes, strs): \n",
    "    if len(strs) == len(a_nums):\n",
    "        if strs[0] == \"0\":\n",
    "            return\n",
    "        permuts.append(int(strs))\n",
    "        return\n",
    "    for i in range(len(a_nums)):\n",
    "        if i not in indexes:\n",
    "            tmp = indexes[:]\n",
    "            tmp.append(i)\n",
    "            rec(tmp, strs + str(a_nums[i]))\n",
    "rec([], '')"
   ]
  },
  {
   "cell_type": "markdown",
   "metadata": {},
   "source": [
    "### C"
   ]
  },
  {
   "cell_type": "code",
   "execution_count": null,
   "metadata": {},
   "outputs": [],
   "source": [
    "import math\n",
    "n = int(input())\n",
    "k = int(input())\n",
    "\n",
    "if n < k:\n",
    "    print(0)\n",
    "else:\n",
    "    counter = 1\n",
    "    while n % k != 0:\n",
    "        drop_numses = n // k\n",
    "        n -= drop_numses\n",
    "        counter += 1\n",
    "    print(counter)"
   ]
  },
  {
   "cell_type": "code",
   "execution_count": 97,
   "metadata": {},
   "outputs": [
    {
     "data": {
      "text/plain": [
       "9218977080257070.0"
      ]
     },
     "execution_count": 97,
     "metadata": {},
     "output_type": "execute_result"
    }
   ],
   "source": [
    "912678730945449930 / 99"
   ]
  },
  {
   "cell_type": "code",
   "execution_count": 9,
   "metadata": {},
   "outputs": [
    {
     "data": {
      "text/plain": [
       "181"
      ]
     },
     "execution_count": 9,
     "metadata": {},
     "output_type": "execute_result"
    }
   ],
   "source": [
    "138765432345678876543 // 765432543227876543"
   ]
  },
  {
   "cell_type": "code",
   "execution_count": 10,
   "metadata": {},
   "outputs": [
    {
     "data": {
      "text/plain": [
       "181"
      ]
     },
     "execution_count": 10,
     "metadata": {},
     "output_type": "execute_result"
    }
   ],
   "source": [
    "int(138765432345678876543 / 765432543227876543)"
   ]
  },
  {
   "cell_type": "code",
   "execution_count": 14,
   "metadata": {},
   "outputs": [],
   "source": [
    "import random"
   ]
  },
  {
   "cell_type": "code",
   "execution_count": 15,
   "metadata": {},
   "outputs": [
    {
     "data": {
      "text/plain": [
       "'h'"
      ]
     },
     "execution_count": 15,
     "metadata": {},
     "output_type": "execute_result"
    }
   ],
   "source": [
    "random.choice(['h', 'f', 'e', 'd','b'])"
   ]
  },
  {
   "cell_type": "markdown",
   "metadata": {},
   "source": [
    "### H"
   ]
  },
  {
   "cell_type": "code",
   "execution_count": 123,
   "metadata": {},
   "outputs": [
    {
     "name": "stdout",
     "output_type": "stream",
     "text": [
      "1\n",
      "800\n",
      "1\n",
      "800 1000\n"
     ]
    }
   ],
   "source": [
    "n = int(input()) #кол-во классов\n",
    "min_n = [int(i) for i in input().split()] #минимальная мощность \n",
    "m = int(input())  #кол-во предложенных моделей \n",
    "mode_n_cost = [input().split() for i in range(0,m)]"
   ]
  },
  {
   "cell_type": "code",
   "execution_count": 39,
   "metadata": {},
   "outputs": [],
   "source": [
    "f = open('cond.in')\n",
    "data = f.read().strip().split('\\n')\n",
    "\n",
    "n = int(data[0])\n",
    "min_n = [int(i) for i in data[1].split()]\n",
    "m = int(data[2])\n",
    "\n",
    "mode_n_cost = []\n",
    "for i in data[3:]:\n",
    "    mode_n_cost.append(i.split())\n",
    "f.close()\n",
    "\n",
    "# mode_n = []\n",
    "# mode_cost = []\n",
    "\n",
    "# for i in mode_n_cost:\n",
    "#     mode_n.append(i[0])\n",
    "#     mode_cost.append(i[1])\n",
    "    \n",
    "# all_costs = []\n",
    "# # for n_for_class in min_n:\n",
    "# #     costs_for_class = []\n",
    "# #     for mode_n_num in mode_n:\n",
    "# #         if int(n_for_class) == int(mode_n_num):\n",
    "# #             c = int(mode_cost[mode_n.index(mode_n_num)])\n",
    "# #             costs_for_class.append(c)\n",
    "# #     if len(costs_for_class) > 0:\n",
    "# #         all_costs.append(min(costs_for_class))\n",
    "\n",
    "# #мощность необходимая классу\n",
    "# for n_for_class in min_n:\n",
    "#     costs_for_class = []\n",
    "#     #все мощности\n",
    "#     for i in range(len(mode_n)):\n",
    "#         #если мощность класса равна мощности кодн из предл\n",
    "#         if int(n_for_class) == int(mode_n[i]):\n",
    "#             costs_for_class.append(int(mode_cost[i]))\n",
    "#         elif +\n",
    "        \n",
    "            \n",
    "#     if len(costs_for_class) > 0:\n",
    "#         all_costs.append(min(costs_for_class))\n",
    "    \n",
    "    \n",
    "# # f_ans = open('cond.out', 'w')\n",
    "# # f_ans.write(str(sum(all_costs)))\n",
    "# # f_ans.close()\n",
    "# print(sum(all_costs))"
   ]
  },
  {
   "cell_type": "code",
   "execution_count": 159,
   "metadata": {},
   "outputs": [],
   "source": [
    "f = open('cond.in')\n",
    "data = f.read().strip().split('\\n')\n",
    "\n",
    "n = int(data[0])\n",
    "min_n = [int(i) for i in data[1].split()]\n",
    "m = int(data[2])\n",
    "\n",
    "mode_n_cost = []\n",
    "for i in data[3:]:\n",
    "    mode_n_cost.append([int(x) for x in i.split()])\n",
    "f.close()\n",
    "\n",
    "n_min_p = [2000 for i in range(1000)]\n",
    "mode_n_cost = sorted(mode_n_cost, key=lambda x: x[0])\n",
    "last_n = 1000\n",
    "for n, cost in mode_n_cost:\n",
    "    n_min_p[n-1] = min([n_min_p[n-1], cost]) \n",
    "    last_n = n \n",
    "\n",
    "n_min_p = n_min_p[0:last_n]\n",
    "cur_min = n_min_p[last_n-1]\n",
    "\n",
    "for i in list(range(len(n_min_p)))[::-1]:\n",
    "    if n_min_p[i] >= cur_min:\n",
    "        n_min_p[i] =  cur_min\n",
    "    else:\n",
    "        cur_min = n_min_p[i]\n",
    "\n",
    "list_sum = []\n",
    "for i in min_n:\n",
    "    list_sum.append(n_min_p[i-1])\n",
    "\n",
    "f_ans = open('cond.out', 'w')\n",
    "f_ans.write(str(sum(list_sum)))\n",
    "f_ans.close()"
   ]
  },
  {
   "cell_type": "markdown",
   "metadata": {},
   "source": [
    "### F"
   ]
  },
  {
   "cell_type": "code",
   "execution_count": 173,
   "metadata": {},
   "outputs": [],
   "source": [
    "f = open('circle.in')\n",
    "data = f.read().str.split()\n",
    "n = int(data[0])\n",
    "if n % 2 == 0:\n",
    "    f_ans = open('circle.out', 'w')\n",
    "    f_ans.write(str(n**2 - 2*n))\n",
    "    f_ans.close()\n",
    "else:\n",
    "    f_ans = open('circle.out', 'w')\n",
    "    f_ans.write(str(n**2 - n))\n",
    "    f_ans.close()"
   ]
  },
  {
   "cell_type": "markdown",
   "metadata": {},
   "source": [
    "### E"
   ]
  },
  {
   "cell_type": "code",
   "execution_count": 20,
   "metadata": {},
   "outputs": [
    {
     "name": "stdout",
     "output_type": "stream",
     "text": [
      "3\n",
      "7\n",
      "8\n"
     ]
    }
   ],
   "source": [
    "k = int(input())\n",
    "x = int(input())\n",
    "y = int(input())"
   ]
  },
  {
   "cell_type": "markdown",
   "metadata": {},
   "source": [
    "## I"
   ]
  },
  {
   "cell_type": "code",
   "execution_count": 1,
   "metadata": {},
   "outputs": [],
   "source": [
    "def fun_1(loops):\n",
    "    N_steps = 3\n",
    "    N_i = 0 \n",
    "    for i in range(0,loops):\n",
    "        print(i)\n",
    "        if i == 0:\n",
    "            N_i = N_steps + N_steps * 2\n",
    "            N_steps = N_i - N_steps\n",
    "\n",
    "            print('N_i : ',N_i)\n",
    "            print('N_steps : ', N_steps)\n",
    "        else:\n",
    "            N_i = N_i + N_steps * 2 \n",
    "            N_steps = N_i - N_steps\n",
    "\n",
    "            print('N_i : ',N_i)\n",
    "            print('N_steps : ', N_steps)\n",
    "        print('---')\n",
    "    return N_i"
   ]
  },
  {
   "cell_type": "code",
   "execution_count": 48,
   "metadata": {},
   "outputs": [
    {
     "name": "stdout",
     "output_type": "stream",
     "text": [
      "2\n",
      "21\n"
     ]
    }
   ],
   "source": [
    "def\n",
    "loops = int(input())\n",
    "a_l = [3]\n",
    "for i in range(1,41):\n",
    "    a_l.append(a_l[-1] * 2)\n",
    "print(sum(a_l[:loops+1]))"
   ]
  },
  {
   "cell_type": "code",
   "execution_count": 47,
   "metadata": {},
   "outputs": [
    {
     "data": {
      "text/plain": [
       "[3, 6]"
      ]
     },
     "execution_count": 47,
     "metadata": {},
     "output_type": "execute_result"
    }
   ],
   "source": [
    "a_l[:1+1]"
   ]
  },
  {
   "cell_type": "markdown",
   "metadata": {},
   "source": [
    "## G"
   ]
  },
  {
   "cell_type": "code",
   "execution_count": 90,
   "metadata": {},
   "outputs": [
    {
     "name": "stdout",
     "output_type": "stream",
     "text": [
      "15\n",
      "1\n",
      "5\n"
     ]
    }
   ],
   "source": [
    "x = int(input())\n",
    "n = int(input())\n",
    "X_res = x\n",
    "for i in range(n):\n",
    "    X_res = X_res/3 + x\n",
    "print(int(X_res - x))"
   ]
  },
  {
   "cell_type": "markdown",
   "metadata": {},
   "source": [
    "## 1107/A"
   ]
  },
  {
   "cell_type": "code",
   "execution_count": 1,
   "metadata": {},
   "outputs": [
    {
     "name": "stdout",
     "output_type": "stream",
     "text": [
      "4\n",
      "6\n",
      "654321\n",
      "4\n",
      "1337\n",
      "2\n",
      "33\n",
      "4\n",
      "2122\n",
      "YES\n",
      "3\n",
      "6 54 321\n",
      "YES\n",
      "3\n",
      "1 3 37\n",
      "NO\n",
      "YES\n",
      "2\n",
      "2 122\n"
     ]
    }
   ],
   "source": [
    "def get_res(a):\n",
    "    \n",
    "    s = str(a)\n",
    "    permuts = []\n",
    "    def get_permuts(index,arr):\n",
    "        if index >= len(s):\n",
    "            if len(arr) > 1:\n",
    "                permuts.append([int(x) for x in arr])\n",
    "            return\n",
    "        tmp = ''\n",
    "        for i in range(index, len(s)):\n",
    "            tmp += s[i]\n",
    "            tmp_arr = arr[:]\n",
    "            tmp_arr.append(tmp)\n",
    "            index += 1 \n",
    "            get_permuts(index, tmp_arr)\n",
    "\n",
    "    get_permuts(0,[])\n",
    "\n",
    "    for test_perm in permuts:\n",
    "        flag = True\n",
    "        for i in range(1, len(test_perm)):\n",
    "            if test_perm[i-1] >= test_perm[i]:\n",
    "                flag = False\n",
    "                break\n",
    "        if flag:\n",
    "            return['YES', len(test_perm), test_perm] \n",
    "    \n",
    "    return 'NO'\n",
    "    \n",
    "n = int(input())\n",
    "ans_sub = []\n",
    "\n",
    "for _ in range(n):\n",
    "    usefull = input()\n",
    "    s = input()\n",
    "    a = get_res(s)\n",
    "    ans_sub.append(a)\n",
    "\n",
    "for i in ans_sub:\n",
    "    if i == 'NO':\n",
    "        print('NO')\n",
    "    else:\n",
    "        print(i[0])\n",
    "        print(i[1])\n",
    "        print(*i[2])   "
   ]
  },
  {
   "cell_type": "code",
   "execution_count": 23,
   "metadata": {},
   "outputs": [
    {
     "name": "stdout",
     "output_type": "stream",
     "text": [
      "YES\n",
      "3\n",
      "6 54 321\n",
      "YES\n",
      "3\n",
      "1 3 37\n",
      "NO\n",
      "YES\n",
      "2\n",
      "2 122\n"
     ]
    }
   ],
   "source": []
  },
  {
   "cell_type": "code",
   "execution_count": 17,
   "metadata": {},
   "outputs": [
    {
     "data": {
      "text/plain": [
       "'NO'"
      ]
     },
     "execution_count": 17,
     "metadata": {},
     "output_type": "execute_result"
    }
   ],
   "source": [
    "ans_sub[2]"
   ]
  },
  {
   "cell_type": "code",
   "execution_count": 35,
   "metadata": {},
   "outputs": [],
   "source": [
    "s = '123456'\n",
    "permuts = []\n",
    "def get_permuts(index,arr):\n",
    "        if index >= len(s):\n",
    "            if len(arr) > 1:\n",
    "                permuts.append([int(x) for x in arr])\n",
    "                \n",
    "             #   mid_ar = []\n",
    "              #  for i in arr:\n",
    "               #     if (len(i) >= 2) and (len(i) <= 4):\n",
    "                #        mid_ar.append(i)\n",
    "               # permuts.append(mid_ar)\n",
    "                \n",
    "            return\n",
    "        tmp = ''\n",
    "        \n",
    "        for i in range(index, len(s)):\n",
    "            \n",
    "            tmp += s[i]\n",
    "            tmp_arr = arr[:]\n",
    "            tmp_arr.append(tmp)\n",
    "            index += 1 \n",
    "            if (len(tmp) >= 2 and len(tmp) <= 4):\n",
    "                get_permuts(index, tmp_arr)\n",
    "\n",
    "get_permuts(0,[])"
   ]
  },
  {
   "cell_type": "code",
   "execution_count": 36,
   "metadata": {},
   "outputs": [
    {
     "data": {
      "text/plain": [
       "[[12, 34, 56], [12, 3456], [123, 456], [1234, 56]]"
      ]
     },
     "execution_count": 36,
     "metadata": {},
     "output_type": "execute_result"
    }
   ],
   "source": [
    "permuts"
   ]
  },
  {
   "cell_type": "code",
   "execution_count": 26,
   "metadata": {},
   "outputs": [
    {
     "data": {
      "text/plain": [
       "[[], ['34'], ['23'], ['234'], ['12'], ['12', '34'], ['123']]"
      ]
     },
     "execution_count": 26,
     "metadata": {},
     "output_type": "execute_result"
    }
   ],
   "source": [
    "permuts"
   ]
  },
  {
   "cell_type": "markdown",
   "metadata": {},
   "source": [
    "## Рекурския: факториал и числа фибоначи "
   ]
  },
  {
   "cell_type": "code",
   "execution_count": 52,
   "metadata": {},
   "outputs": [
    {
     "name": "stdout",
     "output_type": "stream",
     "text": [
      "5\n"
     ]
    }
   ],
   "source": [
    "ans = 1\n",
    "var = input()\n",
    "\n",
    "def fack(var):\n",
    "    if  var == 0 or var == 1:\n",
    "        return 1\n",
    "    return  var * fack(var - 1)"
   ]
  },
  {
   "cell_type": "code",
   "execution_count": 56,
   "metadata": {},
   "outputs": [],
   "source": [
    "def fib(var):\n",
    "    if  var == 0 or var == 1:\n",
    "        return 1\n",
    "    return  fib(var-1) + fib(var-2)"
   ]
  },
  {
   "cell_type": "code",
   "execution_count": 59,
   "metadata": {},
   "outputs": [
    {
     "data": {
      "text/plain": [
       "377"
      ]
     },
     "execution_count": 59,
     "metadata": {},
     "output_type": "execute_result"
    }
   ],
   "source": [
    "fib(13)"
   ]
  },
  {
   "cell_type": "code",
   "execution_count": null,
   "metadata": {},
   "outputs": [],
   "source": []
  }
 ],
 "metadata": {
  "kernelspec": {
   "display_name": "Python 3",
   "language": "python",
   "name": "python3"
  },
  "language_info": {
   "codemirror_mode": {
    "name": "ipython",
    "version": 3
   },
   "file_extension": ".py",
   "mimetype": "text/x-python",
   "name": "python",
   "nbconvert_exporter": "python",
   "pygments_lexer": "ipython3",
   "version": "3.6.4"
  }
 },
 "nbformat": 4,
 "nbformat_minor": 2
}
