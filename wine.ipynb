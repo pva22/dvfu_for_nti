{
 "cells": [
  {
   "cell_type": "code",
   "execution_count": 1,
   "metadata": {
    "collapsed": true
   },
   "outputs": [],
   "source": [
    "import pandas as pd\n",
    "import matplotlib.pyplot as plt \n",
    "import numpy as np\n",
    "import seaborn as sns\n",
    "sns.set()\n",
    "from sklearn.model_selection import StratifiedKFold, cross_val_score, RandomizedSearchCV"
   ]
  },
  {
   "cell_type": "code",
   "execution_count": 2,
   "metadata": {
    "collapsed": true
   },
   "outputs": [],
   "source": [
    "import catboost as cb\n",
    "import xgboost as xgb\n",
    "from sklearn.linear_model import SGDClassifier"
   ]
  },
  {
   "cell_type": "code",
   "execution_count": 3,
   "metadata": {
    "collapsed": true
   },
   "outputs": [],
   "source": [
    "train = pd.read_csv('X_train.csv')\n",
    "test = pd.read_csv('X_test.csv')"
   ]
  },
  {
   "cell_type": "code",
   "execution_count": 4,
   "metadata": {
    "collapsed": true
   },
   "outputs": [],
   "source": [
    "train = train.drop(['Unnamed: 0'], axis=1)\n",
    "test = test.drop(['Unnamed: 0'], axis=1)"
   ]
  },
  {
   "cell_type": "code",
   "execution_count": 5,
   "metadata": {
    "collapsed": true
   },
   "outputs": [],
   "source": [
    "target = train['quality']\n",
    "train = train.drop(['quality'], axis=1)"
   ]
  },
  {
   "cell_type": "markdown",
   "metadata": {},
   "source": [
    "## Data clening"
   ]
  },
  {
   "cell_type": "code",
   "execution_count": 6,
   "metadata": {
    "collapsed": true
   },
   "outputs": [],
   "source": [
    "mapping = {3:0, 4:0, 5:0, 6:0, 7:1, 8:1}\n",
    "target = target.map(mapping)"
   ]
  },
  {
   "cell_type": "code",
   "execution_count": 7,
   "metadata": {
    "collapsed": true
   },
   "outputs": [],
   "source": [
    "from sklearn.preprocessing import MinMaxScaler, StandardScaler\n",
    "scaler = MinMaxScaler()\n",
    "\n",
    "train = scaler.fit_transform(train)\n",
    "test = scaler.fit_transform(test)"
   ]
  },
  {
   "cell_type": "code",
   "execution_count": 8,
   "metadata": {
    "collapsed": true
   },
   "outputs": [],
   "source": [
    "k_fold = StratifiedKFold(n_splits=5, shuffle=True)"
   ]
  },
  {
   "cell_type": "markdown",
   "metadata": {},
   "source": [
    "### polyfeatures"
   ]
  },
  {
   "cell_type": "code",
   "execution_count": 9,
   "metadata": {
    "collapsed": true
   },
   "outputs": [],
   "source": [
    "from sklearn.preprocessing import PolynomialFeatures"
   ]
  },
  {
   "cell_type": "code",
   "execution_count": 10,
   "metadata": {
    "collapsed": true
   },
   "outputs": [],
   "source": [
    "# poly = PolynomialFeatures(2)\n",
    "# train_poly = poly.fit_transform(train)\n",
    "# test_poly = poly.fit_transform(test)"
   ]
  },
  {
   "cell_type": "markdown",
   "metadata": {},
   "source": [
    "### Modeling"
   ]
  },
  {
   "cell_type": "code",
   "execution_count": 11,
   "metadata": {},
   "outputs": [],
   "source": [
    "from sklearn.model_selection import cross_val_score\n",
    "from sklearn.datasets import make_blobs\n",
    "from sklearn.ensemble import RandomForestClassifier\n",
    "from sklearn.ensemble import ExtraTreesClassifier\n",
    "from sklearn.tree import DecisionTreeClassifier"
   ]
  },
  {
   "cell_type": "code",
   "execution_count": 12,
   "metadata": {
    "collapsed": true
   },
   "outputs": [],
   "source": [
    "from sklearn.ensemble import RandomForestClassifier, VotingClassifier"
   ]
  },
  {
   "cell_type": "code",
   "execution_count": 13,
   "metadata": {
    "collapsed": true
   },
   "outputs": [],
   "source": [
    "sgd_clf = SGDClassifier(loss=\"hinge\", penalty=\"l2\", max_iter=5)"
   ]
  },
  {
   "cell_type": "code",
   "execution_count": 14,
   "metadata": {
    "collapsed": true
   },
   "outputs": [],
   "source": [
    "cat_clf = cb.CatBoostClassifier()"
   ]
  },
  {
   "cell_type": "code",
   "execution_count": 15,
   "metadata": {
    "collapsed": true
   },
   "outputs": [],
   "source": [
    "xgb_clf = xgb.XGBClassifier()"
   ]
  },
  {
   "cell_type": "code",
   "execution_count": 16,
   "metadata": {
    "collapsed": true
   },
   "outputs": [],
   "source": [
    "clf_1 = DecisionTreeClassifier(max_depth=None, min_samples_split=2,\n",
    "    random_state=0)\n",
    "                   \n",
    "clf_2 = RandomForestClassifier(n_estimators=10, max_depth=None,\n",
    "    min_samples_split=2, random_state=0)\n",
    "                           \n",
    "clf_3 = ExtraTreesClassifier(n_estimators=10, max_depth=None,\n",
    "    min_samples_split=2, random_state=0)"
   ]
  },
  {
   "cell_type": "code",
   "execution_count": 17,
   "metadata": {
    "collapsed": true
   },
   "outputs": [],
   "source": [
    "eclf1 = VotingClassifier(estimators=[\n",
    "        ('lr', clf_1), ('rf', clf_2), ('gnb', clf_3)], voting='soft')"
   ]
  },
  {
   "cell_type": "code",
   "execution_count": 18,
   "metadata": {
    "collapsed": true
   },
   "outputs": [
    {
     "name": "stdout",
     "output_type": "stream",
     "text": [
      "CPU times: user 3 µs, sys: 1e+03 ns, total: 4 µs\n",
      "Wall time: 8.82 µs\n"
     ]
    },
    {
     "name": "stderr",
     "output_type": "stream",
     "text": [
      "/home/ubuntu/anaconda3/lib/python3.6/site-packages/sklearn/preprocessing/label.py:151: DeprecationWarning: The truth value of an empty array is ambiguous. Returning False, but in future this will result in an error. Use `array.size > 0` to check that an array is not empty.\n",
      "  if diff:\n",
      "/home/ubuntu/anaconda3/lib/python3.6/site-packages/sklearn/preprocessing/label.py:151: DeprecationWarning: The truth value of an empty array is ambiguous. Returning False, but in future this will result in an error. Use `array.size > 0` to check that an array is not empty.\n",
      "  if diff:\n",
      "/home/ubuntu/anaconda3/lib/python3.6/site-packages/sklearn/preprocessing/label.py:151: DeprecationWarning: The truth value of an empty array is ambiguous. Returning False, but in future this will result in an error. Use `array.size > 0` to check that an array is not empty.\n",
      "  if diff:\n",
      "/home/ubuntu/anaconda3/lib/python3.6/site-packages/sklearn/preprocessing/label.py:151: DeprecationWarning: The truth value of an empty array is ambiguous. Returning False, but in future this will result in an error. Use `array.size > 0` to check that an array is not empty.\n",
      "  if diff:\n",
      "/home/ubuntu/anaconda3/lib/python3.6/site-packages/sklearn/preprocessing/label.py:151: DeprecationWarning: The truth value of an empty array is ambiguous. Returning False, but in future this will result in an error. Use `array.size > 0` to check that an array is not empty.\n",
      "  if diff:\n"
     ]
    }
   ],
   "source": [
    "%time\n",
    "cat_clf_cv = cross_val_score(eclf1, train, target, cv = k_fold, scoring='f1', n_jobs=8)"
   ]
  },
  {
   "cell_type": "code",
   "execution_count": 19,
   "metadata": {},
   "outputs": [
    {
     "data": {
      "text/plain": [
       "55207.88379347415"
      ]
     },
     "execution_count": 19,
     "metadata": {},
     "output_type": "execute_result"
    }
   ],
   "source": [
    "cat_clf_cv.mean() * 10**5"
   ]
  },
  {
   "cell_type": "markdown",
   "metadata": {},
   "source": [
    "|попытка|скор|\n",
    "|---|---|\n",
    "|1.|56053 - 1000|\n",
    "|2.min-max|57693|"
   ]
  },
  {
   "cell_type": "code",
   "execution_count": 20,
   "metadata": {
    "collapsed": true
   },
   "outputs": [],
   "source": [
    "from sklearn.model_selection import GridSearchCV"
   ]
  },
  {
   "cell_type": "code",
   "execution_count": 21,
   "metadata": {},
   "outputs": [
    {
     "data": {
      "text/plain": [
       "array([0. , 0.1, 0.2, 0.3, 0.4, 0.5, 0.6, 0.7, 0.8, 0.9])"
      ]
     },
     "execution_count": 21,
     "metadata": {},
     "output_type": "execute_result"
    }
   ],
   "source": [
    "np.arange(0.0, 1.0, 0.1)"
   ]
  },
  {
   "cell_type": "code",
   "execution_count": 24,
   "metadata": {
    "collapsed": true
   },
   "outputs": [],
   "source": [
    "params={\n",
    "    'max_depth': list(range(0,10,1)), # 5 is good but takes too long in kaggle env\n",
    "    'subsample': np.arange(0.0, 1.0, 0.1),\n",
    "    'colsample_bytree': np.arange(0.0, 1.0, 0.1),\n",
    "    'n_estimators': list(range(80,2000,100)),\n",
    "    'reg_alpha': np.arange(0.0, 1.0, 0.1)\n",
    "}\n",
    "\n",
    "xgb_clf = xgb.XGBClassifier()\n",
    "rs = RandomizedSearchCV(xgb_clf,\n",
    "                  params,\n",
    "                  cv=5,\n",
    "                  n_jobs=8,\n",
    "                  verbose=10,\n",
    "                 return_train_score=True)"
   ]
  },
  {
   "cell_type": "code",
   "execution_count": 25,
   "metadata": {
    "scrolled": true
   },
   "outputs": [
    {
     "name": "stdout",
     "output_type": "stream",
     "text": [
      "CPU times: user 4 µs, sys: 1 µs, total: 5 µs\n",
      "Wall time: 11.4 µs\n",
      "Fitting 5 folds for each of 10 candidates, totalling 50 fits\n",
      "[CV] subsample=0.7000000000000001, reg_alpha=0.9, n_estimators=1080, max_depth=9, colsample_bytree=0.1 \n",
      "[CV] subsample=0.7000000000000001, reg_alpha=0.9, n_estimators=1080, max_depth=9, colsample_bytree=0.1 \n",
      "[CV] subsample=0.7000000000000001, reg_alpha=0.9, n_estimators=1080, max_depth=9, colsample_bytree=0.1 \n",
      "[CV] subsample=0.7000000000000001, reg_alpha=0.9, n_estimators=1080, max_depth=9, colsample_bytree=0.1 \n",
      "[CV] subsample=0.7000000000000001, reg_alpha=0.9, n_estimators=1080, max_depth=9, colsample_bytree=0.1 \n",
      "[CV] subsample=0.0, reg_alpha=0.30000000000000004, n_estimators=1880, max_depth=2, colsample_bytree=0.1 \n",
      "[CV] subsample=0.0, reg_alpha=0.30000000000000004, n_estimators=1880, max_depth=2, colsample_bytree=0.1 \n",
      "[CV] subsample=0.0, reg_alpha=0.30000000000000004, n_estimators=1880, max_depth=2, colsample_bytree=0.1 \n"
     ]
    },
    {
     "name": "stderr",
     "output_type": "stream",
     "text": [
      "/home/ubuntu/anaconda3/lib/python3.6/site-packages/sklearn/preprocessing/label.py:151: DeprecationWarning: The truth value of an empty array is ambiguous. Returning False, but in future this will result in an error. Use `array.size > 0` to check that an array is not empty.\n",
      "  if diff:\n",
      "/home/ubuntu/anaconda3/lib/python3.6/site-packages/sklearn/preprocessing/label.py:151: DeprecationWarning: The truth value of an empty array is ambiguous. Returning False, but in future this will result in an error. Use `array.size > 0` to check that an array is not empty.\n",
      "  if diff:\n"
     ]
    },
    {
     "name": "stdout",
     "output_type": "stream",
     "text": [
      "[CV]  subsample=0.0, reg_alpha=0.30000000000000004, n_estimators=1880, max_depth=2, colsample_bytree=0.1, score=0.8671875, total=   0.4s\n",
      "[CV] subsample=0.0, reg_alpha=0.30000000000000004, n_estimators=1880, max_depth=2, colsample_bytree=0.1 \n"
     ]
    },
    {
     "name": "stderr",
     "output_type": "stream",
     "text": [
      "/home/ubuntu/anaconda3/lib/python3.6/site-packages/sklearn/preprocessing/label.py:151: DeprecationWarning: The truth value of an empty array is ambiguous. Returning False, but in future this will result in an error. Use `array.size > 0` to check that an array is not empty.\n",
      "  if diff:\n",
      "/home/ubuntu/anaconda3/lib/python3.6/site-packages/sklearn/preprocessing/label.py:151: DeprecationWarning: The truth value of an empty array is ambiguous. Returning False, but in future this will result in an error. Use `array.size > 0` to check that an array is not empty.\n",
      "  if diff:\n",
      "/home/ubuntu/anaconda3/lib/python3.6/site-packages/sklearn/preprocessing/label.py:151: DeprecationWarning: The truth value of an empty array is ambiguous. Returning False, but in future this will result in an error. Use `array.size > 0` to check that an array is not empty.\n",
      "  if diff:\n"
     ]
    },
    {
     "name": "stdout",
     "output_type": "stream",
     "text": [
      "[CV]  subsample=0.0, reg_alpha=0.30000000000000004, n_estimators=1880, max_depth=2, colsample_bytree=0.1, score=0.8671875, total=   0.4s\n",
      "[CV] subsample=0.0, reg_alpha=0.30000000000000004, n_estimators=1880, max_depth=2, colsample_bytree=0.1 \n"
     ]
    },
    {
     "name": "stderr",
     "output_type": "stream",
     "text": [
      "/home/ubuntu/anaconda3/lib/python3.6/site-packages/sklearn/preprocessing/label.py:151: DeprecationWarning: The truth value of an empty array is ambiguous. Returning False, but in future this will result in an error. Use `array.size > 0` to check that an array is not empty.\n",
      "  if diff:\n"
     ]
    },
    {
     "name": "stdout",
     "output_type": "stream",
     "text": [
      "[CV]  subsample=0.0, reg_alpha=0.30000000000000004, n_estimators=1880, max_depth=2, colsample_bytree=0.1, score=0.8671875, total=   0.4s\n",
      "[CV] subsample=0.8, reg_alpha=0.2, n_estimators=1080, max_depth=4, colsample_bytree=0.4 \n"
     ]
    },
    {
     "name": "stderr",
     "output_type": "stream",
     "text": [
      "/home/ubuntu/anaconda3/lib/python3.6/site-packages/sklearn/preprocessing/label.py:151: DeprecationWarning: The truth value of an empty array is ambiguous. Returning False, but in future this will result in an error. Use `array.size > 0` to check that an array is not empty.\n",
      "  if diff:\n",
      "/home/ubuntu/anaconda3/lib/python3.6/site-packages/sklearn/preprocessing/label.py:151: DeprecationWarning: The truth value of an empty array is ambiguous. Returning False, but in future this will result in an error. Use `array.size > 0` to check that an array is not empty.\n",
      "  if diff:\n",
      "/home/ubuntu/anaconda3/lib/python3.6/site-packages/sklearn/preprocessing/label.py:151: DeprecationWarning: The truth value of an empty array is ambiguous. Returning False, but in future this will result in an error. Use `array.size > 0` to check that an array is not empty.\n",
      "  if diff:\n",
      "/home/ubuntu/anaconda3/lib/python3.6/site-packages/sklearn/preprocessing/label.py:151: DeprecationWarning: The truth value of an empty array is ambiguous. Returning False, but in future this will result in an error. Use `array.size > 0` to check that an array is not empty.\n",
      "  if diff:\n",
      "/home/ubuntu/anaconda3/lib/python3.6/site-packages/sklearn/preprocessing/label.py:151: DeprecationWarning: The truth value of an empty array is ambiguous. Returning False, but in future this will result in an error. Use `array.size > 0` to check that an array is not empty.\n",
      "  if diff:\n",
      "/home/ubuntu/anaconda3/lib/python3.6/site-packages/sklearn/preprocessing/label.py:151: DeprecationWarning: The truth value of an empty array is ambiguous. Returning False, but in future this will result in an error. Use `array.size > 0` to check that an array is not empty.\n",
      "  if diff:\n"
     ]
    },
    {
     "name": "stdout",
     "output_type": "stream",
     "text": [
      "[CV]  subsample=0.7000000000000001, reg_alpha=0.9, n_estimators=1080, max_depth=9, colsample_bytree=0.1, score=0.875, total=   0.5s\n",
      "[CV] subsample=0.8, reg_alpha=0.2, n_estimators=1080, max_depth=4, colsample_bytree=0.4 \n"
     ]
    },
    {
     "name": "stderr",
     "output_type": "stream",
     "text": [
      "/home/ubuntu/anaconda3/lib/python3.6/site-packages/sklearn/preprocessing/label.py:151: DeprecationWarning: The truth value of an empty array is ambiguous. Returning False, but in future this will result in an error. Use `array.size > 0` to check that an array is not empty.\n",
      "  if diff:\n"
     ]
    },
    {
     "name": "stdout",
     "output_type": "stream",
     "text": [
      "[CV]  subsample=0.7000000000000001, reg_alpha=0.9, n_estimators=1080, max_depth=9, colsample_bytree=0.1, score=0.90234375, total=   0.5s\n",
      "[CV] subsample=0.8, reg_alpha=0.2, n_estimators=1080, max_depth=4, colsample_bytree=0.4 \n"
     ]
    },
    {
     "name": "stderr",
     "output_type": "stream",
     "text": [
      "/home/ubuntu/anaconda3/lib/python3.6/site-packages/sklearn/preprocessing/label.py:151: DeprecationWarning: The truth value of an empty array is ambiguous. Returning False, but in future this will result in an error. Use `array.size > 0` to check that an array is not empty.\n",
      "  if diff:\n",
      "/home/ubuntu/anaconda3/lib/python3.6/site-packages/sklearn/preprocessing/label.py:151: DeprecationWarning: The truth value of an empty array is ambiguous. Returning False, but in future this will result in an error. Use `array.size > 0` to check that an array is not empty.\n",
      "  if diff:\n",
      "/home/ubuntu/anaconda3/lib/python3.6/site-packages/sklearn/preprocessing/label.py:151: DeprecationWarning: The truth value of an empty array is ambiguous. Returning False, but in future this will result in an error. Use `array.size > 0` to check that an array is not empty.\n",
      "  if diff:\n"
     ]
    },
    {
     "name": "stdout",
     "output_type": "stream",
     "text": [
      "[CV]  subsample=0.7000000000000001, reg_alpha=0.9, n_estimators=1080, max_depth=9, colsample_bytree=0.1, score=0.8980392156862745, total=   0.5s\n",
      "[CV]  subsample=0.7000000000000001, reg_alpha=0.9, n_estimators=1080, max_depth=9, colsample_bytree=0.1, score=0.87890625, total=   0.6s\n",
      "[CV]  subsample=0.7000000000000001, reg_alpha=0.9, n_estimators=1080, max_depth=9, colsample_bytree=0.1, score=0.8828125, total=   0.6s\n",
      "[CV] subsample=0.8, reg_alpha=0.2, n_estimators=1080, max_depth=4, colsample_bytree=0.4 \n",
      "[CV] subsample=0.2, reg_alpha=0.2, n_estimators=280, max_depth=6, colsample_bytree=0.8 \n",
      "[CV] subsample=0.8, reg_alpha=0.2, n_estimators=1080, max_depth=4, colsample_bytree=0.4 \n"
     ]
    },
    {
     "name": "stderr",
     "output_type": "stream",
     "text": [
      "[Parallel(n_jobs=8)]: Done   2 tasks      | elapsed:    0.5s\n",
      "/home/ubuntu/anaconda3/lib/python3.6/site-packages/sklearn/preprocessing/label.py:151: DeprecationWarning: The truth value of an empty array is ambiguous. Returning False, but in future this will result in an error. Use `array.size > 0` to check that an array is not empty.\n",
      "  if diff:\n",
      "/home/ubuntu/anaconda3/lib/python3.6/site-packages/sklearn/preprocessing/label.py:151: DeprecationWarning: The truth value of an empty array is ambiguous. Returning False, but in future this will result in an error. Use `array.size > 0` to check that an array is not empty.\n",
      "  if diff:\n"
     ]
    },
    {
     "name": "stdout",
     "output_type": "stream",
     "text": [
      "[CV]  subsample=0.0, reg_alpha=0.30000000000000004, n_estimators=1880, max_depth=2, colsample_bytree=0.1, score=0.8671875, total=   0.4s\n",
      "[CV] subsample=0.2, reg_alpha=0.2, n_estimators=280, max_depth=6, colsample_bytree=0.8 \n"
     ]
    },
    {
     "name": "stderr",
     "output_type": "stream",
     "text": [
      "/home/ubuntu/anaconda3/lib/python3.6/site-packages/sklearn/preprocessing/label.py:151: DeprecationWarning: The truth value of an empty array is ambiguous. Returning False, but in future this will result in an error. Use `array.size > 0` to check that an array is not empty.\n",
      "  if diff:\n",
      "/home/ubuntu/anaconda3/lib/python3.6/site-packages/sklearn/preprocessing/label.py:151: DeprecationWarning: The truth value of an empty array is ambiguous. Returning False, but in future this will result in an error. Use `array.size > 0` to check that an array is not empty.\n",
      "  if diff:\n"
     ]
    },
    {
     "name": "stdout",
     "output_type": "stream",
     "text": [
      "[CV]  subsample=0.0, reg_alpha=0.30000000000000004, n_estimators=1880, max_depth=2, colsample_bytree=0.1, score=0.8666666666666667, total=   0.4s\n",
      "[CV] subsample=0.2, reg_alpha=0.2, n_estimators=280, max_depth=6, colsample_bytree=0.8 \n"
     ]
    },
    {
     "name": "stderr",
     "output_type": "stream",
     "text": [
      "/home/ubuntu/anaconda3/lib/python3.6/site-packages/sklearn/preprocessing/label.py:151: DeprecationWarning: The truth value of an empty array is ambiguous. Returning False, but in future this will result in an error. Use `array.size > 0` to check that an array is not empty.\n",
      "  if diff:\n",
      "/home/ubuntu/anaconda3/lib/python3.6/site-packages/sklearn/preprocessing/label.py:151: DeprecationWarning: The truth value of an empty array is ambiguous. Returning False, but in future this will result in an error. Use `array.size > 0` to check that an array is not empty.\n",
      "  if diff:\n"
     ]
    },
    {
     "name": "stdout",
     "output_type": "stream",
     "text": [
      "[CV]  subsample=0.2, reg_alpha=0.2, n_estimators=280, max_depth=6, colsample_bytree=0.8, score=0.88671875, total=   0.3s\n",
      "[CV] subsample=0.2, reg_alpha=0.2, n_estimators=280, max_depth=6, colsample_bytree=0.8 \n"
     ]
    },
    {
     "name": "stderr",
     "output_type": "stream",
     "text": [
      "[Parallel(n_jobs=8)]: Done   9 tasks      | elapsed:    0.9s\n",
      "/home/ubuntu/anaconda3/lib/python3.6/site-packages/sklearn/preprocessing/label.py:151: DeprecationWarning: The truth value of an empty array is ambiguous. Returning False, but in future this will result in an error. Use `array.size > 0` to check that an array is not empty.\n",
      "  if diff:\n",
      "/home/ubuntu/anaconda3/lib/python3.6/site-packages/sklearn/preprocessing/label.py:151: DeprecationWarning: The truth value of an empty array is ambiguous. Returning False, but in future this will result in an error. Use `array.size > 0` to check that an array is not empty.\n",
      "  if diff:\n"
     ]
    },
    {
     "name": "stdout",
     "output_type": "stream",
     "text": [
      "[CV]  subsample=0.2, reg_alpha=0.2, n_estimators=280, max_depth=6, colsample_bytree=0.8, score=0.9140625, total=   0.2s\n",
      "[CV] subsample=0.2, reg_alpha=0.2, n_estimators=280, max_depth=6, colsample_bytree=0.8 \n"
     ]
    },
    {
     "name": "stderr",
     "output_type": "stream",
     "text": [
      "/home/ubuntu/anaconda3/lib/python3.6/site-packages/sklearn/preprocessing/label.py:151: DeprecationWarning: The truth value of an empty array is ambiguous. Returning False, but in future this will result in an error. Use `array.size > 0` to check that an array is not empty.\n",
      "  if diff:\n",
      "/home/ubuntu/anaconda3/lib/python3.6/site-packages/sklearn/preprocessing/label.py:151: DeprecationWarning: The truth value of an empty array is ambiguous. Returning False, but in future this will result in an error. Use `array.size > 0` to check that an array is not empty.\n",
      "  if diff:\n"
     ]
    },
    {
     "name": "stdout",
     "output_type": "stream",
     "text": [
      "[CV]  subsample=0.2, reg_alpha=0.2, n_estimators=280, max_depth=6, colsample_bytree=0.8, score=0.83203125, total=   0.3s\n"
     ]
    },
    {
     "name": "stderr",
     "output_type": "stream",
     "text": [
      "/home/ubuntu/anaconda3/lib/python3.6/site-packages/sklearn/preprocessing/label.py:151: DeprecationWarning: The truth value of an empty array is ambiguous. Returning False, but in future this will result in an error. Use `array.size > 0` to check that an array is not empty.\n",
      "  if diff:\n"
     ]
    },
    {
     "name": "stdout",
     "output_type": "stream",
     "text": [
      "[CV] subsample=0.9, reg_alpha=0.30000000000000004, n_estimators=1280, max_depth=4, colsample_bytree=0.30000000000000004 \n"
     ]
    },
    {
     "name": "stderr",
     "output_type": "stream",
     "text": [
      "/home/ubuntu/anaconda3/lib/python3.6/site-packages/sklearn/preprocessing/label.py:151: DeprecationWarning: The truth value of an empty array is ambiguous. Returning False, but in future this will result in an error. Use `array.size > 0` to check that an array is not empty.\n",
      "  if diff:\n"
     ]
    },
    {
     "name": "stdout",
     "output_type": "stream",
     "text": [
      "[CV]  subsample=0.2, reg_alpha=0.2, n_estimators=280, max_depth=6, colsample_bytree=0.8, score=0.90625, total=   0.2s\n",
      "[CV] subsample=0.9, reg_alpha=0.30000000000000004, n_estimators=1280, max_depth=4, colsample_bytree=0.30000000000000004 \n"
     ]
    },
    {
     "name": "stderr",
     "output_type": "stream",
     "text": [
      "/home/ubuntu/anaconda3/lib/python3.6/site-packages/sklearn/preprocessing/label.py:151: DeprecationWarning: The truth value of an empty array is ambiguous. Returning False, but in future this will result in an error. Use `array.size > 0` to check that an array is not empty.\n",
      "  if diff:\n",
      "/home/ubuntu/anaconda3/lib/python3.6/site-packages/sklearn/preprocessing/label.py:151: DeprecationWarning: The truth value of an empty array is ambiguous. Returning False, but in future this will result in an error. Use `array.size > 0` to check that an array is not empty.\n",
      "  if diff:\n",
      "/home/ubuntu/anaconda3/lib/python3.6/site-packages/sklearn/preprocessing/label.py:151: DeprecationWarning: The truth value of an empty array is ambiguous. Returning False, but in future this will result in an error. Use `array.size > 0` to check that an array is not empty.\n",
      "  if diff:\n",
      "/home/ubuntu/anaconda3/lib/python3.6/site-packages/sklearn/preprocessing/label.py:151: DeprecationWarning: The truth value of an empty array is ambiguous. Returning False, but in future this will result in an error. Use `array.size > 0` to check that an array is not empty.\n",
      "  if diff:\n",
      "/home/ubuntu/anaconda3/lib/python3.6/site-packages/sklearn/preprocessing/label.py:151: DeprecationWarning: The truth value of an empty array is ambiguous. Returning False, but in future this will result in an error. Use `array.size > 0` to check that an array is not empty.\n",
      "  if diff:\n"
     ]
    },
    {
     "name": "stdout",
     "output_type": "stream",
     "text": [
      "[CV]  subsample=0.2, reg_alpha=0.2, n_estimators=280, max_depth=6, colsample_bytree=0.8, score=0.8941176470588236, total=   0.2s\n",
      "[CV] subsample=0.9, reg_alpha=0.30000000000000004, n_estimators=1280, max_depth=4, colsample_bytree=0.30000000000000004 \n"
     ]
    },
    {
     "name": "stderr",
     "output_type": "stream",
     "text": [
      "/home/ubuntu/anaconda3/lib/python3.6/site-packages/sklearn/preprocessing/label.py:151: DeprecationWarning: The truth value of an empty array is ambiguous. Returning False, but in future this will result in an error. Use `array.size > 0` to check that an array is not empty.\n",
      "  if diff:\n",
      "/home/ubuntu/anaconda3/lib/python3.6/site-packages/sklearn/preprocessing/label.py:151: DeprecationWarning: The truth value of an empty array is ambiguous. Returning False, but in future this will result in an error. Use `array.size > 0` to check that an array is not empty.\n",
      "  if diff:\n",
      "/home/ubuntu/anaconda3/lib/python3.6/site-packages/sklearn/preprocessing/label.py:151: DeprecationWarning: The truth value of an empty array is ambiguous. Returning False, but in future this will result in an error. Use `array.size > 0` to check that an array is not empty.\n",
      "  if diff:\n"
     ]
    },
    {
     "name": "stdout",
     "output_type": "stream",
     "text": [
      "[CV]  subsample=0.8, reg_alpha=0.2, n_estimators=1080, max_depth=4, colsample_bytree=0.4, score=0.90234375, total=   0.8s\n"
     ]
    },
    {
     "name": "stderr",
     "output_type": "stream",
     "text": [
      "/home/ubuntu/anaconda3/lib/python3.6/site-packages/sklearn/preprocessing/label.py:151: DeprecationWarning: The truth value of an empty array is ambiguous. Returning False, but in future this will result in an error. Use `array.size > 0` to check that an array is not empty.\n",
      "  if diff:\n"
     ]
    },
    {
     "name": "stdout",
     "output_type": "stream",
     "text": [
      "[CV]  subsample=0.8, reg_alpha=0.2, n_estimators=1080, max_depth=4, colsample_bytree=0.4, score=0.87890625, total=   0.7s\n",
      "[CV] subsample=0.9, reg_alpha=0.30000000000000004, n_estimators=1280, max_depth=4, colsample_bytree=0.30000000000000004 \n"
     ]
    },
    {
     "name": "stderr",
     "output_type": "stream",
     "text": [
      "/home/ubuntu/anaconda3/lib/python3.6/site-packages/sklearn/preprocessing/label.py:151: DeprecationWarning: The truth value of an empty array is ambiguous. Returning False, but in future this will result in an error. Use `array.size > 0` to check that an array is not empty.\n",
      "  if diff:\n"
     ]
    },
    {
     "name": "stdout",
     "output_type": "stream",
     "text": [
      "[CV]  subsample=0.8, reg_alpha=0.2, n_estimators=1080, max_depth=4, colsample_bytree=0.4, score=0.8828125, total=   0.9s\n",
      "[CV] subsample=0.9, reg_alpha=0.30000000000000004, n_estimators=1280, max_depth=4, colsample_bytree=0.30000000000000004 \n",
      "[CV] subsample=0.1, reg_alpha=0.6000000000000001, n_estimators=380, max_depth=6, colsample_bytree=0.6000000000000001 \n"
     ]
    },
    {
     "name": "stderr",
     "output_type": "stream",
     "text": [
      "/home/ubuntu/anaconda3/lib/python3.6/site-packages/sklearn/preprocessing/label.py:151: DeprecationWarning: The truth value of an empty array is ambiguous. Returning False, but in future this will result in an error. Use `array.size > 0` to check that an array is not empty.\n",
      "  if diff:\n"
     ]
    },
    {
     "name": "stdout",
     "output_type": "stream",
     "text": [
      "[CV]  subsample=0.8, reg_alpha=0.2, n_estimators=1080, max_depth=4, colsample_bytree=0.4, score=0.91015625, total=   0.8s\n",
      "[CV] subsample=0.1, reg_alpha=0.6000000000000001, n_estimators=380, max_depth=6, colsample_bytree=0.6000000000000001 \n"
     ]
    },
    {
     "name": "stderr",
     "output_type": "stream",
     "text": [
      "/home/ubuntu/anaconda3/lib/python3.6/site-packages/sklearn/preprocessing/label.py:151: DeprecationWarning: The truth value of an empty array is ambiguous. Returning False, but in future this will result in an error. Use `array.size > 0` to check that an array is not empty.\n",
      "  if diff:\n"
     ]
    },
    {
     "name": "stdout",
     "output_type": "stream",
     "text": [
      "[CV]  subsample=0.8, reg_alpha=0.2, n_estimators=1080, max_depth=4, colsample_bytree=0.4, score=0.9019607843137255, total=   0.8s\n",
      "[CV] subsample=0.1, reg_alpha=0.6000000000000001, n_estimators=380, max_depth=6, colsample_bytree=0.6000000000000001 \n"
     ]
    },
    {
     "name": "stderr",
     "output_type": "stream",
     "text": [
      "[Parallel(n_jobs=8)]: Done  16 tasks      | elapsed:    1.5s\n",
      "/home/ubuntu/anaconda3/lib/python3.6/site-packages/sklearn/preprocessing/label.py:151: DeprecationWarning: The truth value of an empty array is ambiguous. Returning False, but in future this will result in an error. Use `array.size > 0` to check that an array is not empty.\n",
      "  if diff:\n",
      "/home/ubuntu/anaconda3/lib/python3.6/site-packages/sklearn/preprocessing/label.py:151: DeprecationWarning: The truth value of an empty array is ambiguous. Returning False, but in future this will result in an error. Use `array.size > 0` to check that an array is not empty.\n",
      "  if diff:\n"
     ]
    },
    {
     "name": "stdout",
     "output_type": "stream",
     "text": [
      "[CV]  subsample=0.1, reg_alpha=0.6000000000000001, n_estimators=380, max_depth=6, colsample_bytree=0.6000000000000001, score=0.859375, total=   0.2s\n",
      "[CV] subsample=0.1, reg_alpha=0.6000000000000001, n_estimators=380, max_depth=6, colsample_bytree=0.6000000000000001 \n"
     ]
    },
    {
     "name": "stderr",
     "output_type": "stream",
     "text": [
      "/home/ubuntu/anaconda3/lib/python3.6/site-packages/sklearn/preprocessing/label.py:151: DeprecationWarning: The truth value of an empty array is ambiguous. Returning False, but in future this will result in an error. Use `array.size > 0` to check that an array is not empty.\n",
      "  if diff:\n",
      "/home/ubuntu/anaconda3/lib/python3.6/site-packages/sklearn/preprocessing/label.py:151: DeprecationWarning: The truth value of an empty array is ambiguous. Returning False, but in future this will result in an error. Use `array.size > 0` to check that an array is not empty.\n",
      "  if diff:\n"
     ]
    },
    {
     "name": "stdout",
     "output_type": "stream",
     "text": [
      "[CV]  subsample=0.1, reg_alpha=0.6000000000000001, n_estimators=380, max_depth=6, colsample_bytree=0.6000000000000001, score=0.89453125, total=   0.2s\n",
      "[CV] subsample=0.1, reg_alpha=0.6000000000000001, n_estimators=380, max_depth=6, colsample_bytree=0.6000000000000001 \n"
     ]
    },
    {
     "name": "stderr",
     "output_type": "stream",
     "text": [
      "/home/ubuntu/anaconda3/lib/python3.6/site-packages/sklearn/preprocessing/label.py:151: DeprecationWarning: The truth value of an empty array is ambiguous. Returning False, but in future this will result in an error. Use `array.size > 0` to check that an array is not empty.\n",
      "  if diff:\n",
      "/home/ubuntu/anaconda3/lib/python3.6/site-packages/sklearn/preprocessing/label.py:151: DeprecationWarning: The truth value of an empty array is ambiguous. Returning False, but in future this will result in an error. Use `array.size > 0` to check that an array is not empty.\n",
      "  if diff:\n"
     ]
    },
    {
     "name": "stdout",
     "output_type": "stream",
     "text": [
      "[CV]  subsample=0.1, reg_alpha=0.6000000000000001, n_estimators=380, max_depth=6, colsample_bytree=0.6000000000000001, score=0.84765625, total=   0.2s\n",
      "[CV] subsample=0.9, reg_alpha=0.8, n_estimators=1480, max_depth=5, colsample_bytree=0.0 \n",
      "[CV] subsample=0.9, reg_alpha=0.8, n_estimators=1480, max_depth=5, colsample_bytree=0.0 \n"
     ]
    },
    {
     "name": "stderr",
     "output_type": "stream",
     "text": [
      "/home/ubuntu/anaconda3/lib/python3.6/site-packages/sklearn/preprocessing/label.py:151: DeprecationWarning: The truth value of an empty array is ambiguous. Returning False, but in future this will result in an error. Use `array.size > 0` to check that an array is not empty.\n",
      "  if diff:\n",
      "/home/ubuntu/anaconda3/lib/python3.6/site-packages/sklearn/preprocessing/label.py:151: DeprecationWarning: The truth value of an empty array is ambiguous. Returning False, but in future this will result in an error. Use `array.size > 0` to check that an array is not empty.\n",
      "  if diff:\n"
     ]
    },
    {
     "name": "stdout",
     "output_type": "stream",
     "text": [
      "[CV]  subsample=0.1, reg_alpha=0.6000000000000001, n_estimators=380, max_depth=6, colsample_bytree=0.6000000000000001, score=0.90234375, total=   0.2s\n",
      "[CV] subsample=0.9, reg_alpha=0.8, n_estimators=1480, max_depth=5, colsample_bytree=0.0 \n",
      "[CV] subsample=0.9, reg_alpha=0.8, n_estimators=1480, max_depth=5, colsample_bytree=0.0 \n"
     ]
    },
    {
     "name": "stderr",
     "output_type": "stream",
     "text": [
      "/home/ubuntu/anaconda3/lib/python3.6/site-packages/sklearn/preprocessing/label.py:151: DeprecationWarning: The truth value of an empty array is ambiguous. Returning False, but in future this will result in an error. Use `array.size > 0` to check that an array is not empty.\n",
      "  if diff:\n",
      "/home/ubuntu/anaconda3/lib/python3.6/site-packages/sklearn/preprocessing/label.py:151: DeprecationWarning: The truth value of an empty array is ambiguous. Returning False, but in future this will result in an error. Use `array.size > 0` to check that an array is not empty.\n",
      "  if diff:\n",
      "/home/ubuntu/anaconda3/lib/python3.6/site-packages/sklearn/preprocessing/label.py:151: DeprecationWarning: The truth value of an empty array is ambiguous. Returning False, but in future this will result in an error. Use `array.size > 0` to check that an array is not empty.\n",
      "  if diff:\n",
      "/home/ubuntu/anaconda3/lib/python3.6/site-packages/sklearn/preprocessing/label.py:151: DeprecationWarning: The truth value of an empty array is ambiguous. Returning False, but in future this will result in an error. Use `array.size > 0` to check that an array is not empty.\n",
      "  if diff:\n"
     ]
    },
    {
     "name": "stdout",
     "output_type": "stream",
     "text": [
      "[CV]  subsample=0.1, reg_alpha=0.6000000000000001, n_estimators=380, max_depth=6, colsample_bytree=0.6000000000000001, score=0.8745098039215686, total=   0.2s\n",
      "[CV] subsample=0.7000000000000001, reg_alpha=0.5, n_estimators=580, max_depth=2, colsample_bytree=0.5 \n",
      "[CV] subsample=0.9, reg_alpha=0.8, n_estimators=1480, max_depth=5, colsample_bytree=0.0 \n",
      "[CV] subsample=0.7000000000000001, reg_alpha=0.5, n_estimators=580, max_depth=2, colsample_bytree=0.5 \n",
      "[CV] subsample=0.7000000000000001, reg_alpha=0.5, n_estimators=580, max_depth=2, colsample_bytree=0.5 \n"
     ]
    },
    {
     "name": "stderr",
     "output_type": "stream",
     "text": [
      "/home/ubuntu/anaconda3/lib/python3.6/site-packages/sklearn/preprocessing/label.py:151: DeprecationWarning: The truth value of an empty array is ambiguous. Returning False, but in future this will result in an error. Use `array.size > 0` to check that an array is not empty.\n",
      "  if diff:\n"
     ]
    },
    {
     "name": "stdout",
     "output_type": "stream",
     "text": [
      "[CV]  subsample=0.9, reg_alpha=0.30000000000000004, n_estimators=1280, max_depth=4, colsample_bytree=0.30000000000000004, score=0.90625, total=   0.8s\n",
      "[CV] subsample=0.7000000000000001, reg_alpha=0.5, n_estimators=580, max_depth=2, colsample_bytree=0.5 \n"
     ]
    },
    {
     "name": "stderr",
     "output_type": "stream",
     "text": [
      "/home/ubuntu/anaconda3/lib/python3.6/site-packages/sklearn/preprocessing/label.py:151: DeprecationWarning: The truth value of an empty array is ambiguous. Returning False, but in future this will result in an error. Use `array.size > 0` to check that an array is not empty.\n",
      "  if diff:\n"
     ]
    },
    {
     "name": "stdout",
     "output_type": "stream",
     "text": [
      "[CV]  subsample=0.9, reg_alpha=0.30000000000000004, n_estimators=1280, max_depth=4, colsample_bytree=0.30000000000000004, score=0.875, total=   0.8s\n",
      "[CV] subsample=0.7000000000000001, reg_alpha=0.5, n_estimators=580, max_depth=2, colsample_bytree=0.5 \n"
     ]
    },
    {
     "name": "stderr",
     "output_type": "stream",
     "text": [
      "/home/ubuntu/anaconda3/lib/python3.6/site-packages/sklearn/preprocessing/label.py:151: DeprecationWarning: The truth value of an empty array is ambiguous. Returning False, but in future this will result in an error. Use `array.size > 0` to check that an array is not empty.\n",
      "  if diff:\n",
      "[Parallel(n_jobs=8)]: Done  25 tasks      | elapsed:    2.1s\n",
      "/home/ubuntu/anaconda3/lib/python3.6/site-packages/sklearn/preprocessing/label.py:151: DeprecationWarning: The truth value of an empty array is ambiguous. Returning False, but in future this will result in an error. Use `array.size > 0` to check that an array is not empty.\n",
      "  if diff:\n",
      "/home/ubuntu/anaconda3/lib/python3.6/site-packages/sklearn/preprocessing/label.py:151: DeprecationWarning: The truth value of an empty array is ambiguous. Returning False, but in future this will result in an error. Use `array.size > 0` to check that an array is not empty.\n",
      "  if diff:\n",
      "/home/ubuntu/anaconda3/lib/python3.6/site-packages/sklearn/preprocessing/label.py:151: DeprecationWarning: The truth value of an empty array is ambiguous. Returning False, but in future this will result in an error. Use `array.size > 0` to check that an array is not empty.\n",
      "  if diff:\n"
     ]
    },
    {
     "name": "stdout",
     "output_type": "stream",
     "text": [
      "[CV]  subsample=0.9, reg_alpha=0.30000000000000004, n_estimators=1280, max_depth=4, colsample_bytree=0.30000000000000004, score=0.875, total=   0.8s\n",
      "[CV] subsample=0.9, reg_alpha=0.1, n_estimators=80, max_depth=4, colsample_bytree=0.1 \n"
     ]
    },
    {
     "name": "stderr",
     "output_type": "stream",
     "text": [
      "/home/ubuntu/anaconda3/lib/python3.6/site-packages/sklearn/preprocessing/label.py:151: DeprecationWarning: The truth value of an empty array is ambiguous. Returning False, but in future this will result in an error. Use `array.size > 0` to check that an array is not empty.\n",
      "  if diff:\n",
      "/home/ubuntu/anaconda3/lib/python3.6/site-packages/sklearn/preprocessing/label.py:151: DeprecationWarning: The truth value of an empty array is ambiguous. Returning False, but in future this will result in an error. Use `array.size > 0` to check that an array is not empty.\n",
      "  if diff:\n"
     ]
    },
    {
     "name": "stdout",
     "output_type": "stream",
     "text": [
      "[CV]  subsample=0.9, reg_alpha=0.30000000000000004, n_estimators=1280, max_depth=4, colsample_bytree=0.30000000000000004, score=0.8980392156862745, total=   0.8s\n"
     ]
    },
    {
     "name": "stderr",
     "output_type": "stream",
     "text": [
      "/home/ubuntu/anaconda3/lib/python3.6/site-packages/sklearn/preprocessing/label.py:151: DeprecationWarning: The truth value of an empty array is ambiguous. Returning False, but in future this will result in an error. Use `array.size > 0` to check that an array is not empty.\n",
      "  if diff:\n"
     ]
    },
    {
     "name": "stdout",
     "output_type": "stream",
     "text": [
      "[CV] subsample=0.9, reg_alpha=0.1, n_estimators=80, max_depth=4, colsample_bytree=0.1 \n"
     ]
    },
    {
     "name": "stderr",
     "output_type": "stream",
     "text": [
      "/home/ubuntu/anaconda3/lib/python3.6/site-packages/sklearn/preprocessing/label.py:151: DeprecationWarning: The truth value of an empty array is ambiguous. Returning False, but in future this will result in an error. Use `array.size > 0` to check that an array is not empty.\n",
      "  if diff:\n",
      "/home/ubuntu/anaconda3/lib/python3.6/site-packages/sklearn/preprocessing/label.py:151: DeprecationWarning: The truth value of an empty array is ambiguous. Returning False, but in future this will result in an error. Use `array.size > 0` to check that an array is not empty.\n",
      "  if diff:\n"
     ]
    },
    {
     "name": "stdout",
     "output_type": "stream",
     "text": [
      "[CV]  subsample=0.9, reg_alpha=0.30000000000000004, n_estimators=1280, max_depth=4, colsample_bytree=0.30000000000000004, score=0.9140625, total=   0.8s\n",
      "[CV]  subsample=0.9, reg_alpha=0.1, n_estimators=80, max_depth=4, colsample_bytree=0.1, score=0.88671875, total=   0.0s\n",
      "[CV] subsample=0.9, reg_alpha=0.1, n_estimators=80, max_depth=4, colsample_bytree=0.1 \n"
     ]
    },
    {
     "name": "stderr",
     "output_type": "stream",
     "text": [
      "/home/ubuntu/anaconda3/lib/python3.6/site-packages/sklearn/preprocessing/label.py:151: DeprecationWarning: The truth value of an empty array is ambiguous. Returning False, but in future this will result in an error. Use `array.size > 0` to check that an array is not empty.\n",
      "  if diff:\n",
      "/home/ubuntu/anaconda3/lib/python3.6/site-packages/sklearn/preprocessing/label.py:151: DeprecationWarning: The truth value of an empty array is ambiguous. Returning False, but in future this will result in an error. Use `array.size > 0` to check that an array is not empty.\n",
      "  if diff:\n",
      "/home/ubuntu/anaconda3/lib/python3.6/site-packages/sklearn/preprocessing/label.py:151: DeprecationWarning: The truth value of an empty array is ambiguous. Returning False, but in future this will result in an error. Use `array.size > 0` to check that an array is not empty.\n",
      "  if diff:\n"
     ]
    },
    {
     "name": "stdout",
     "output_type": "stream",
     "text": [
      "[CV]  subsample=0.7000000000000001, reg_alpha=0.5, n_estimators=580, max_depth=2, colsample_bytree=0.5, score=0.90234375, total=   0.3s\n"
     ]
    },
    {
     "name": "stderr",
     "output_type": "stream",
     "text": [
      "/home/ubuntu/anaconda3/lib/python3.6/site-packages/sklearn/preprocessing/label.py:151: DeprecationWarning: The truth value of an empty array is ambiguous. Returning False, but in future this will result in an error. Use `array.size > 0` to check that an array is not empty.\n",
      "  if diff:\n",
      "/home/ubuntu/anaconda3/lib/python3.6/site-packages/sklearn/preprocessing/label.py:151: DeprecationWarning: The truth value of an empty array is ambiguous. Returning False, but in future this will result in an error. Use `array.size > 0` to check that an array is not empty.\n",
      "  if diff:\n"
     ]
    },
    {
     "name": "stdout",
     "output_type": "stream",
     "text": [
      "[CV]  subsample=0.7000000000000001, reg_alpha=0.5, n_estimators=580, max_depth=2, colsample_bytree=0.5, score=0.8671875, total=   0.3s\n"
     ]
    },
    {
     "name": "stderr",
     "output_type": "stream",
     "text": [
      "/home/ubuntu/anaconda3/lib/python3.6/site-packages/sklearn/preprocessing/label.py:151: DeprecationWarning: The truth value of an empty array is ambiguous. Returning False, but in future this will result in an error. Use `array.size > 0` to check that an array is not empty.\n",
      "  if diff:\n"
     ]
    },
    {
     "name": "stdout",
     "output_type": "stream",
     "text": [
      "[CV]  subsample=0.9, reg_alpha=0.1, n_estimators=80, max_depth=4, colsample_bytree=0.1, score=0.890625, total=   0.0s\n"
     ]
    },
    {
     "name": "stderr",
     "output_type": "stream",
     "text": [
      "/home/ubuntu/anaconda3/lib/python3.6/site-packages/sklearn/preprocessing/label.py:151: DeprecationWarning: The truth value of an empty array is ambiguous. Returning False, but in future this will result in an error. Use `array.size > 0` to check that an array is not empty.\n",
      "  if diff:\n",
      "/home/ubuntu/anaconda3/lib/python3.6/site-packages/sklearn/preprocessing/label.py:151: DeprecationWarning: The truth value of an empty array is ambiguous. Returning False, but in future this will result in an error. Use `array.size > 0` to check that an array is not empty.\n",
      "  if diff:\n"
     ]
    },
    {
     "name": "stdout",
     "output_type": "stream",
     "text": [
      "[CV]  subsample=0.7000000000000001, reg_alpha=0.5, n_estimators=580, max_depth=2, colsample_bytree=0.5, score=0.87109375, total=   0.3s\n"
     ]
    },
    {
     "name": "stderr",
     "output_type": "stream",
     "text": [
      "/home/ubuntu/anaconda3/lib/python3.6/site-packages/sklearn/preprocessing/label.py:151: DeprecationWarning: The truth value of an empty array is ambiguous. Returning False, but in future this will result in an error. Use `array.size > 0` to check that an array is not empty.\n",
      "  if diff:\n",
      "/home/ubuntu/anaconda3/lib/python3.6/site-packages/sklearn/preprocessing/label.py:151: DeprecationWarning: The truth value of an empty array is ambiguous. Returning False, but in future this will result in an error. Use `array.size > 0` to check that an array is not empty.\n",
      "  if diff:\n",
      "/home/ubuntu/anaconda3/lib/python3.6/site-packages/sklearn/preprocessing/label.py:151: DeprecationWarning: The truth value of an empty array is ambiguous. Returning False, but in future this will result in an error. Use `array.size > 0` to check that an array is not empty.\n",
      "  if diff:\n"
     ]
    },
    {
     "name": "stdout",
     "output_type": "stream",
     "text": [
      "[CV]  subsample=0.9, reg_alpha=0.1, n_estimators=80, max_depth=4, colsample_bytree=0.1, score=0.8671875, total=   0.0s\n"
     ]
    },
    {
     "ename": "JoblibXGBoostError",
     "evalue": "JoblibXGBoostError\n___________________________________________________________________________\nMultiprocessing exception:\n...........................................................................\n/home/ubuntu/anaconda3/lib/python3.6/runpy.py in _run_module_as_main(mod_name='ipykernel_launcher', alter_argv=1)\n    188         sys.exit(msg)\n    189     main_globals = sys.modules[\"__main__\"].__dict__\n    190     if alter_argv:\n    191         sys.argv[0] = mod_spec.origin\n    192     return _run_code(code, main_globals, None,\n--> 193                      \"__main__\", mod_spec)\n        mod_spec = ModuleSpec(name='ipykernel_launcher', loader=<_f...b/python3.6/site-packages/ipykernel_launcher.py')\n    194 \n    195 def run_module(mod_name, init_globals=None,\n    196                run_name=None, alter_sys=False):\n    197     \"\"\"Execute a module's code without importing it\n\n...........................................................................\n/home/ubuntu/anaconda3/lib/python3.6/runpy.py in _run_code(code=<code object <module> at 0x7ff35eec74b0, file \"/...3.6/site-packages/ipykernel_launcher.py\", line 5>, run_globals={'__annotations__': {}, '__builtins__': <module 'builtins' (built-in)>, '__cached__': '/home/ubuntu/anaconda3/lib/python3.6/site-packages/__pycache__/ipykernel_launcher.cpython-36.pyc', '__doc__': 'Entry point for launching an IPython kernel.\\n\\nTh...orts until\\nafter removing the cwd from sys.path.\\n', '__file__': '/home/ubuntu/anaconda3/lib/python3.6/site-packages/ipykernel_launcher.py', '__loader__': <_frozen_importlib_external.SourceFileLoader object>, '__name__': '__main__', '__package__': '', '__spec__': ModuleSpec(name='ipykernel_launcher', loader=<_f...b/python3.6/site-packages/ipykernel_launcher.py'), 'app': <module 'ipykernel.kernelapp' from '/home/ubuntu.../python3.6/site-packages/ipykernel/kernelapp.py'>, ...}, init_globals=None, mod_name='__main__', mod_spec=ModuleSpec(name='ipykernel_launcher', loader=<_f...b/python3.6/site-packages/ipykernel_launcher.py'), pkg_name='', script_name=None)\n     80                        __cached__ = cached,\n     81                        __doc__ = None,\n     82                        __loader__ = loader,\n     83                        __package__ = pkg_name,\n     84                        __spec__ = mod_spec)\n---> 85     exec(code, run_globals)\n        code = <code object <module> at 0x7ff35eec74b0, file \"/...3.6/site-packages/ipykernel_launcher.py\", line 5>\n        run_globals = {'__annotations__': {}, '__builtins__': <module 'builtins' (built-in)>, '__cached__': '/home/ubuntu/anaconda3/lib/python3.6/site-packages/__pycache__/ipykernel_launcher.cpython-36.pyc', '__doc__': 'Entry point for launching an IPython kernel.\\n\\nTh...orts until\\nafter removing the cwd from sys.path.\\n', '__file__': '/home/ubuntu/anaconda3/lib/python3.6/site-packages/ipykernel_launcher.py', '__loader__': <_frozen_importlib_external.SourceFileLoader object>, '__name__': '__main__', '__package__': '', '__spec__': ModuleSpec(name='ipykernel_launcher', loader=<_f...b/python3.6/site-packages/ipykernel_launcher.py'), 'app': <module 'ipykernel.kernelapp' from '/home/ubuntu.../python3.6/site-packages/ipykernel/kernelapp.py'>, ...}\n     86     return run_globals\n     87 \n     88 def _run_module_code(code, init_globals=None,\n     89                     mod_name=None, mod_spec=None,\n\n...........................................................................\n/home/ubuntu/anaconda3/lib/python3.6/site-packages/ipykernel_launcher.py in <module>()\n     11     # This is added back by InteractiveShellApp.init_path()\n     12     if sys.path[0] == '':\n     13         del sys.path[0]\n     14 \n     15     from ipykernel import kernelapp as app\n---> 16     app.launch_new_instance()\n\n...........................................................................\n/home/ubuntu/anaconda3/lib/python3.6/site-packages/traitlets/config/application.py in launch_instance(cls=<class 'ipykernel.kernelapp.IPKernelApp'>, argv=None, **kwargs={})\n    653 \n    654         If a global instance already exists, this reinitializes and starts it\n    655         \"\"\"\n    656         app = cls.instance(**kwargs)\n    657         app.initialize(argv)\n--> 658         app.start()\n        app.start = <bound method IPKernelApp.start of <ipykernel.kernelapp.IPKernelApp object>>\n    659 \n    660 #-----------------------------------------------------------------------------\n    661 # utility functions, for convenience\n    662 #-----------------------------------------------------------------------------\n\n...........................................................................\n/home/ubuntu/anaconda3/lib/python3.6/site-packages/ipykernel/kernelapp.py in start(self=<ipykernel.kernelapp.IPKernelApp object>)\n    472             return self.subapp.start()\n    473         if self.poller is not None:\n    474             self.poller.start()\n    475         self.kernel.start()\n    476         try:\n--> 477             ioloop.IOLoop.instance().start()\n    478         except KeyboardInterrupt:\n    479             pass\n    480 \n    481 launch_new_instance = IPKernelApp.launch_instance\n\n...........................................................................\n/home/ubuntu/anaconda3/lib/python3.6/site-packages/zmq/eventloop/ioloop.py in start(self=<zmq.eventloop.ioloop.ZMQIOLoop object>)\n    172             )\n    173         return loop\n    174     \n    175     def start(self):\n    176         try:\n--> 177             super(ZMQIOLoop, self).start()\n        self.start = <bound method ZMQIOLoop.start of <zmq.eventloop.ioloop.ZMQIOLoop object>>\n    178         except ZMQError as e:\n    179             if e.errno == ETERM:\n    180                 # quietly return on ETERM\n    181                 pass\n\n...........................................................................\n/home/ubuntu/anaconda3/lib/python3.6/site-packages/tornado/ioloop.py in start(self=<zmq.eventloop.ioloop.ZMQIOLoop object>)\n    883                 self._events.update(event_pairs)\n    884                 while self._events:\n    885                     fd, events = self._events.popitem()\n    886                     try:\n    887                         fd_obj, handler_func = self._handlers[fd]\n--> 888                         handler_func(fd_obj, events)\n        handler_func = <function wrap.<locals>.null_wrapper>\n        fd_obj = <zmq.sugar.socket.Socket object>\n        events = 1\n    889                     except (OSError, IOError) as e:\n    890                         if errno_from_exception(e) == errno.EPIPE:\n    891                             # Happens when the client closes the connection\n    892                             pass\n\n...........................................................................\n/home/ubuntu/anaconda3/lib/python3.6/site-packages/tornado/stack_context.py in null_wrapper(*args=(<zmq.sugar.socket.Socket object>, 1), **kwargs={})\n    272         # Fast path when there are no active contexts.\n    273         def null_wrapper(*args, **kwargs):\n    274             try:\n    275                 current_state = _state.contexts\n    276                 _state.contexts = cap_contexts[0]\n--> 277                 return fn(*args, **kwargs)\n        args = (<zmq.sugar.socket.Socket object>, 1)\n        kwargs = {}\n    278             finally:\n    279                 _state.contexts = current_state\n    280         null_wrapper._wrapped = True\n    281         return null_wrapper\n\n...........................................................................\n/home/ubuntu/anaconda3/lib/python3.6/site-packages/zmq/eventloop/zmqstream.py in _handle_events(self=<zmq.eventloop.zmqstream.ZMQStream object>, fd=<zmq.sugar.socket.Socket object>, events=1)\n    435             # dispatch events:\n    436             if events & IOLoop.ERROR:\n    437                 gen_log.error(\"got POLLERR event on ZMQStream, which doesn't make sense\")\n    438                 return\n    439             if events & IOLoop.READ:\n--> 440                 self._handle_recv()\n        self._handle_recv = <bound method ZMQStream._handle_recv of <zmq.eventloop.zmqstream.ZMQStream object>>\n    441                 if not self.socket:\n    442                     return\n    443             if events & IOLoop.WRITE:\n    444                 self._handle_send()\n\n...........................................................................\n/home/ubuntu/anaconda3/lib/python3.6/site-packages/zmq/eventloop/zmqstream.py in _handle_recv(self=<zmq.eventloop.zmqstream.ZMQStream object>)\n    467                 gen_log.error(\"RECV Error: %s\"%zmq.strerror(e.errno))\n    468         else:\n    469             if self._recv_callback:\n    470                 callback = self._recv_callback\n    471                 # self._recv_callback = None\n--> 472                 self._run_callback(callback, msg)\n        self._run_callback = <bound method ZMQStream._run_callback of <zmq.eventloop.zmqstream.ZMQStream object>>\n        callback = <function wrap.<locals>.null_wrapper>\n        msg = [<zmq.sugar.frame.Frame object>, <zmq.sugar.frame.Frame object>, <zmq.sugar.frame.Frame object>, <zmq.sugar.frame.Frame object>, <zmq.sugar.frame.Frame object>, <zmq.sugar.frame.Frame object>, <zmq.sugar.frame.Frame object>]\n    473                 \n    474         # self.update_state()\n    475         \n    476 \n\n...........................................................................\n/home/ubuntu/anaconda3/lib/python3.6/site-packages/zmq/eventloop/zmqstream.py in _run_callback(self=<zmq.eventloop.zmqstream.ZMQStream object>, callback=<function wrap.<locals>.null_wrapper>, *args=([<zmq.sugar.frame.Frame object>, <zmq.sugar.frame.Frame object>, <zmq.sugar.frame.Frame object>, <zmq.sugar.frame.Frame object>, <zmq.sugar.frame.Frame object>, <zmq.sugar.frame.Frame object>, <zmq.sugar.frame.Frame object>],), **kwargs={})\n    409         close our socket.\"\"\"\n    410         try:\n    411             # Use a NullContext to ensure that all StackContexts are run\n    412             # inside our blanket exception handler rather than outside.\n    413             with stack_context.NullContext():\n--> 414                 callback(*args, **kwargs)\n        callback = <function wrap.<locals>.null_wrapper>\n        args = ([<zmq.sugar.frame.Frame object>, <zmq.sugar.frame.Frame object>, <zmq.sugar.frame.Frame object>, <zmq.sugar.frame.Frame object>, <zmq.sugar.frame.Frame object>, <zmq.sugar.frame.Frame object>, <zmq.sugar.frame.Frame object>],)\n        kwargs = {}\n    415         except:\n    416             gen_log.error(\"Uncaught exception, closing connection.\",\n    417                           exc_info=True)\n    418             # Close the socket on an uncaught exception from a user callback\n\n...........................................................................\n/home/ubuntu/anaconda3/lib/python3.6/site-packages/tornado/stack_context.py in null_wrapper(*args=([<zmq.sugar.frame.Frame object>, <zmq.sugar.frame.Frame object>, <zmq.sugar.frame.Frame object>, <zmq.sugar.frame.Frame object>, <zmq.sugar.frame.Frame object>, <zmq.sugar.frame.Frame object>, <zmq.sugar.frame.Frame object>],), **kwargs={})\n    272         # Fast path when there are no active contexts.\n    273         def null_wrapper(*args, **kwargs):\n    274             try:\n    275                 current_state = _state.contexts\n    276                 _state.contexts = cap_contexts[0]\n--> 277                 return fn(*args, **kwargs)\n        args = ([<zmq.sugar.frame.Frame object>, <zmq.sugar.frame.Frame object>, <zmq.sugar.frame.Frame object>, <zmq.sugar.frame.Frame object>, <zmq.sugar.frame.Frame object>, <zmq.sugar.frame.Frame object>, <zmq.sugar.frame.Frame object>],)\n        kwargs = {}\n    278             finally:\n    279                 _state.contexts = current_state\n    280         null_wrapper._wrapped = True\n    281         return null_wrapper\n\n...........................................................................\n/home/ubuntu/anaconda3/lib/python3.6/site-packages/ipykernel/kernelbase.py in dispatcher(msg=[<zmq.sugar.frame.Frame object>, <zmq.sugar.frame.Frame object>, <zmq.sugar.frame.Frame object>, <zmq.sugar.frame.Frame object>, <zmq.sugar.frame.Frame object>, <zmq.sugar.frame.Frame object>, <zmq.sugar.frame.Frame object>])\n    278         if self.control_stream:\n    279             self.control_stream.on_recv(self.dispatch_control, copy=False)\n    280 \n    281         def make_dispatcher(stream):\n    282             def dispatcher(msg):\n--> 283                 return self.dispatch_shell(stream, msg)\n        msg = [<zmq.sugar.frame.Frame object>, <zmq.sugar.frame.Frame object>, <zmq.sugar.frame.Frame object>, <zmq.sugar.frame.Frame object>, <zmq.sugar.frame.Frame object>, <zmq.sugar.frame.Frame object>, <zmq.sugar.frame.Frame object>]\n    284             return dispatcher\n    285 \n    286         for s in self.shell_streams:\n    287             s.on_recv(make_dispatcher(s), copy=False)\n\n...........................................................................\n/home/ubuntu/anaconda3/lib/python3.6/site-packages/ipykernel/kernelbase.py in dispatch_shell(self=<ipykernel.ipkernel.IPythonKernel object>, stream=<zmq.eventloop.zmqstream.ZMQStream object>, msg={'buffers': [], 'content': {'allow_stdin': True, 'code': '%time\\nrs.fit(train, target)', 'silent': False, 'stop_on_error': True, 'store_history': True, 'user_expressions': {}}, 'header': {'date': datetime.datetime(2019, 2, 24, 1, 52, 40, 286472, tzinfo=datetime.timezone.utc), 'msg_id': '3CDFD4BB9E694BB487F40AFFCD4A33A0', 'msg_type': 'execute_request', 'session': '4E55EA9ECDB44D2D849E8F9A7AEBF08F', 'username': 'username', 'version': '5.0'}, 'metadata': {}, 'msg_id': '3CDFD4BB9E694BB487F40AFFCD4A33A0', 'msg_type': 'execute_request', 'parent_header': {}})\n    230             self.log.warn(\"Unknown message type: %r\", msg_type)\n    231         else:\n    232             self.log.debug(\"%s: %s\", msg_type, msg)\n    233             self.pre_handler_hook()\n    234             try:\n--> 235                 handler(stream, idents, msg)\n        handler = <bound method Kernel.execute_request of <ipykernel.ipkernel.IPythonKernel object>>\n        stream = <zmq.eventloop.zmqstream.ZMQStream object>\n        idents = [b'4E55EA9ECDB44D2D849E8F9A7AEBF08F']\n        msg = {'buffers': [], 'content': {'allow_stdin': True, 'code': '%time\\nrs.fit(train, target)', 'silent': False, 'stop_on_error': True, 'store_history': True, 'user_expressions': {}}, 'header': {'date': datetime.datetime(2019, 2, 24, 1, 52, 40, 286472, tzinfo=datetime.timezone.utc), 'msg_id': '3CDFD4BB9E694BB487F40AFFCD4A33A0', 'msg_type': 'execute_request', 'session': '4E55EA9ECDB44D2D849E8F9A7AEBF08F', 'username': 'username', 'version': '5.0'}, 'metadata': {}, 'msg_id': '3CDFD4BB9E694BB487F40AFFCD4A33A0', 'msg_type': 'execute_request', 'parent_header': {}}\n    236             except Exception:\n    237                 self.log.error(\"Exception in message handler:\", exc_info=True)\n    238             finally:\n    239                 self.post_handler_hook()\n\n...........................................................................\n/home/ubuntu/anaconda3/lib/python3.6/site-packages/ipykernel/kernelbase.py in execute_request(self=<ipykernel.ipkernel.IPythonKernel object>, stream=<zmq.eventloop.zmqstream.ZMQStream object>, ident=[b'4E55EA9ECDB44D2D849E8F9A7AEBF08F'], parent={'buffers': [], 'content': {'allow_stdin': True, 'code': '%time\\nrs.fit(train, target)', 'silent': False, 'stop_on_error': True, 'store_history': True, 'user_expressions': {}}, 'header': {'date': datetime.datetime(2019, 2, 24, 1, 52, 40, 286472, tzinfo=datetime.timezone.utc), 'msg_id': '3CDFD4BB9E694BB487F40AFFCD4A33A0', 'msg_type': 'execute_request', 'session': '4E55EA9ECDB44D2D849E8F9A7AEBF08F', 'username': 'username', 'version': '5.0'}, 'metadata': {}, 'msg_id': '3CDFD4BB9E694BB487F40AFFCD4A33A0', 'msg_type': 'execute_request', 'parent_header': {}})\n    394         if not silent:\n    395             self.execution_count += 1\n    396             self._publish_execute_input(code, parent, self.execution_count)\n    397 \n    398         reply_content = self.do_execute(code, silent, store_history,\n--> 399                                         user_expressions, allow_stdin)\n        user_expressions = {}\n        allow_stdin = True\n    400 \n    401         # Flush output before sending the reply.\n    402         sys.stdout.flush()\n    403         sys.stderr.flush()\n\n...........................................................................\n/home/ubuntu/anaconda3/lib/python3.6/site-packages/ipykernel/ipkernel.py in do_execute(self=<ipykernel.ipkernel.IPythonKernel object>, code='%time\\nrs.fit(train, target)', silent=False, store_history=True, user_expressions={}, allow_stdin=True)\n    191 \n    192         self._forward_input(allow_stdin)\n    193 \n    194         reply_content = {}\n    195         try:\n--> 196             res = shell.run_cell(code, store_history=store_history, silent=silent)\n        res = undefined\n        shell.run_cell = <bound method ZMQInteractiveShell.run_cell of <ipykernel.zmqshell.ZMQInteractiveShell object>>\n        code = '%time\\nrs.fit(train, target)'\n        store_history = True\n        silent = False\n    197         finally:\n    198             self._restore_input()\n    199 \n    200         if res.error_before_exec is not None:\n\n...........................................................................\n/home/ubuntu/anaconda3/lib/python3.6/site-packages/ipykernel/zmqshell.py in run_cell(self=<ipykernel.zmqshell.ZMQInteractiveShell object>, *args=('%time\\nrs.fit(train, target)',), **kwargs={'silent': False, 'store_history': True})\n    528             )\n    529         self.payload_manager.write_payload(payload)\n    530 \n    531     def run_cell(self, *args, **kwargs):\n    532         self._last_traceback = None\n--> 533         return super(ZMQInteractiveShell, self).run_cell(*args, **kwargs)\n        self.run_cell = <bound method ZMQInteractiveShell.run_cell of <ipykernel.zmqshell.ZMQInteractiveShell object>>\n        args = ('%time\\nrs.fit(train, target)',)\n        kwargs = {'silent': False, 'store_history': True}\n    534 \n    535     def _showtraceback(self, etype, evalue, stb):\n    536         # try to preserve ordering of tracebacks and print statements\n    537         sys.stdout.flush()\n\n...........................................................................\n/home/ubuntu/anaconda3/lib/python3.6/site-packages/IPython/core/interactiveshell.py in run_cell(self=<ipykernel.zmqshell.ZMQInteractiveShell object>, raw_cell='%time\\nrs.fit(train, target)', store_history=True, silent=False, shell_futures=True)\n   2712                 self.displayhook.exec_result = result\n   2713 \n   2714                 # Execute the user code\n   2715                 interactivity = \"none\" if silent else self.ast_node_interactivity\n   2716                 has_raised = self.run_ast_nodes(code_ast.body, cell_name,\n-> 2717                    interactivity=interactivity, compiler=compiler, result=result)\n        interactivity = 'last_expr'\n        compiler = <IPython.core.compilerop.CachingCompiler object>\n   2718                 \n   2719                 self.last_execution_succeeded = not has_raised\n   2720 \n   2721                 # Reset this so later displayed values do not modify the\n\n...........................................................................\n/home/ubuntu/anaconda3/lib/python3.6/site-packages/IPython/core/interactiveshell.py in run_ast_nodes(self=<ipykernel.zmqshell.ZMQInteractiveShell object>, nodelist=[<_ast.Expr object>, <_ast.Expr object>], cell_name='<ipython-input-25-6481fcfe4fa2>', interactivity='last', compiler=<IPython.core.compilerop.CachingCompiler object>, result=<ExecutionResult object at 7ff31a3972b0, executi..._before_exec=None error_in_exec=None result=None>)\n   2822                     return True\n   2823 \n   2824             for i, node in enumerate(to_run_interactive):\n   2825                 mod = ast.Interactive([node])\n   2826                 code = compiler(mod, cell_name, \"single\")\n-> 2827                 if self.run_code(code, result):\n        self.run_code = <bound method InteractiveShell.run_code of <ipykernel.zmqshell.ZMQInteractiveShell object>>\n        code = <code object <module> at 0x7ff31849a8a0, file \"<ipython-input-25-6481fcfe4fa2>\", line 2>\n        result = <ExecutionResult object at 7ff31a3972b0, executi..._before_exec=None error_in_exec=None result=None>\n   2828                     return True\n   2829 \n   2830             # Flush softspace\n   2831             if softspace(sys.stdout, 0):\n\n...........................................................................\n/home/ubuntu/anaconda3/lib/python3.6/site-packages/IPython/core/interactiveshell.py in run_code(self=<ipykernel.zmqshell.ZMQInteractiveShell object>, code_obj=<code object <module> at 0x7ff31849a8a0, file \"<ipython-input-25-6481fcfe4fa2>\", line 2>, result=<ExecutionResult object at 7ff31a3972b0, executi..._before_exec=None error_in_exec=None result=None>)\n   2876         outflag = 1  # happens in more places, so it's easier as default\n   2877         try:\n   2878             try:\n   2879                 self.hooks.pre_run_code_hook()\n   2880                 #rprint('Running code', repr(code_obj)) # dbg\n-> 2881                 exec(code_obj, self.user_global_ns, self.user_ns)\n        code_obj = <code object <module> at 0x7ff31849a8a0, file \"<ipython-input-25-6481fcfe4fa2>\", line 2>\n        self.user_global_ns = {'DecisionTreeClassifier': <class 'sklearn.tree.tree.DecisionTreeClassifier'>, 'ExtraTreesClassifier': <class 'sklearn.ensemble.forest.ExtraTreesClassifier'>, 'GridSearchCV': <class 'sklearn.model_selection._search.GridSearchCV'>, 'In': ['', 'import pandas as pd\\nimport matplotlib.pyplot as ...atifiedKFold, cross_val_score, RandomizedSearchCV', 'import catboost as cb\\nimport xgboost as xgb\\nfrom sklearn.linear_model import SGDClassifier', \"train = pd.read_csv('X_train.csv')\\ntest = pd.read_csv('X_test.csv')\", \"train = train.drop(['Unnamed: 0'], axis=1)\\ntest = test.drop(['Unnamed: 0'], axis=1)\", \"target = train['quality']\\ntrain = train.drop(['quality'], axis=1)\", 'mapping = {3:0, 4:0, 5:0, 6:0, 7:1, 8:1}\\ntarget = target.map(mapping)', 'from sklearn.preprocessing import MinMaxScaler, ...ransform(train)\\ntest = scaler.fit_transform(test)', 'k_fold = StratifiedKFold(n_splits=5, shuffle=True)', 'from sklearn.preprocessing import PolynomialFeatures', '# poly = PolynomialFeatures(2)\\n# train_poly = po...orm(train)\\n# test_poly = poly.fit_transform(test)', 'from sklearn.model_selection import cross_val_sc...r\\nfrom sklearn.tree import DecisionTreeClassifier', 'from sklearn.ensemble import RandomForestClassifier, VotingClassifier', 'sgd_clf = SGDClassifier(loss=\"hinge\", penalty=\"l2\", max_iter=5)', 'cat_clf = cb.CatBoostClassifier()', 'xgb_clf = xgb.XGBClassifier()', 'clf_1 = DecisionTreeClassifier(max_depth=None, m...th=None,\\n    min_samples_split=2, random_state=0)', \"eclf1 = VotingClassifier(estimators=[\\n        ('...), ('rf', clf_2), ('gnb', clf_3)], voting='soft')\", \"get_ipython().magic('time')\\ncat_clf_cv = cross_v...ain, target, cv = k_fold, scoring='f1', n_jobs=8)\", 'cat_clf_cv.mean() * 10**5', ...], 'MinMaxScaler': <class 'sklearn.preprocessing.data.MinMaxScaler'>, 'Out': {19: 55207.88379347415, 21: array([0. , 0.1, 0.2, 0.3, 0.4, 0.5, 0.6, 0.7, 0.8, 0.9])}, 'PolynomialFeatures': <class 'sklearn.preprocessing.data.PolynomialFeatures'>, 'RandomForestClassifier': <class 'sklearn.ensemble.forest.RandomForestClassifier'>, 'RandomizedSearchCV': <class 'sklearn.model_selection._search.RandomizedSearchCV'>, 'SGDClassifier': <class 'sklearn.linear_model.stochastic_gradient.SGDClassifier'>, ...}\n        self.user_ns = {'DecisionTreeClassifier': <class 'sklearn.tree.tree.DecisionTreeClassifier'>, 'ExtraTreesClassifier': <class 'sklearn.ensemble.forest.ExtraTreesClassifier'>, 'GridSearchCV': <class 'sklearn.model_selection._search.GridSearchCV'>, 'In': ['', 'import pandas as pd\\nimport matplotlib.pyplot as ...atifiedKFold, cross_val_score, RandomizedSearchCV', 'import catboost as cb\\nimport xgboost as xgb\\nfrom sklearn.linear_model import SGDClassifier', \"train = pd.read_csv('X_train.csv')\\ntest = pd.read_csv('X_test.csv')\", \"train = train.drop(['Unnamed: 0'], axis=1)\\ntest = test.drop(['Unnamed: 0'], axis=1)\", \"target = train['quality']\\ntrain = train.drop(['quality'], axis=1)\", 'mapping = {3:0, 4:0, 5:0, 6:0, 7:1, 8:1}\\ntarget = target.map(mapping)', 'from sklearn.preprocessing import MinMaxScaler, ...ransform(train)\\ntest = scaler.fit_transform(test)', 'k_fold = StratifiedKFold(n_splits=5, shuffle=True)', 'from sklearn.preprocessing import PolynomialFeatures', '# poly = PolynomialFeatures(2)\\n# train_poly = po...orm(train)\\n# test_poly = poly.fit_transform(test)', 'from sklearn.model_selection import cross_val_sc...r\\nfrom sklearn.tree import DecisionTreeClassifier', 'from sklearn.ensemble import RandomForestClassifier, VotingClassifier', 'sgd_clf = SGDClassifier(loss=\"hinge\", penalty=\"l2\", max_iter=5)', 'cat_clf = cb.CatBoostClassifier()', 'xgb_clf = xgb.XGBClassifier()', 'clf_1 = DecisionTreeClassifier(max_depth=None, m...th=None,\\n    min_samples_split=2, random_state=0)', \"eclf1 = VotingClassifier(estimators=[\\n        ('...), ('rf', clf_2), ('gnb', clf_3)], voting='soft')\", \"get_ipython().magic('time')\\ncat_clf_cv = cross_v...ain, target, cv = k_fold, scoring='f1', n_jobs=8)\", 'cat_clf_cv.mean() * 10**5', ...], 'MinMaxScaler': <class 'sklearn.preprocessing.data.MinMaxScaler'>, 'Out': {19: 55207.88379347415, 21: array([0. , 0.1, 0.2, 0.3, 0.4, 0.5, 0.6, 0.7, 0.8, 0.9])}, 'PolynomialFeatures': <class 'sklearn.preprocessing.data.PolynomialFeatures'>, 'RandomForestClassifier': <class 'sklearn.ensemble.forest.RandomForestClassifier'>, 'RandomizedSearchCV': <class 'sklearn.model_selection._search.RandomizedSearchCV'>, 'SGDClassifier': <class 'sklearn.linear_model.stochastic_gradient.SGDClassifier'>, ...}\n   2882             finally:\n   2883                 # Reset our crash handler in place\n   2884                 sys.excepthook = old_excepthook\n   2885         except SystemExit as e:\n\n...........................................................................\n/home/ubuntu/Notebooks/НТИ/dvfu_t1/<ipython-input-25-6481fcfe4fa2> in <module>()\n      1 get_ipython().magic('time')\n----> 2 rs.fit(train, target)\n\n...........................................................................\n/home/ubuntu/anaconda3/lib/python3.6/site-packages/sklearn/model_selection/_search.py in fit(self=RandomizedSearchCV(cv=5, error_score='raise',\n  ...eturn_train_score=True, scoring=None, verbose=10), X=array([[0.36283186, 0.39041096, 0.31      , ...,....., 0.51181102, 0.10429448,\n        0.78461538]]), y=0       0\n1       0\n2       0\n3       0\n4       ...78    0\nName: quality, Length: 1279, dtype: int64, groups=None, **fit_params={})\n    634                                   return_train_score=self.return_train_score,\n    635                                   return_n_test_samples=True,\n    636                                   return_times=True, return_parameters=False,\n    637                                   error_score=self.error_score)\n    638           for parameters, (train, test) in product(candidate_params,\n--> 639                                                    cv.split(X, y, groups)))\n        cv.split = <bound method StratifiedKFold.split of Stratifie...ld(n_splits=5, random_state=None, shuffle=False)>\n        X = array([[0.36283186, 0.39041096, 0.31      , ...,....., 0.51181102, 0.10429448,\n        0.78461538]])\n        y = 0       0\n1       0\n2       0\n3       0\n4       ...78    0\nName: quality, Length: 1279, dtype: int64\n        groups = None\n    640 \n    641         # if one choose to see train score, \"out\" will contain train score info\n    642         if self.return_train_score:\n    643             (train_score_dicts, test_score_dicts, test_sample_counts, fit_time,\n\n...........................................................................\n/home/ubuntu/anaconda3/lib/python3.6/site-packages/sklearn/externals/joblib/parallel.py in __call__(self=Parallel(n_jobs=8), iterable=<generator object BaseSearchCV.fit.<locals>.<genexpr>>)\n    784             if pre_dispatch == \"all\" or n_jobs == 1:\n    785                 # The iterable was consumed all at once by the above for loop.\n    786                 # No need to wait for async callbacks to trigger to\n    787                 # consumption.\n    788                 self._iterating = False\n--> 789             self.retrieve()\n        self.retrieve = <bound method Parallel.retrieve of Parallel(n_jobs=8)>\n    790             # Make sure that we get a last message telling us we are done\n    791             elapsed_time = time.time() - self._start_time\n    792             self._print('Done %3i out of %3i | elapsed: %s finished',\n    793                         (len(self._output), len(self._output),\n\n---------------------------------------------------------------------------\nSub-process traceback:\n---------------------------------------------------------------------------\nXGBoostError                                       Sun Feb 24 01:52:42 2019\nPID: 1882                   Python 3.6.6: /home/ubuntu/anaconda3/bin/python\n...........................................................................\n/home/ubuntu/anaconda3/lib/python3.6/site-packages/sklearn/externals/joblib/parallel.py in __call__(self=<sklearn.externals.joblib.parallel.BatchedCalls object>)\n    126     def __init__(self, iterator_slice):\n    127         self.items = list(iterator_slice)\n    128         self._size = len(self.items)\n    129 \n    130     def __call__(self):\n--> 131         return [func(*args, **kwargs) for func, args, kwargs in self.items]\n        self.items = [(<function _fit_and_score>, (XGBClassifier(base_score=0.5, booster='gbtree', ...=1, seed=None,\n       silent=True, subsample=0.9), array([[0.36283186, 0.39041096, 0.31      , ...,....., 0.51181102, 0.10429448,\n        0.78461538]]), 0       0\n1       0\n2       0\n3       0\n4       ...78    0\nName: quality, Length: 1279, dtype: int64, {'score': <function _passthrough_scorer>}, array([ 255,  256,  258, ..., 1276, 1277, 1278]), array([  0,   1,   2,   3,   4,   5,   6,   7,  ...    247, 248, 249, 250, 251, 252, 253, 254, 257]), 10, {'colsample_bytree': 0.0, 'max_depth': 5, 'n_estimators': 1480, 'reg_alpha': 0.8, 'subsample': 0.9}), {'error_score': 'raise', 'fit_params': {}, 'return_n_test_samples': True, 'return_parameters': False, 'return_times': True, 'return_train_score': True})]\n    132 \n    133     def __len__(self):\n    134         return self._size\n    135 \n\n...........................................................................\n/home/ubuntu/anaconda3/lib/python3.6/site-packages/sklearn/externals/joblib/parallel.py in <listcomp>(.0=<list_iterator object>)\n    126     def __init__(self, iterator_slice):\n    127         self.items = list(iterator_slice)\n    128         self._size = len(self.items)\n    129 \n    130     def __call__(self):\n--> 131         return [func(*args, **kwargs) for func, args, kwargs in self.items]\n        func = <function _fit_and_score>\n        args = (XGBClassifier(base_score=0.5, booster='gbtree', ...=1, seed=None,\n       silent=True, subsample=0.9), array([[0.36283186, 0.39041096, 0.31      , ...,....., 0.51181102, 0.10429448,\n        0.78461538]]), 0       0\n1       0\n2       0\n3       0\n4       ...78    0\nName: quality, Length: 1279, dtype: int64, {'score': <function _passthrough_scorer>}, array([ 255,  256,  258, ..., 1276, 1277, 1278]), array([  0,   1,   2,   3,   4,   5,   6,   7,  ...    247, 248, 249, 250, 251, 252, 253, 254, 257]), 10, {'colsample_bytree': 0.0, 'max_depth': 5, 'n_estimators': 1480, 'reg_alpha': 0.8, 'subsample': 0.9})\n        kwargs = {'error_score': 'raise', 'fit_params': {}, 'return_n_test_samples': True, 'return_parameters': False, 'return_times': True, 'return_train_score': True}\n    132 \n    133     def __len__(self):\n    134         return self._size\n    135 \n\n...........................................................................\n/home/ubuntu/anaconda3/lib/python3.6/site-packages/sklearn/model_selection/_validation.py in _fit_and_score(estimator=XGBClassifier(base_score=0.5, booster='gbtree', ...=1, seed=None,\n       silent=True, subsample=0.9), X=array([[0.36283186, 0.39041096, 0.31      , ...,....., 0.51181102, 0.10429448,\n        0.78461538]]), y=0       0\n1       0\n2       0\n3       0\n4       ...78    0\nName: quality, Length: 1279, dtype: int64, scorer={'score': <function _passthrough_scorer>}, train=array([ 255,  256,  258, ..., 1276, 1277, 1278]), test=array([  0,   1,   2,   3,   4,   5,   6,   7,  ...    247, 248, 249, 250, 251, 252, 253, 254, 257]), verbose=10, parameters={'colsample_bytree': 0.0, 'max_depth': 5, 'n_estimators': 1480, 'reg_alpha': 0.8, 'subsample': 0.9}, fit_params={}, return_train_score=True, return_parameters=False, return_n_test_samples=True, return_times=True, error_score='raise')\n    453 \n    454     try:\n    455         if y_train is None:\n    456             estimator.fit(X_train, **fit_params)\n    457         else:\n--> 458             estimator.fit(X_train, y_train, **fit_params)\n        estimator.fit = <bound method XGBClassifier.fit of XGBClassifier...1, seed=None,\n       silent=True, subsample=0.9)>\n        X_train = array([[0.27433628, 0.32876712, 0.        , ...,....., 0.51181102, 0.10429448,\n        0.78461538]])\n        y_train = 255     0\n256     0\n258     0\n259     0\n260     ...78    0\nName: quality, Length: 1023, dtype: int64\n        fit_params = {}\n    459 \n    460     except Exception as e:\n    461         # Note fit time as time until error\n    462         fit_time = time.time() - start_time\n\n...........................................................................\n/home/ubuntu/anaconda3/lib/python3.6/site-packages/xgboost/sklearn.py in fit(self=XGBClassifier(base_score=0.5, booster='gbtree', ...=1, seed=None,\n       silent=True, subsample=0.9), X=array([[0.27433628, 0.32876712, 0.        , ...,....., 0.51181102, 0.10429448,\n        0.78461538]]), y=255     0\n256     0\n258     0\n259     0\n260     ...78    0\nName: quality, Length: 1023, dtype: int64, sample_weight=None, eval_set=None, eval_metric=None, early_stopping_rounds=None, verbose=True, xgb_model=None, sample_weight_eval_set=None)\n    542 \n    543         self._Booster = train(xgb_options, train_dmatrix, self.n_estimators,\n    544                               evals=evals,\n    545                               early_stopping_rounds=early_stopping_rounds,\n    546                               evals_result=evals_result, obj=obj, feval=feval,\n--> 547                               verbose_eval=verbose, xgb_model=None)\n        verbose = True\n        xgb_model = None\n    548 \n    549         self.objective = xgb_options[\"objective\"]\n    550         if evals_result:\n    551             for val in evals_result.items():\n\n...........................................................................\n/home/ubuntu/anaconda3/lib/python3.6/site-packages/xgboost/training.py in train(params={'base_score': 0.5, 'booster': 'gbtree', 'colsample_bylevel': 1, 'colsample_bytree': 0.0, 'gamma': 0, 'learning_rate': 0.1, 'max_delta_step': 0, 'max_depth': 5, 'min_child_weight': 1, 'missing': nan, ...}, dtrain=<xgboost.core.DMatrix object>, num_boost_round=1480, evals=(), obj=None, feval=None, maximize=False, early_stopping_rounds=None, evals_result={}, verbose_eval=True, xgb_model=None, callbacks=[<function print_evaluation.<locals>.callback>, <function record_evaluation.<locals>.callback>], learning_rates=None)\n    199 \n    200     return _train_internal(params, dtrain,\n    201                            num_boost_round=num_boost_round,\n    202                            evals=evals,\n    203                            obj=obj, feval=feval,\n--> 204                            xgb_model=xgb_model, callbacks=callbacks)\n        xgb_model = None\n        callbacks = [<function print_evaluation.<locals>.callback>, <function record_evaluation.<locals>.callback>]\n    205 \n    206 \n    207 class CVPack(object):\n    208     \"\"\"\"Auxiliary datastruct to hold one fold of CV.\"\"\"\n\n...........................................................................\n/home/ubuntu/anaconda3/lib/python3.6/site-packages/xgboost/training.py in _train_internal(params={'base_score': 0.5, 'booster': 'gbtree', 'colsample_bylevel': 1, 'colsample_bytree': 0.0, 'gamma': 0, 'learning_rate': 0.1, 'max_delta_step': 0, 'max_depth': 5, 'min_child_weight': 1, 'missing': nan, ...}, dtrain=<xgboost.core.DMatrix object>, num_boost_round=1480, evals=[], obj=None, feval=None, xgb_model=None, callbacks=[<function print_evaluation.<locals>.callback>, <function record_evaluation.<locals>.callback>])\n     69                            rank=rank,\n     70                            evaluation_result_list=None))\n     71         # Distributed code: need to resume to this point.\n     72         # Skip the first update if it is a recovery step.\n     73         if version % 2 == 0:\n---> 74             bst.update(dtrain, i, obj)\n        bst.update = <bound method Booster.update of <xgboost.core.Booster object>>\n        dtrain = <xgboost.core.DMatrix object>\n        i = 0\n        obj = None\n     75             bst.save_rabit_checkpoint()\n     76             version += 1\n     77 \n     78         assert(rabit.get_world_size() == 1 or version == rabit.version_number())\n\n...........................................................................\n/home/ubuntu/anaconda3/lib/python3.6/site-packages/xgboost/core.py in update(self=<xgboost.core.Booster object>, dtrain=<xgboost.core.DMatrix object>, iteration=0, fobj=None)\n   1016             raise TypeError('invalid training matrix: {}'.format(type(dtrain).__name__))\n   1017         self._validate_features(dtrain)\n   1018 \n   1019         if fobj is None:\n   1020             _check_call(_LIB.XGBoosterUpdateOneIter(self.handle, ctypes.c_int(iteration),\n-> 1021                                                     dtrain.handle))\n        dtrain.handle = c_void_p(94544844770000)\n   1022         else:\n   1023             pred = self.predict(dtrain)\n   1024             grad, hess = fobj(pred, dtrain)\n   1025             self.boost(dtrain, grad, hess)\n\n...........................................................................\n/home/ubuntu/anaconda3/lib/python3.6/site-packages/xgboost/core.py in _check_call(ret=-1)\n    146     ----------\n    147     ret : int\n    148         return value from API calls\n    149     \"\"\"\n    150     if ret != 0:\n--> 151         raise XGBoostError(_LIB.XGBGetLastError())\n    152 \n    153 \n    154 def ctypes2numpy(cptr, length, dtype):\n    155     \"\"\"Convert a ctypes pointer array to a numpy array.\n\nXGBoostError: b'[01:52:42] /workspace/src/tree/updater_colmaker.cc:186: Check failed: param_.colsample_bytree > 0U (0 vs. 0) colsample_bytree cannot be zero.\\n\\nStack trace returned 10 entries:\\n[bt] (0) /home/ubuntu/anaconda3/xgboost/libxgboost.so(dmlc::StackTrace()+0x42) [0x7ff31d8e54a2]\\n[bt] (1) /home/ubuntu/anaconda3/xgboost/libxgboost.so(dmlc::LogMessageFatal::~LogMessageFatal()+0x18) [0x7ff31d8e5b08]\\n[bt] (2) /home/ubuntu/anaconda3/xgboost/libxgboost.so(xgboost::tree::ColMaker::Builder::InitData(std::vector<xgboost::detail::GradientPairInternal<float>, std::allocator<xgboost::detail::GradientPairInternal<float> > > const&, xgboost::DMatrix const&, xgboost::RegTree const&)+0x3aa) [0x7ff31da328ba]\\n[bt] (3) /home/ubuntu/anaconda3/xgboost/libxgboost.so(xgboost::tree::ColMaker::Builder::Update(std::vector<xgboost::detail::GradientPairInternal<float>, std::allocator<xgboost::detail::GradientPairInternal<float> > > const&, xgboost::DMatrix*, xgboost::RegTree*)+0x47) [0x7ff31da33f67]\\n[bt] (4) /home/ubuntu/anaconda3/xgboost/libxgboost.so(xgboost::tree::ColMaker::Update(xgboost::HostDeviceVector<xgboost::detail::GradientPairInternal<float> >*, xgboost::DMatrix*, std::vector<xgboost::RegTree*, std::allocator<xgboost::RegTree*> > const&)+0x188) [0x7ff31da34ce8]\\n[bt] (5) /home/ubuntu/anaconda3/xgboost/libxgboost.so(xgboost::gbm::GBTree::BoostNewTrees(xgboost::HostDeviceVector<xgboost::detail::GradientPairInternal<float> >*, xgboost::DMatrix*, int, std::vector<std::unique_ptr<xgboost::RegTree, std::default_delete<xgboost::RegTree> >, std::allocator<std::unique_ptr<xgboost::RegTree, std::default_delete<xgboost::RegTree> > > >*)+0x5a8) [0x7ff31d9622c8]\\n[bt] (6) /home/ubuntu/anaconda3/xgboost/libxgboost.so(xgboost::gbm::GBTree::DoBoost(xgboost::DMatrix*, xgboost::HostDeviceVector<xgboost::detail::GradientPairInternal<float> >*, xgboost::ObjFunction*)+0x8c6) [0x7ff31d963046]\\n[bt] (7) /home/ubuntu/anaconda3/xgboost/libxgboost.so(xgboost::LearnerImpl::UpdateOneIter(int, xgboost::DMatrix*)+0x3b8) [0x7ff31d995a88]\\n[bt] (8) /home/ubuntu/anaconda3/xgboost/libxgboost.so(XGBoosterUpdateOneIter+0x35) [0x7ff31d925515]\\n[bt] (9) /home/ubuntu/anaconda3/lib/python3.6/lib-dynload/../../libffi.so.6(ffi_call_unix64+0x4c) [0x7ff3599eeadc]\\n\\n'\n___________________________________________________________________________",
     "output_type": "error",
     "traceback": [
      "\u001b[0;31m---------------------------------------------------------------------------\u001b[0m",
      "\u001b[0;31mRemoteTraceback\u001b[0m                           Traceback (most recent call last)",
      "\u001b[0;31mRemoteTraceback\u001b[0m: \n\"\"\"\nTraceback (most recent call last):\n  File \"/home/ubuntu/anaconda3/lib/python3.6/site-packages/sklearn/externals/joblib/_parallel_backends.py\", line 350, in __call__\n    return self.func(*args, **kwargs)\n  File \"/home/ubuntu/anaconda3/lib/python3.6/site-packages/sklearn/externals/joblib/parallel.py\", line 131, in __call__\n    return [func(*args, **kwargs) for func, args, kwargs in self.items]\n  File \"/home/ubuntu/anaconda3/lib/python3.6/site-packages/sklearn/externals/joblib/parallel.py\", line 131, in <listcomp>\n    return [func(*args, **kwargs) for func, args, kwargs in self.items]\n  File \"/home/ubuntu/anaconda3/lib/python3.6/site-packages/sklearn/model_selection/_validation.py\", line 458, in _fit_and_score\n    estimator.fit(X_train, y_train, **fit_params)\n  File \"/home/ubuntu/anaconda3/lib/python3.6/site-packages/xgboost/sklearn.py\", line 547, in fit\n    verbose_eval=verbose, xgb_model=None)\n  File \"/home/ubuntu/anaconda3/lib/python3.6/site-packages/xgboost/training.py\", line 204, in train\n    xgb_model=xgb_model, callbacks=callbacks)\n  File \"/home/ubuntu/anaconda3/lib/python3.6/site-packages/xgboost/training.py\", line 74, in _train_internal\n    bst.update(dtrain, i, obj)\n  File \"/home/ubuntu/anaconda3/lib/python3.6/site-packages/xgboost/core.py\", line 1021, in update\n    dtrain.handle))\n  File \"/home/ubuntu/anaconda3/lib/python3.6/site-packages/xgboost/core.py\", line 151, in _check_call\n    raise XGBoostError(_LIB.XGBGetLastError())\nxgboost.core.XGBoostError: b'[01:52:42] /workspace/src/tree/updater_colmaker.cc:186: Check failed: param_.colsample_bytree > 0U (0 vs. 0) colsample_bytree cannot be zero.\\n\\nStack trace returned 10 entries:\\n[bt] (0) /home/ubuntu/anaconda3/xgboost/libxgboost.so(dmlc::StackTrace()+0x42) [0x7ff31d8e54a2]\\n[bt] (1) /home/ubuntu/anaconda3/xgboost/libxgboost.so(dmlc::LogMessageFatal::~LogMessageFatal()+0x18) [0x7ff31d8e5b08]\\n[bt] (2) /home/ubuntu/anaconda3/xgboost/libxgboost.so(xgboost::tree::ColMaker::Builder::InitData(std::vector<xgboost::detail::GradientPairInternal<float>, std::allocator<xgboost::detail::GradientPairInternal<float> > > const&, xgboost::DMatrix const&, xgboost::RegTree const&)+0x3aa) [0x7ff31da328ba]\\n[bt] (3) /home/ubuntu/anaconda3/xgboost/libxgboost.so(xgboost::tree::ColMaker::Builder::Update(std::vector<xgboost::detail::GradientPairInternal<float>, std::allocator<xgboost::detail::GradientPairInternal<float> > > const&, xgboost::DMatrix*, xgboost::RegTree*)+0x47) [0x7ff31da33f67]\\n[bt] (4) /home/ubuntu/anaconda3/xgboost/libxgboost.so(xgboost::tree::ColMaker::Update(xgboost::HostDeviceVector<xgboost::detail::GradientPairInternal<float> >*, xgboost::DMatrix*, std::vector<xgboost::RegTree*, std::allocator<xgboost::RegTree*> > const&)+0x188) [0x7ff31da34ce8]\\n[bt] (5) /home/ubuntu/anaconda3/xgboost/libxgboost.so(xgboost::gbm::GBTree::BoostNewTrees(xgboost::HostDeviceVector<xgboost::detail::GradientPairInternal<float> >*, xgboost::DMatrix*, int, std::vector<std::unique_ptr<xgboost::RegTree, std::default_delete<xgboost::RegTree> >, std::allocator<std::unique_ptr<xgboost::RegTree, std::default_delete<xgboost::RegTree> > > >*)+0x5a8) [0x7ff31d9622c8]\\n[bt] (6) /home/ubuntu/anaconda3/xgboost/libxgboost.so(xgboost::gbm::GBTree::DoBoost(xgboost::DMatrix*, xgboost::HostDeviceVector<xgboost::detail::GradientPairInternal<float> >*, xgboost::ObjFunction*)+0x8c6) [0x7ff31d963046]\\n[bt] (7) /home/ubuntu/anaconda3/xgboost/libxgboost.so(xgboost::LearnerImpl::UpdateOneIter(int, xgboost::DMatrix*)+0x3b8) [0x7ff31d995a88]\\n[bt] (8) /home/ubuntu/anaconda3/xgboost/libxgboost.so(XGBoosterUpdateOneIter+0x35) [0x7ff31d925515]\\n[bt] (9) /home/ubuntu/anaconda3/lib/python3.6/lib-dynload/../../libffi.so.6(ffi_call_unix64+0x4c) [0x7ff3599eeadc]\\n\\n'\n\nDuring handling of the above exception, another exception occurred:\n\nTraceback (most recent call last):\n  File \"/home/ubuntu/anaconda3/lib/python3.6/multiprocessing/pool.py\", line 119, in worker\n    result = (True, func(*args, **kwds))\n  File \"/home/ubuntu/anaconda3/lib/python3.6/site-packages/sklearn/externals/joblib/_parallel_backends.py\", line 359, in __call__\n    raise TransportableException(text, e_type)\nsklearn.externals.joblib.my_exceptions.TransportableException: TransportableException\n___________________________________________________________________________\nXGBoostError                                       Sun Feb 24 01:52:42 2019\nPID: 1882                   Python 3.6.6: /home/ubuntu/anaconda3/bin/python\n...........................................................................\n/home/ubuntu/anaconda3/lib/python3.6/site-packages/sklearn/externals/joblib/parallel.py in __call__(self=<sklearn.externals.joblib.parallel.BatchedCalls object>)\n    126     def __init__(self, iterator_slice):\n    127         self.items = list(iterator_slice)\n    128         self._size = len(self.items)\n    129 \n    130     def __call__(self):\n--> 131         return [func(*args, **kwargs) for func, args, kwargs in self.items]\n        self.items = [(<function _fit_and_score>, (XGBClassifier(base_score=0.5, booster='gbtree', ...=1, seed=None,\n       silent=True, subsample=0.9), array([[0.36283186, 0.39041096, 0.31      , ...,....., 0.51181102, 0.10429448,\n        0.78461538]]), 0       0\n1       0\n2       0\n3       0\n4       ...78    0\nName: quality, Length: 1279, dtype: int64, {'score': <function _passthrough_scorer>}, array([ 255,  256,  258, ..., 1276, 1277, 1278]), array([  0,   1,   2,   3,   4,   5,   6,   7,  ...    247, 248, 249, 250, 251, 252, 253, 254, 257]), 10, {'colsample_bytree': 0.0, 'max_depth': 5, 'n_estimators': 1480, 'reg_alpha': 0.8, 'subsample': 0.9}), {'error_score': 'raise', 'fit_params': {}, 'return_n_test_samples': True, 'return_parameters': False, 'return_times': True, 'return_train_score': True})]\n    132 \n    133     def __len__(self):\n    134         return self._size\n    135 \n\n...........................................................................\n/home/ubuntu/anaconda3/lib/python3.6/site-packages/sklearn/externals/joblib/parallel.py in <listcomp>(.0=<list_iterator object>)\n    126     def __init__(self, iterator_slice):\n    127         self.items = list(iterator_slice)\n    128         self._size = len(self.items)\n    129 \n    130     def __call__(self):\n--> 131         return [func(*args, **kwargs) for func, args, kwargs in self.items]\n        func = <function _fit_and_score>\n        args = (XGBClassifier(base_score=0.5, booster='gbtree', ...=1, seed=None,\n       silent=True, subsample=0.9), array([[0.36283186, 0.39041096, 0.31      , ...,....., 0.51181102, 0.10429448,\n        0.78461538]]), 0       0\n1       0\n2       0\n3       0\n4       ...78    0\nName: quality, Length: 1279, dtype: int64, {'score': <function _passthrough_scorer>}, array([ 255,  256,  258, ..., 1276, 1277, 1278]), array([  0,   1,   2,   3,   4,   5,   6,   7,  ...    247, 248, 249, 250, 251, 252, 253, 254, 257]), 10, {'colsample_bytree': 0.0, 'max_depth': 5, 'n_estimators': 1480, 'reg_alpha': 0.8, 'subsample': 0.9})\n        kwargs = {'error_score': 'raise', 'fit_params': {}, 'return_n_test_samples': True, 'return_parameters': False, 'return_times': True, 'return_train_score': True}\n    132 \n    133     def __len__(self):\n    134         return self._size\n    135 \n\n...........................................................................\n/home/ubuntu/anaconda3/lib/python3.6/site-packages/sklearn/model_selection/_validation.py in _fit_and_score(estimator=XGBClassifier(base_score=0.5, booster='gbtree', ...=1, seed=None,\n       silent=True, subsample=0.9), X=array([[0.36283186, 0.39041096, 0.31      , ...,....., 0.51181102, 0.10429448,\n        0.78461538]]), y=0       0\n1       0\n2       0\n3       0\n4       ...78    0\nName: quality, Length: 1279, dtype: int64, scorer={'score': <function _passthrough_scorer>}, train=array([ 255,  256,  258, ..., 1276, 1277, 1278]), test=array([  0,   1,   2,   3,   4,   5,   6,   7,  ...    247, 248, 249, 250, 251, 252, 253, 254, 257]), verbose=10, parameters={'colsample_bytree': 0.0, 'max_depth': 5, 'n_estimators': 1480, 'reg_alpha': 0.8, 'subsample': 0.9}, fit_params={}, return_train_score=True, return_parameters=False, return_n_test_samples=True, return_times=True, error_score='raise')\n    453 \n    454     try:\n    455         if y_train is None:\n    456             estimator.fit(X_train, **fit_params)\n    457         else:\n--> 458             estimator.fit(X_train, y_train, **fit_params)\n        estimator.fit = <bound method XGBClassifier.fit of XGBClassifier...1, seed=None,\n       silent=True, subsample=0.9)>\n        X_train = array([[0.27433628, 0.32876712, 0.        , ...,....., 0.51181102, 0.10429448,\n        0.78461538]])\n        y_train = 255     0\n256     0\n258     0\n259     0\n260     ...78    0\nName: quality, Length: 1023, dtype: int64\n        fit_params = {}\n    459 \n    460     except Exception as e:\n    461         # Note fit time as time until error\n    462         fit_time = time.time() - start_time\n\n...........................................................................\n/home/ubuntu/anaconda3/lib/python3.6/site-packages/xgboost/sklearn.py in fit(self=XGBClassifier(base_score=0.5, booster='gbtree', ...=1, seed=None,\n       silent=True, subsample=0.9), X=array([[0.27433628, 0.32876712, 0.        , ...,....., 0.51181102, 0.10429448,\n        0.78461538]]), y=255     0\n256     0\n258     0\n259     0\n260     ...78    0\nName: quality, Length: 1023, dtype: int64, sample_weight=None, eval_set=None, eval_metric=None, early_stopping_rounds=None, verbose=True, xgb_model=None, sample_weight_eval_set=None)\n    542 \n    543         self._Booster = train(xgb_options, train_dmatrix, self.n_estimators,\n    544                               evals=evals,\n    545                               early_stopping_rounds=early_stopping_rounds,\n    546                               evals_result=evals_result, obj=obj, feval=feval,\n--> 547                               verbose_eval=verbose, xgb_model=None)\n        verbose = True\n        xgb_model = None\n    548 \n    549         self.objective = xgb_options[\"objective\"]\n    550         if evals_result:\n    551             for val in evals_result.items():\n\n...........................................................................\n/home/ubuntu/anaconda3/lib/python3.6/site-packages/xgboost/training.py in train(params={'base_score': 0.5, 'booster': 'gbtree', 'colsample_bylevel': 1, 'colsample_bytree': 0.0, 'gamma': 0, 'learning_rate': 0.1, 'max_delta_step': 0, 'max_depth': 5, 'min_child_weight': 1, 'missing': nan, ...}, dtrain=<xgboost.core.DMatrix object>, num_boost_round=1480, evals=(), obj=None, feval=None, maximize=False, early_stopping_rounds=None, evals_result={}, verbose_eval=True, xgb_model=None, callbacks=[<function print_evaluation.<locals>.callback>, <function record_evaluation.<locals>.callback>], learning_rates=None)\n    199 \n    200     return _train_internal(params, dtrain,\n    201                            num_boost_round=num_boost_round,\n    202                            evals=evals,\n    203                            obj=obj, feval=feval,\n--> 204                            xgb_model=xgb_model, callbacks=callbacks)\n        xgb_model = None\n        callbacks = [<function print_evaluation.<locals>.callback>, <function record_evaluation.<locals>.callback>]\n    205 \n    206 \n    207 class CVPack(object):\n    208     \"\"\"\"Auxiliary datastruct to hold one fold of CV.\"\"\"\n\n...........................................................................\n/home/ubuntu/anaconda3/lib/python3.6/site-packages/xgboost/training.py in _train_internal(params={'base_score': 0.5, 'booster': 'gbtree', 'colsample_bylevel': 1, 'colsample_bytree': 0.0, 'gamma': 0, 'learning_rate': 0.1, 'max_delta_step': 0, 'max_depth': 5, 'min_child_weight': 1, 'missing': nan, ...}, dtrain=<xgboost.core.DMatrix object>, num_boost_round=1480, evals=[], obj=None, feval=None, xgb_model=None, callbacks=[<function print_evaluation.<locals>.callback>, <function record_evaluation.<locals>.callback>])\n     69                            rank=rank,\n     70                            evaluation_result_list=None))\n     71         # Distributed code: need to resume to this point.\n     72         # Skip the first update if it is a recovery step.\n     73         if version % 2 == 0:\n---> 74             bst.update(dtrain, i, obj)\n        bst.update = <bound method Booster.update of <xgboost.core.Booster object>>\n        dtrain = <xgboost.core.DMatrix object>\n        i = 0\n        obj = None\n     75             bst.save_rabit_checkpoint()\n     76             version += 1\n     77 \n     78         assert(rabit.get_world_size() == 1 or version == rabit.version_number())\n\n...........................................................................\n/home/ubuntu/anaconda3/lib/python3.6/site-packages/xgboost/core.py in update(self=<xgboost.core.Booster object>, dtrain=<xgboost.core.DMatrix object>, iteration=0, fobj=None)\n   1016             raise TypeError('invalid training matrix: {}'.format(type(dtrain).__name__))\n   1017         self._validate_features(dtrain)\n   1018 \n   1019         if fobj is None:\n   1020             _check_call(_LIB.XGBoosterUpdateOneIter(self.handle, ctypes.c_int(iteration),\n-> 1021                                                     dtrain.handle))\n        dtrain.handle = c_void_p(94544844770000)\n   1022         else:\n   1023             pred = self.predict(dtrain)\n   1024             grad, hess = fobj(pred, dtrain)\n   1025             self.boost(dtrain, grad, hess)\n\n...........................................................................\n/home/ubuntu/anaconda3/lib/python3.6/site-packages/xgboost/core.py in _check_call(ret=-1)\n    146     ----------\n    147     ret : int\n    148         return value from API calls\n    149     \"\"\"\n    150     if ret != 0:\n--> 151         raise XGBoostError(_LIB.XGBGetLastError())\n    152 \n    153 \n    154 def ctypes2numpy(cptr, length, dtype):\n    155     \"\"\"Convert a ctypes pointer array to a numpy array.\n\nXGBoostError: b'[01:52:42] /workspace/src/tree/updater_colmaker.cc:186: Check failed: param_.colsample_bytree > 0U (0 vs. 0) colsample_bytree cannot be zero.\\n\\nStack trace returned 10 entries:\\n[bt] (0) /home/ubuntu/anaconda3/xgboost/libxgboost.so(dmlc::StackTrace()+0x42) [0x7ff31d8e54a2]\\n[bt] (1) /home/ubuntu/anaconda3/xgboost/libxgboost.so(dmlc::LogMessageFatal::~LogMessageFatal()+0x18) [0x7ff31d8e5b08]\\n[bt] (2) /home/ubuntu/anaconda3/xgboost/libxgboost.so(xgboost::tree::ColMaker::Builder::InitData(std::vector<xgboost::detail::GradientPairInternal<float>, std::allocator<xgboost::detail::GradientPairInternal<float> > > const&, xgboost::DMatrix const&, xgboost::RegTree const&)+0x3aa) [0x7ff31da328ba]\\n[bt] (3) /home/ubuntu/anaconda3/xgboost/libxgboost.so(xgboost::tree::ColMaker::Builder::Update(std::vector<xgboost::detail::GradientPairInternal<float>, std::allocator<xgboost::detail::GradientPairInternal<float> > > const&, xgboost::DMatrix*, xgboost::RegTree*)+0x47) [0x7ff31da33f67]\\n[bt] (4) /home/ubuntu/anaconda3/xgboost/libxgboost.so(xgboost::tree::ColMaker::Update(xgboost::HostDeviceVector<xgboost::detail::GradientPairInternal<float> >*, xgboost::DMatrix*, std::vector<xgboost::RegTree*, std::allocator<xgboost::RegTree*> > const&)+0x188) [0x7ff31da34ce8]\\n[bt] (5) /home/ubuntu/anaconda3/xgboost/libxgboost.so(xgboost::gbm::GBTree::BoostNewTrees(xgboost::HostDeviceVector<xgboost::detail::GradientPairInternal<float> >*, xgboost::DMatrix*, int, std::vector<std::unique_ptr<xgboost::RegTree, std::default_delete<xgboost::RegTree> >, std::allocator<std::unique_ptr<xgboost::RegTree, std::default_delete<xgboost::RegTree> > > >*)+0x5a8) [0x7ff31d9622c8]\\n[bt] (6) /home/ubuntu/anaconda3/xgboost/libxgboost.so(xgboost::gbm::GBTree::DoBoost(xgboost::DMatrix*, xgboost::HostDeviceVector<xgboost::detail::GradientPairInternal<float> >*, xgboost::ObjFunction*)+0x8c6) [0x7ff31d963046]\\n[bt] (7) /home/ubuntu/anaconda3/xgboost/libxgboost.so(xgboost::LearnerImpl::UpdateOneIter(int, xgboost::DMatrix*)+0x3b8) [0x7ff31d995a88]\\n[bt] (8) /home/ubuntu/anaconda3/xgboost/libxgboost.so(XGBoosterUpdateOneIter+0x35) [0x7ff31d925515]\\n[bt] (9) /home/ubuntu/anaconda3/lib/python3.6/lib-dynload/../../libffi.so.6(ffi_call_unix64+0x4c) [0x7ff3599eeadc]\\n\\n'\n___________________________________________________________________________\n\"\"\"",
      "\nThe above exception was the direct cause of the following exception:\n",
      "\u001b[0;31mTransportableException\u001b[0m                    Traceback (most recent call last)",
      "\u001b[0;32m/home/ubuntu/anaconda3/lib/python3.6/site-packages/sklearn/externals/joblib/parallel.py\u001b[0m in \u001b[0;36mretrieve\u001b[0;34m(self)\u001b[0m\n\u001b[1;32m    698\u001b[0m                 \u001b[0;32mif\u001b[0m \u001b[0mgetattr\u001b[0m\u001b[0;34m(\u001b[0m\u001b[0mself\u001b[0m\u001b[0;34m.\u001b[0m\u001b[0m_backend\u001b[0m\u001b[0;34m,\u001b[0m \u001b[0;34m'supports_timeout'\u001b[0m\u001b[0;34m,\u001b[0m \u001b[0;32mFalse\u001b[0m\u001b[0;34m)\u001b[0m\u001b[0;34m:\u001b[0m\u001b[0;34m\u001b[0m\u001b[0m\n\u001b[0;32m--> 699\u001b[0;31m                     \u001b[0mself\u001b[0m\u001b[0;34m.\u001b[0m\u001b[0m_output\u001b[0m\u001b[0;34m.\u001b[0m\u001b[0mextend\u001b[0m\u001b[0;34m(\u001b[0m\u001b[0mjob\u001b[0m\u001b[0;34m.\u001b[0m\u001b[0mget\u001b[0m\u001b[0;34m(\u001b[0m\u001b[0mtimeout\u001b[0m\u001b[0;34m=\u001b[0m\u001b[0mself\u001b[0m\u001b[0;34m.\u001b[0m\u001b[0mtimeout\u001b[0m\u001b[0;34m)\u001b[0m\u001b[0;34m)\u001b[0m\u001b[0;34m\u001b[0m\u001b[0m\n\u001b[0m\u001b[1;32m    700\u001b[0m                 \u001b[0;32melse\u001b[0m\u001b[0;34m:\u001b[0m\u001b[0;34m\u001b[0m\u001b[0m\n",
      "\u001b[0;32m/home/ubuntu/anaconda3/lib/python3.6/multiprocessing/pool.py\u001b[0m in \u001b[0;36mget\u001b[0;34m(self, timeout)\u001b[0m\n\u001b[1;32m    643\u001b[0m         \u001b[0;32melse\u001b[0m\u001b[0;34m:\u001b[0m\u001b[0;34m\u001b[0m\u001b[0m\n\u001b[0;32m--> 644\u001b[0;31m             \u001b[0;32mraise\u001b[0m \u001b[0mself\u001b[0m\u001b[0;34m.\u001b[0m\u001b[0m_value\u001b[0m\u001b[0;34m\u001b[0m\u001b[0m\n\u001b[0m\u001b[1;32m    645\u001b[0m \u001b[0;34m\u001b[0m\u001b[0m\n",
      "\u001b[0;31mTransportableException\u001b[0m: TransportableException\n___________________________________________________________________________\nXGBoostError                                       Sun Feb 24 01:52:42 2019\nPID: 1882                   Python 3.6.6: /home/ubuntu/anaconda3/bin/python\n...........................................................................\n/home/ubuntu/anaconda3/lib/python3.6/site-packages/sklearn/externals/joblib/parallel.py in __call__(self=<sklearn.externals.joblib.parallel.BatchedCalls object>)\n    126     def __init__(self, iterator_slice):\n    127         self.items = list(iterator_slice)\n    128         self._size = len(self.items)\n    129 \n    130     def __call__(self):\n--> 131         return [func(*args, **kwargs) for func, args, kwargs in self.items]\n        self.items = [(<function _fit_and_score>, (XGBClassifier(base_score=0.5, booster='gbtree', ...=1, seed=None,\n       silent=True, subsample=0.9), array([[0.36283186, 0.39041096, 0.31      , ...,....., 0.51181102, 0.10429448,\n        0.78461538]]), 0       0\n1       0\n2       0\n3       0\n4       ...78    0\nName: quality, Length: 1279, dtype: int64, {'score': <function _passthrough_scorer>}, array([ 255,  256,  258, ..., 1276, 1277, 1278]), array([  0,   1,   2,   3,   4,   5,   6,   7,  ...    247, 248, 249, 250, 251, 252, 253, 254, 257]), 10, {'colsample_bytree': 0.0, 'max_depth': 5, 'n_estimators': 1480, 'reg_alpha': 0.8, 'subsample': 0.9}), {'error_score': 'raise', 'fit_params': {}, 'return_n_test_samples': True, 'return_parameters': False, 'return_times': True, 'return_train_score': True})]\n    132 \n    133     def __len__(self):\n    134         return self._size\n    135 \n\n...........................................................................\n/home/ubuntu/anaconda3/lib/python3.6/site-packages/sklearn/externals/joblib/parallel.py in <listcomp>(.0=<list_iterator object>)\n    126     def __init__(self, iterator_slice):\n    127         self.items = list(iterator_slice)\n    128         self._size = len(self.items)\n    129 \n    130     def __call__(self):\n--> 131         return [func(*args, **kwargs) for func, args, kwargs in self.items]\n        func = <function _fit_and_score>\n        args = (XGBClassifier(base_score=0.5, booster='gbtree', ...=1, seed=None,\n       silent=True, subsample=0.9), array([[0.36283186, 0.39041096, 0.31      , ...,....., 0.51181102, 0.10429448,\n        0.78461538]]), 0       0\n1       0\n2       0\n3       0\n4       ...78    0\nName: quality, Length: 1279, dtype: int64, {'score': <function _passthrough_scorer>}, array([ 255,  256,  258, ..., 1276, 1277, 1278]), array([  0,   1,   2,   3,   4,   5,   6,   7,  ...    247, 248, 249, 250, 251, 252, 253, 254, 257]), 10, {'colsample_bytree': 0.0, 'max_depth': 5, 'n_estimators': 1480, 'reg_alpha': 0.8, 'subsample': 0.9})\n        kwargs = {'error_score': 'raise', 'fit_params': {}, 'return_n_test_samples': True, 'return_parameters': False, 'return_times': True, 'return_train_score': True}\n    132 \n    133     def __len__(self):\n    134         return self._size\n    135 \n\n...........................................................................\n/home/ubuntu/anaconda3/lib/python3.6/site-packages/sklearn/model_selection/_validation.py in _fit_and_score(estimator=XGBClassifier(base_score=0.5, booster='gbtree', ...=1, seed=None,\n       silent=True, subsample=0.9), X=array([[0.36283186, 0.39041096, 0.31      , ...,....., 0.51181102, 0.10429448,\n        0.78461538]]), y=0       0\n1       0\n2       0\n3       0\n4       ...78    0\nName: quality, Length: 1279, dtype: int64, scorer={'score': <function _passthrough_scorer>}, train=array([ 255,  256,  258, ..., 1276, 1277, 1278]), test=array([  0,   1,   2,   3,   4,   5,   6,   7,  ...    247, 248, 249, 250, 251, 252, 253, 254, 257]), verbose=10, parameters={'colsample_bytree': 0.0, 'max_depth': 5, 'n_estimators': 1480, 'reg_alpha': 0.8, 'subsample': 0.9}, fit_params={}, return_train_score=True, return_parameters=False, return_n_test_samples=True, return_times=True, error_score='raise')\n    453 \n    454     try:\n    455         if y_train is None:\n    456             estimator.fit(X_train, **fit_params)\n    457         else:\n--> 458             estimator.fit(X_train, y_train, **fit_params)\n        estimator.fit = <bound method XGBClassifier.fit of XGBClassifier...1, seed=None,\n       silent=True, subsample=0.9)>\n        X_train = array([[0.27433628, 0.32876712, 0.        , ...,....., 0.51181102, 0.10429448,\n        0.78461538]])\n        y_train = 255     0\n256     0\n258     0\n259     0\n260     ...78    0\nName: quality, Length: 1023, dtype: int64\n        fit_params = {}\n    459 \n    460     except Exception as e:\n    461         # Note fit time as time until error\n    462         fit_time = time.time() - start_time\n\n...........................................................................\n/home/ubuntu/anaconda3/lib/python3.6/site-packages/xgboost/sklearn.py in fit(self=XGBClassifier(base_score=0.5, booster='gbtree', ...=1, seed=None,\n       silent=True, subsample=0.9), X=array([[0.27433628, 0.32876712, 0.        , ...,....., 0.51181102, 0.10429448,\n        0.78461538]]), y=255     0\n256     0\n258     0\n259     0\n260     ...78    0\nName: quality, Length: 1023, dtype: int64, sample_weight=None, eval_set=None, eval_metric=None, early_stopping_rounds=None, verbose=True, xgb_model=None, sample_weight_eval_set=None)\n    542 \n    543         self._Booster = train(xgb_options, train_dmatrix, self.n_estimators,\n    544                               evals=evals,\n    545                               early_stopping_rounds=early_stopping_rounds,\n    546                               evals_result=evals_result, obj=obj, feval=feval,\n--> 547                               verbose_eval=verbose, xgb_model=None)\n        verbose = True\n        xgb_model = None\n    548 \n    549         self.objective = xgb_options[\"objective\"]\n    550         if evals_result:\n    551             for val in evals_result.items():\n\n...........................................................................\n/home/ubuntu/anaconda3/lib/python3.6/site-packages/xgboost/training.py in train(params={'base_score': 0.5, 'booster': 'gbtree', 'colsample_bylevel': 1, 'colsample_bytree': 0.0, 'gamma': 0, 'learning_rate': 0.1, 'max_delta_step': 0, 'max_depth': 5, 'min_child_weight': 1, 'missing': nan, ...}, dtrain=<xgboost.core.DMatrix object>, num_boost_round=1480, evals=(), obj=None, feval=None, maximize=False, early_stopping_rounds=None, evals_result={}, verbose_eval=True, xgb_model=None, callbacks=[<function print_evaluation.<locals>.callback>, <function record_evaluation.<locals>.callback>], learning_rates=None)\n    199 \n    200     return _train_internal(params, dtrain,\n    201                            num_boost_round=num_boost_round,\n    202                            evals=evals,\n    203                            obj=obj, feval=feval,\n--> 204                            xgb_model=xgb_model, callbacks=callbacks)\n        xgb_model = None\n        callbacks = [<function print_evaluation.<locals>.callback>, <function record_evaluation.<locals>.callback>]\n    205 \n    206 \n    207 class CVPack(object):\n    208     \"\"\"\"Auxiliary datastruct to hold one fold of CV.\"\"\"\n\n...........................................................................\n/home/ubuntu/anaconda3/lib/python3.6/site-packages/xgboost/training.py in _train_internal(params={'base_score': 0.5, 'booster': 'gbtree', 'colsample_bylevel': 1, 'colsample_bytree': 0.0, 'gamma': 0, 'learning_rate': 0.1, 'max_delta_step': 0, 'max_depth': 5, 'min_child_weight': 1, 'missing': nan, ...}, dtrain=<xgboost.core.DMatrix object>, num_boost_round=1480, evals=[], obj=None, feval=None, xgb_model=None, callbacks=[<function print_evaluation.<locals>.callback>, <function record_evaluation.<locals>.callback>])\n     69                            rank=rank,\n     70                            evaluation_result_list=None))\n     71         # Distributed code: need to resume to this point.\n     72         # Skip the first update if it is a recovery step.\n     73         if version % 2 == 0:\n---> 74             bst.update(dtrain, i, obj)\n        bst.update = <bound method Booster.update of <xgboost.core.Booster object>>\n        dtrain = <xgboost.core.DMatrix object>\n        i = 0\n        obj = None\n     75             bst.save_rabit_checkpoint()\n     76             version += 1\n     77 \n     78         assert(rabit.get_world_size() == 1 or version == rabit.version_number())\n\n...........................................................................\n/home/ubuntu/anaconda3/lib/python3.6/site-packages/xgboost/core.py in update(self=<xgboost.core.Booster object>, dtrain=<xgboost.core.DMatrix object>, iteration=0, fobj=None)\n   1016             raise TypeError('invalid training matrix: {}'.format(type(dtrain).__name__))\n   1017         self._validate_features(dtrain)\n   1018 \n   1019         if fobj is None:\n   1020             _check_call(_LIB.XGBoosterUpdateOneIter(self.handle, ctypes.c_int(iteration),\n-> 1021                                                     dtrain.handle))\n        dtrain.handle = c_void_p(94544844770000)\n   1022         else:\n   1023             pred = self.predict(dtrain)\n   1024             grad, hess = fobj(pred, dtrain)\n   1025             self.boost(dtrain, grad, hess)\n\n...........................................................................\n/home/ubuntu/anaconda3/lib/python3.6/site-packages/xgboost/core.py in _check_call(ret=-1)\n    146     ----------\n    147     ret : int\n    148         return value from API calls\n    149     \"\"\"\n    150     if ret != 0:\n--> 151         raise XGBoostError(_LIB.XGBGetLastError())\n    152 \n    153 \n    154 def ctypes2numpy(cptr, length, dtype):\n    155     \"\"\"Convert a ctypes pointer array to a numpy array.\n\nXGBoostError: b'[01:52:42] /workspace/src/tree/updater_colmaker.cc:186: Check failed: param_.colsample_bytree > 0U (0 vs. 0) colsample_bytree cannot be zero.\\n\\nStack trace returned 10 entries:\\n[bt] (0) /home/ubuntu/anaconda3/xgboost/libxgboost.so(dmlc::StackTrace()+0x42) [0x7ff31d8e54a2]\\n[bt] (1) /home/ubuntu/anaconda3/xgboost/libxgboost.so(dmlc::LogMessageFatal::~LogMessageFatal()+0x18) [0x7ff31d8e5b08]\\n[bt] (2) /home/ubuntu/anaconda3/xgboost/libxgboost.so(xgboost::tree::ColMaker::Builder::InitData(std::vector<xgboost::detail::GradientPairInternal<float>, std::allocator<xgboost::detail::GradientPairInternal<float> > > const&, xgboost::DMatrix const&, xgboost::RegTree const&)+0x3aa) [0x7ff31da328ba]\\n[bt] (3) /home/ubuntu/anaconda3/xgboost/libxgboost.so(xgboost::tree::ColMaker::Builder::Update(std::vector<xgboost::detail::GradientPairInternal<float>, std::allocator<xgboost::detail::GradientPairInternal<float> > > const&, xgboost::DMatrix*, xgboost::RegTree*)+0x47) [0x7ff31da33f67]\\n[bt] (4) /home/ubuntu/anaconda3/xgboost/libxgboost.so(xgboost::tree::ColMaker::Update(xgboost::HostDeviceVector<xgboost::detail::GradientPairInternal<float> >*, xgboost::DMatrix*, std::vector<xgboost::RegTree*, std::allocator<xgboost::RegTree*> > const&)+0x188) [0x7ff31da34ce8]\\n[bt] (5) /home/ubuntu/anaconda3/xgboost/libxgboost.so(xgboost::gbm::GBTree::BoostNewTrees(xgboost::HostDeviceVector<xgboost::detail::GradientPairInternal<float> >*, xgboost::DMatrix*, int, std::vector<std::unique_ptr<xgboost::RegTree, std::default_delete<xgboost::RegTree> >, std::allocator<std::unique_ptr<xgboost::RegTree, std::default_delete<xgboost::RegTree> > > >*)+0x5a8) [0x7ff31d9622c8]\\n[bt] (6) /home/ubuntu/anaconda3/xgboost/libxgboost.so(xgboost::gbm::GBTree::DoBoost(xgboost::DMatrix*, xgboost::HostDeviceVector<xgboost::detail::GradientPairInternal<float> >*, xgboost::ObjFunction*)+0x8c6) [0x7ff31d963046]\\n[bt] (7) /home/ubuntu/anaconda3/xgboost/libxgboost.so(xgboost::LearnerImpl::UpdateOneIter(int, xgboost::DMatrix*)+0x3b8) [0x7ff31d995a88]\\n[bt] (8) /home/ubuntu/anaconda3/xgboost/libxgboost.so(XGBoosterUpdateOneIter+0x35) [0x7ff31d925515]\\n[bt] (9) /home/ubuntu/anaconda3/lib/python3.6/lib-dynload/../../libffi.so.6(ffi_call_unix64+0x4c) [0x7ff3599eeadc]\\n\\n'\n___________________________________________________________________________",
      "\nDuring handling of the above exception, another exception occurred:\n",
      "\u001b[0;31mJoblibXGBoostError\u001b[0m                        Traceback (most recent call last)",
      "\u001b[0;32m<ipython-input-25-6481fcfe4fa2>\u001b[0m in \u001b[0;36m<module>\u001b[0;34m()\u001b[0m\n\u001b[1;32m      1\u001b[0m \u001b[0mget_ipython\u001b[0m\u001b[0;34m(\u001b[0m\u001b[0;34m)\u001b[0m\u001b[0;34m.\u001b[0m\u001b[0mmagic\u001b[0m\u001b[0;34m(\u001b[0m\u001b[0;34m'time'\u001b[0m\u001b[0;34m)\u001b[0m\u001b[0;34m\u001b[0m\u001b[0m\n\u001b[0;32m----> 2\u001b[0;31m \u001b[0mrs\u001b[0m\u001b[0;34m.\u001b[0m\u001b[0mfit\u001b[0m\u001b[0;34m(\u001b[0m\u001b[0mtrain\u001b[0m\u001b[0;34m,\u001b[0m \u001b[0mtarget\u001b[0m\u001b[0;34m)\u001b[0m\u001b[0;34m\u001b[0m\u001b[0m\n\u001b[0m",
      "\u001b[0;32m/home/ubuntu/anaconda3/lib/python3.6/site-packages/sklearn/model_selection/_search.py\u001b[0m in \u001b[0;36mfit\u001b[0;34m(self, X, y, groups, **fit_params)\u001b[0m\n\u001b[1;32m    637\u001b[0m                                   error_score=self.error_score)\n\u001b[1;32m    638\u001b[0m           for parameters, (train, test) in product(candidate_params,\n\u001b[0;32m--> 639\u001b[0;31m                                                    cv.split(X, y, groups)))\n\u001b[0m\u001b[1;32m    640\u001b[0m \u001b[0;34m\u001b[0m\u001b[0m\n\u001b[1;32m    641\u001b[0m         \u001b[0;31m# if one choose to see train score, \"out\" will contain train score info\u001b[0m\u001b[0;34m\u001b[0m\u001b[0;34m\u001b[0m\u001b[0m\n",
      "\u001b[0;32m/home/ubuntu/anaconda3/lib/python3.6/site-packages/sklearn/externals/joblib/parallel.py\u001b[0m in \u001b[0;36m__call__\u001b[0;34m(self, iterable)\u001b[0m\n\u001b[1;32m    787\u001b[0m                 \u001b[0;31m# consumption.\u001b[0m\u001b[0;34m\u001b[0m\u001b[0;34m\u001b[0m\u001b[0m\n\u001b[1;32m    788\u001b[0m                 \u001b[0mself\u001b[0m\u001b[0;34m.\u001b[0m\u001b[0m_iterating\u001b[0m \u001b[0;34m=\u001b[0m \u001b[0;32mFalse\u001b[0m\u001b[0;34m\u001b[0m\u001b[0m\n\u001b[0;32m--> 789\u001b[0;31m             \u001b[0mself\u001b[0m\u001b[0;34m.\u001b[0m\u001b[0mretrieve\u001b[0m\u001b[0;34m(\u001b[0m\u001b[0;34m)\u001b[0m\u001b[0;34m\u001b[0m\u001b[0m\n\u001b[0m\u001b[1;32m    790\u001b[0m             \u001b[0;31m# Make sure that we get a last message telling us we are done\u001b[0m\u001b[0;34m\u001b[0m\u001b[0;34m\u001b[0m\u001b[0m\n\u001b[1;32m    791\u001b[0m             \u001b[0melapsed_time\u001b[0m \u001b[0;34m=\u001b[0m \u001b[0mtime\u001b[0m\u001b[0;34m.\u001b[0m\u001b[0mtime\u001b[0m\u001b[0;34m(\u001b[0m\u001b[0;34m)\u001b[0m \u001b[0;34m-\u001b[0m \u001b[0mself\u001b[0m\u001b[0;34m.\u001b[0m\u001b[0m_start_time\u001b[0m\u001b[0;34m\u001b[0m\u001b[0m\n",
      "\u001b[0;32m/home/ubuntu/anaconda3/lib/python3.6/site-packages/sklearn/externals/joblib/parallel.py\u001b[0m in \u001b[0;36mretrieve\u001b[0;34m(self)\u001b[0m\n\u001b[1;32m    738\u001b[0m                     \u001b[0mexception\u001b[0m \u001b[0;34m=\u001b[0m \u001b[0mexception_type\u001b[0m\u001b[0;34m(\u001b[0m\u001b[0mreport\u001b[0m\u001b[0;34m)\u001b[0m\u001b[0;34m\u001b[0m\u001b[0m\n\u001b[1;32m    739\u001b[0m \u001b[0;34m\u001b[0m\u001b[0m\n\u001b[0;32m--> 740\u001b[0;31m                     \u001b[0;32mraise\u001b[0m \u001b[0mexception\u001b[0m\u001b[0;34m\u001b[0m\u001b[0m\n\u001b[0m\u001b[1;32m    741\u001b[0m \u001b[0;34m\u001b[0m\u001b[0m\n\u001b[1;32m    742\u001b[0m     \u001b[0;32mdef\u001b[0m \u001b[0m__call__\u001b[0m\u001b[0;34m(\u001b[0m\u001b[0mself\u001b[0m\u001b[0;34m,\u001b[0m \u001b[0miterable\u001b[0m\u001b[0;34m)\u001b[0m\u001b[0;34m:\u001b[0m\u001b[0;34m\u001b[0m\u001b[0m\n",
      "\u001b[0;31mJoblibXGBoostError\u001b[0m: JoblibXGBoostError\n___________________________________________________________________________\nMultiprocessing exception:\n...........................................................................\n/home/ubuntu/anaconda3/lib/python3.6/runpy.py in _run_module_as_main(mod_name='ipykernel_launcher', alter_argv=1)\n    188         sys.exit(msg)\n    189     main_globals = sys.modules[\"__main__\"].__dict__\n    190     if alter_argv:\n    191         sys.argv[0] = mod_spec.origin\n    192     return _run_code(code, main_globals, None,\n--> 193                      \"__main__\", mod_spec)\n        mod_spec = ModuleSpec(name='ipykernel_launcher', loader=<_f...b/python3.6/site-packages/ipykernel_launcher.py')\n    194 \n    195 def run_module(mod_name, init_globals=None,\n    196                run_name=None, alter_sys=False):\n    197     \"\"\"Execute a module's code without importing it\n\n...........................................................................\n/home/ubuntu/anaconda3/lib/python3.6/runpy.py in _run_code(code=<code object <module> at 0x7ff35eec74b0, file \"/...3.6/site-packages/ipykernel_launcher.py\", line 5>, run_globals={'__annotations__': {}, '__builtins__': <module 'builtins' (built-in)>, '__cached__': '/home/ubuntu/anaconda3/lib/python3.6/site-packages/__pycache__/ipykernel_launcher.cpython-36.pyc', '__doc__': 'Entry point for launching an IPython kernel.\\n\\nTh...orts until\\nafter removing the cwd from sys.path.\\n', '__file__': '/home/ubuntu/anaconda3/lib/python3.6/site-packages/ipykernel_launcher.py', '__loader__': <_frozen_importlib_external.SourceFileLoader object>, '__name__': '__main__', '__package__': '', '__spec__': ModuleSpec(name='ipykernel_launcher', loader=<_f...b/python3.6/site-packages/ipykernel_launcher.py'), 'app': <module 'ipykernel.kernelapp' from '/home/ubuntu.../python3.6/site-packages/ipykernel/kernelapp.py'>, ...}, init_globals=None, mod_name='__main__', mod_spec=ModuleSpec(name='ipykernel_launcher', loader=<_f...b/python3.6/site-packages/ipykernel_launcher.py'), pkg_name='', script_name=None)\n     80                        __cached__ = cached,\n     81                        __doc__ = None,\n     82                        __loader__ = loader,\n     83                        __package__ = pkg_name,\n     84                        __spec__ = mod_spec)\n---> 85     exec(code, run_globals)\n        code = <code object <module> at 0x7ff35eec74b0, file \"/...3.6/site-packages/ipykernel_launcher.py\", line 5>\n        run_globals = {'__annotations__': {}, '__builtins__': <module 'builtins' (built-in)>, '__cached__': '/home/ubuntu/anaconda3/lib/python3.6/site-packages/__pycache__/ipykernel_launcher.cpython-36.pyc', '__doc__': 'Entry point for launching an IPython kernel.\\n\\nTh...orts until\\nafter removing the cwd from sys.path.\\n', '__file__': '/home/ubuntu/anaconda3/lib/python3.6/site-packages/ipykernel_launcher.py', '__loader__': <_frozen_importlib_external.SourceFileLoader object>, '__name__': '__main__', '__package__': '', '__spec__': ModuleSpec(name='ipykernel_launcher', loader=<_f...b/python3.6/site-packages/ipykernel_launcher.py'), 'app': <module 'ipykernel.kernelapp' from '/home/ubuntu.../python3.6/site-packages/ipykernel/kernelapp.py'>, ...}\n     86     return run_globals\n     87 \n     88 def _run_module_code(code, init_globals=None,\n     89                     mod_name=None, mod_spec=None,\n\n...........................................................................\n/home/ubuntu/anaconda3/lib/python3.6/site-packages/ipykernel_launcher.py in <module>()\n     11     # This is added back by InteractiveShellApp.init_path()\n     12     if sys.path[0] == '':\n     13         del sys.path[0]\n     14 \n     15     from ipykernel import kernelapp as app\n---> 16     app.launch_new_instance()\n\n...........................................................................\n/home/ubuntu/anaconda3/lib/python3.6/site-packages/traitlets/config/application.py in launch_instance(cls=<class 'ipykernel.kernelapp.IPKernelApp'>, argv=None, **kwargs={})\n    653 \n    654         If a global instance already exists, this reinitializes and starts it\n    655         \"\"\"\n    656         app = cls.instance(**kwargs)\n    657         app.initialize(argv)\n--> 658         app.start()\n        app.start = <bound method IPKernelApp.start of <ipykernel.kernelapp.IPKernelApp object>>\n    659 \n    660 #-----------------------------------------------------------------------------\n    661 # utility functions, for convenience\n    662 #-----------------------------------------------------------------------------\n\n...........................................................................\n/home/ubuntu/anaconda3/lib/python3.6/site-packages/ipykernel/kernelapp.py in start(self=<ipykernel.kernelapp.IPKernelApp object>)\n    472             return self.subapp.start()\n    473         if self.poller is not None:\n    474             self.poller.start()\n    475         self.kernel.start()\n    476         try:\n--> 477             ioloop.IOLoop.instance().start()\n    478         except KeyboardInterrupt:\n    479             pass\n    480 \n    481 launch_new_instance = IPKernelApp.launch_instance\n\n...........................................................................\n/home/ubuntu/anaconda3/lib/python3.6/site-packages/zmq/eventloop/ioloop.py in start(self=<zmq.eventloop.ioloop.ZMQIOLoop object>)\n    172             )\n    173         return loop\n    174     \n    175     def start(self):\n    176         try:\n--> 177             super(ZMQIOLoop, self).start()\n        self.start = <bound method ZMQIOLoop.start of <zmq.eventloop.ioloop.ZMQIOLoop object>>\n    178         except ZMQError as e:\n    179             if e.errno == ETERM:\n    180                 # quietly return on ETERM\n    181                 pass\n\n...........................................................................\n/home/ubuntu/anaconda3/lib/python3.6/site-packages/tornado/ioloop.py in start(self=<zmq.eventloop.ioloop.ZMQIOLoop object>)\n    883                 self._events.update(event_pairs)\n    884                 while self._events:\n    885                     fd, events = self._events.popitem()\n    886                     try:\n    887                         fd_obj, handler_func = self._handlers[fd]\n--> 888                         handler_func(fd_obj, events)\n        handler_func = <function wrap.<locals>.null_wrapper>\n        fd_obj = <zmq.sugar.socket.Socket object>\n        events = 1\n    889                     except (OSError, IOError) as e:\n    890                         if errno_from_exception(e) == errno.EPIPE:\n    891                             # Happens when the client closes the connection\n    892                             pass\n\n...........................................................................\n/home/ubuntu/anaconda3/lib/python3.6/site-packages/tornado/stack_context.py in null_wrapper(*args=(<zmq.sugar.socket.Socket object>, 1), **kwargs={})\n    272         # Fast path when there are no active contexts.\n    273         def null_wrapper(*args, **kwargs):\n    274             try:\n    275                 current_state = _state.contexts\n    276                 _state.contexts = cap_contexts[0]\n--> 277                 return fn(*args, **kwargs)\n        args = (<zmq.sugar.socket.Socket object>, 1)\n        kwargs = {}\n    278             finally:\n    279                 _state.contexts = current_state\n    280         null_wrapper._wrapped = True\n    281         return null_wrapper\n\n...........................................................................\n/home/ubuntu/anaconda3/lib/python3.6/site-packages/zmq/eventloop/zmqstream.py in _handle_events(self=<zmq.eventloop.zmqstream.ZMQStream object>, fd=<zmq.sugar.socket.Socket object>, events=1)\n    435             # dispatch events:\n    436             if events & IOLoop.ERROR:\n    437                 gen_log.error(\"got POLLERR event on ZMQStream, which doesn't make sense\")\n    438                 return\n    439             if events & IOLoop.READ:\n--> 440                 self._handle_recv()\n        self._handle_recv = <bound method ZMQStream._handle_recv of <zmq.eventloop.zmqstream.ZMQStream object>>\n    441                 if not self.socket:\n    442                     return\n    443             if events & IOLoop.WRITE:\n    444                 self._handle_send()\n\n...........................................................................\n/home/ubuntu/anaconda3/lib/python3.6/site-packages/zmq/eventloop/zmqstream.py in _handle_recv(self=<zmq.eventloop.zmqstream.ZMQStream object>)\n    467                 gen_log.error(\"RECV Error: %s\"%zmq.strerror(e.errno))\n    468         else:\n    469             if self._recv_callback:\n    470                 callback = self._recv_callback\n    471                 # self._recv_callback = None\n--> 472                 self._run_callback(callback, msg)\n        self._run_callback = <bound method ZMQStream._run_callback of <zmq.eventloop.zmqstream.ZMQStream object>>\n        callback = <function wrap.<locals>.null_wrapper>\n        msg = [<zmq.sugar.frame.Frame object>, <zmq.sugar.frame.Frame object>, <zmq.sugar.frame.Frame object>, <zmq.sugar.frame.Frame object>, <zmq.sugar.frame.Frame object>, <zmq.sugar.frame.Frame object>, <zmq.sugar.frame.Frame object>]\n    473                 \n    474         # self.update_state()\n    475         \n    476 \n\n...........................................................................\n/home/ubuntu/anaconda3/lib/python3.6/site-packages/zmq/eventloop/zmqstream.py in _run_callback(self=<zmq.eventloop.zmqstream.ZMQStream object>, callback=<function wrap.<locals>.null_wrapper>, *args=([<zmq.sugar.frame.Frame object>, <zmq.sugar.frame.Frame object>, <zmq.sugar.frame.Frame object>, <zmq.sugar.frame.Frame object>, <zmq.sugar.frame.Frame object>, <zmq.sugar.frame.Frame object>, <zmq.sugar.frame.Frame object>],), **kwargs={})\n    409         close our socket.\"\"\"\n    410         try:\n    411             # Use a NullContext to ensure that all StackContexts are run\n    412             # inside our blanket exception handler rather than outside.\n    413             with stack_context.NullContext():\n--> 414                 callback(*args, **kwargs)\n        callback = <function wrap.<locals>.null_wrapper>\n        args = ([<zmq.sugar.frame.Frame object>, <zmq.sugar.frame.Frame object>, <zmq.sugar.frame.Frame object>, <zmq.sugar.frame.Frame object>, <zmq.sugar.frame.Frame object>, <zmq.sugar.frame.Frame object>, <zmq.sugar.frame.Frame object>],)\n        kwargs = {}\n    415         except:\n    416             gen_log.error(\"Uncaught exception, closing connection.\",\n    417                           exc_info=True)\n    418             # Close the socket on an uncaught exception from a user callback\n\n...........................................................................\n/home/ubuntu/anaconda3/lib/python3.6/site-packages/tornado/stack_context.py in null_wrapper(*args=([<zmq.sugar.frame.Frame object>, <zmq.sugar.frame.Frame object>, <zmq.sugar.frame.Frame object>, <zmq.sugar.frame.Frame object>, <zmq.sugar.frame.Frame object>, <zmq.sugar.frame.Frame object>, <zmq.sugar.frame.Frame object>],), **kwargs={})\n    272         # Fast path when there are no active contexts.\n    273         def null_wrapper(*args, **kwargs):\n    274             try:\n    275                 current_state = _state.contexts\n    276                 _state.contexts = cap_contexts[0]\n--> 277                 return fn(*args, **kwargs)\n        args = ([<zmq.sugar.frame.Frame object>, <zmq.sugar.frame.Frame object>, <zmq.sugar.frame.Frame object>, <zmq.sugar.frame.Frame object>, <zmq.sugar.frame.Frame object>, <zmq.sugar.frame.Frame object>, <zmq.sugar.frame.Frame object>],)\n        kwargs = {}\n    278             finally:\n    279                 _state.contexts = current_state\n    280         null_wrapper._wrapped = True\n    281         return null_wrapper\n\n...........................................................................\n/home/ubuntu/anaconda3/lib/python3.6/site-packages/ipykernel/kernelbase.py in dispatcher(msg=[<zmq.sugar.frame.Frame object>, <zmq.sugar.frame.Frame object>, <zmq.sugar.frame.Frame object>, <zmq.sugar.frame.Frame object>, <zmq.sugar.frame.Frame object>, <zmq.sugar.frame.Frame object>, <zmq.sugar.frame.Frame object>])\n    278         if self.control_stream:\n    279             self.control_stream.on_recv(self.dispatch_control, copy=False)\n    280 \n    281         def make_dispatcher(stream):\n    282             def dispatcher(msg):\n--> 283                 return self.dispatch_shell(stream, msg)\n        msg = [<zmq.sugar.frame.Frame object>, <zmq.sugar.frame.Frame object>, <zmq.sugar.frame.Frame object>, <zmq.sugar.frame.Frame object>, <zmq.sugar.frame.Frame object>, <zmq.sugar.frame.Frame object>, <zmq.sugar.frame.Frame object>]\n    284             return dispatcher\n    285 \n    286         for s in self.shell_streams:\n    287             s.on_recv(make_dispatcher(s), copy=False)\n\n...........................................................................\n/home/ubuntu/anaconda3/lib/python3.6/site-packages/ipykernel/kernelbase.py in dispatch_shell(self=<ipykernel.ipkernel.IPythonKernel object>, stream=<zmq.eventloop.zmqstream.ZMQStream object>, msg={'buffers': [], 'content': {'allow_stdin': True, 'code': '%time\\nrs.fit(train, target)', 'silent': False, 'stop_on_error': True, 'store_history': True, 'user_expressions': {}}, 'header': {'date': datetime.datetime(2019, 2, 24, 1, 52, 40, 286472, tzinfo=datetime.timezone.utc), 'msg_id': '3CDFD4BB9E694BB487F40AFFCD4A33A0', 'msg_type': 'execute_request', 'session': '4E55EA9ECDB44D2D849E8F9A7AEBF08F', 'username': 'username', 'version': '5.0'}, 'metadata': {}, 'msg_id': '3CDFD4BB9E694BB487F40AFFCD4A33A0', 'msg_type': 'execute_request', 'parent_header': {}})\n    230             self.log.warn(\"Unknown message type: %r\", msg_type)\n    231         else:\n    232             self.log.debug(\"%s: %s\", msg_type, msg)\n    233             self.pre_handler_hook()\n    234             try:\n--> 235                 handler(stream, idents, msg)\n        handler = <bound method Kernel.execute_request of <ipykernel.ipkernel.IPythonKernel object>>\n        stream = <zmq.eventloop.zmqstream.ZMQStream object>\n        idents = [b'4E55EA9ECDB44D2D849E8F9A7AEBF08F']\n        msg = {'buffers': [], 'content': {'allow_stdin': True, 'code': '%time\\nrs.fit(train, target)', 'silent': False, 'stop_on_error': True, 'store_history': True, 'user_expressions': {}}, 'header': {'date': datetime.datetime(2019, 2, 24, 1, 52, 40, 286472, tzinfo=datetime.timezone.utc), 'msg_id': '3CDFD4BB9E694BB487F40AFFCD4A33A0', 'msg_type': 'execute_request', 'session': '4E55EA9ECDB44D2D849E8F9A7AEBF08F', 'username': 'username', 'version': '5.0'}, 'metadata': {}, 'msg_id': '3CDFD4BB9E694BB487F40AFFCD4A33A0', 'msg_type': 'execute_request', 'parent_header': {}}\n    236             except Exception:\n    237                 self.log.error(\"Exception in message handler:\", exc_info=True)\n    238             finally:\n    239                 self.post_handler_hook()\n\n...........................................................................\n/home/ubuntu/anaconda3/lib/python3.6/site-packages/ipykernel/kernelbase.py in execute_request(self=<ipykernel.ipkernel.IPythonKernel object>, stream=<zmq.eventloop.zmqstream.ZMQStream object>, ident=[b'4E55EA9ECDB44D2D849E8F9A7AEBF08F'], parent={'buffers': [], 'content': {'allow_stdin': True, 'code': '%time\\nrs.fit(train, target)', 'silent': False, 'stop_on_error': True, 'store_history': True, 'user_expressions': {}}, 'header': {'date': datetime.datetime(2019, 2, 24, 1, 52, 40, 286472, tzinfo=datetime.timezone.utc), 'msg_id': '3CDFD4BB9E694BB487F40AFFCD4A33A0', 'msg_type': 'execute_request', 'session': '4E55EA9ECDB44D2D849E8F9A7AEBF08F', 'username': 'username', 'version': '5.0'}, 'metadata': {}, 'msg_id': '3CDFD4BB9E694BB487F40AFFCD4A33A0', 'msg_type': 'execute_request', 'parent_header': {}})\n    394         if not silent:\n    395             self.execution_count += 1\n    396             self._publish_execute_input(code, parent, self.execution_count)\n    397 \n    398         reply_content = self.do_execute(code, silent, store_history,\n--> 399                                         user_expressions, allow_stdin)\n        user_expressions = {}\n        allow_stdin = True\n    400 \n    401         # Flush output before sending the reply.\n    402         sys.stdout.flush()\n    403         sys.stderr.flush()\n\n...........................................................................\n/home/ubuntu/anaconda3/lib/python3.6/site-packages/ipykernel/ipkernel.py in do_execute(self=<ipykernel.ipkernel.IPythonKernel object>, code='%time\\nrs.fit(train, target)', silent=False, store_history=True, user_expressions={}, allow_stdin=True)\n    191 \n    192         self._forward_input(allow_stdin)\n    193 \n    194         reply_content = {}\n    195         try:\n--> 196             res = shell.run_cell(code, store_history=store_history, silent=silent)\n        res = undefined\n        shell.run_cell = <bound method ZMQInteractiveShell.run_cell of <ipykernel.zmqshell.ZMQInteractiveShell object>>\n        code = '%time\\nrs.fit(train, target)'\n        store_history = True\n        silent = False\n    197         finally:\n    198             self._restore_input()\n    199 \n    200         if res.error_before_exec is not None:\n\n...........................................................................\n/home/ubuntu/anaconda3/lib/python3.6/site-packages/ipykernel/zmqshell.py in run_cell(self=<ipykernel.zmqshell.ZMQInteractiveShell object>, *args=('%time\\nrs.fit(train, target)',), **kwargs={'silent': False, 'store_history': True})\n    528             )\n    529         self.payload_manager.write_payload(payload)\n    530 \n    531     def run_cell(self, *args, **kwargs):\n    532         self._last_traceback = None\n--> 533         return super(ZMQInteractiveShell, self).run_cell(*args, **kwargs)\n        self.run_cell = <bound method ZMQInteractiveShell.run_cell of <ipykernel.zmqshell.ZMQInteractiveShell object>>\n        args = ('%time\\nrs.fit(train, target)',)\n        kwargs = {'silent': False, 'store_history': True}\n    534 \n    535     def _showtraceback(self, etype, evalue, stb):\n    536         # try to preserve ordering of tracebacks and print statements\n    537         sys.stdout.flush()\n\n...........................................................................\n/home/ubuntu/anaconda3/lib/python3.6/site-packages/IPython/core/interactiveshell.py in run_cell(self=<ipykernel.zmqshell.ZMQInteractiveShell object>, raw_cell='%time\\nrs.fit(train, target)', store_history=True, silent=False, shell_futures=True)\n   2712                 self.displayhook.exec_result = result\n   2713 \n   2714                 # Execute the user code\n   2715                 interactivity = \"none\" if silent else self.ast_node_interactivity\n   2716                 has_raised = self.run_ast_nodes(code_ast.body, cell_name,\n-> 2717                    interactivity=interactivity, compiler=compiler, result=result)\n        interactivity = 'last_expr'\n        compiler = <IPython.core.compilerop.CachingCompiler object>\n   2718                 \n   2719                 self.last_execution_succeeded = not has_raised\n   2720 \n   2721                 # Reset this so later displayed values do not modify the\n\n...........................................................................\n/home/ubuntu/anaconda3/lib/python3.6/site-packages/IPython/core/interactiveshell.py in run_ast_nodes(self=<ipykernel.zmqshell.ZMQInteractiveShell object>, nodelist=[<_ast.Expr object>, <_ast.Expr object>], cell_name='<ipython-input-25-6481fcfe4fa2>', interactivity='last', compiler=<IPython.core.compilerop.CachingCompiler object>, result=<ExecutionResult object at 7ff31a3972b0, executi..._before_exec=None error_in_exec=None result=None>)\n   2822                     return True\n   2823 \n   2824             for i, node in enumerate(to_run_interactive):\n   2825                 mod = ast.Interactive([node])\n   2826                 code = compiler(mod, cell_name, \"single\")\n-> 2827                 if self.run_code(code, result):\n        self.run_code = <bound method InteractiveShell.run_code of <ipykernel.zmqshell.ZMQInteractiveShell object>>\n        code = <code object <module> at 0x7ff31849a8a0, file \"<ipython-input-25-6481fcfe4fa2>\", line 2>\n        result = <ExecutionResult object at 7ff31a3972b0, executi..._before_exec=None error_in_exec=None result=None>\n   2828                     return True\n   2829 \n   2830             # Flush softspace\n   2831             if softspace(sys.stdout, 0):\n\n...........................................................................\n/home/ubuntu/anaconda3/lib/python3.6/site-packages/IPython/core/interactiveshell.py in run_code(self=<ipykernel.zmqshell.ZMQInteractiveShell object>, code_obj=<code object <module> at 0x7ff31849a8a0, file \"<ipython-input-25-6481fcfe4fa2>\", line 2>, result=<ExecutionResult object at 7ff31a3972b0, executi..._before_exec=None error_in_exec=None result=None>)\n   2876         outflag = 1  # happens in more places, so it's easier as default\n   2877         try:\n   2878             try:\n   2879                 self.hooks.pre_run_code_hook()\n   2880                 #rprint('Running code', repr(code_obj)) # dbg\n-> 2881                 exec(code_obj, self.user_global_ns, self.user_ns)\n        code_obj = <code object <module> at 0x7ff31849a8a0, file \"<ipython-input-25-6481fcfe4fa2>\", line 2>\n        self.user_global_ns = {'DecisionTreeClassifier': <class 'sklearn.tree.tree.DecisionTreeClassifier'>, 'ExtraTreesClassifier': <class 'sklearn.ensemble.forest.ExtraTreesClassifier'>, 'GridSearchCV': <class 'sklearn.model_selection._search.GridSearchCV'>, 'In': ['', 'import pandas as pd\\nimport matplotlib.pyplot as ...atifiedKFold, cross_val_score, RandomizedSearchCV', 'import catboost as cb\\nimport xgboost as xgb\\nfrom sklearn.linear_model import SGDClassifier', \"train = pd.read_csv('X_train.csv')\\ntest = pd.read_csv('X_test.csv')\", \"train = train.drop(['Unnamed: 0'], axis=1)\\ntest = test.drop(['Unnamed: 0'], axis=1)\", \"target = train['quality']\\ntrain = train.drop(['quality'], axis=1)\", 'mapping = {3:0, 4:0, 5:0, 6:0, 7:1, 8:1}\\ntarget = target.map(mapping)', 'from sklearn.preprocessing import MinMaxScaler, ...ransform(train)\\ntest = scaler.fit_transform(test)', 'k_fold = StratifiedKFold(n_splits=5, shuffle=True)', 'from sklearn.preprocessing import PolynomialFeatures', '# poly = PolynomialFeatures(2)\\n# train_poly = po...orm(train)\\n# test_poly = poly.fit_transform(test)', 'from sklearn.model_selection import cross_val_sc...r\\nfrom sklearn.tree import DecisionTreeClassifier', 'from sklearn.ensemble import RandomForestClassifier, VotingClassifier', 'sgd_clf = SGDClassifier(loss=\"hinge\", penalty=\"l2\", max_iter=5)', 'cat_clf = cb.CatBoostClassifier()', 'xgb_clf = xgb.XGBClassifier()', 'clf_1 = DecisionTreeClassifier(max_depth=None, m...th=None,\\n    min_samples_split=2, random_state=0)', \"eclf1 = VotingClassifier(estimators=[\\n        ('...), ('rf', clf_2), ('gnb', clf_3)], voting='soft')\", \"get_ipython().magic('time')\\ncat_clf_cv = cross_v...ain, target, cv = k_fold, scoring='f1', n_jobs=8)\", 'cat_clf_cv.mean() * 10**5', ...], 'MinMaxScaler': <class 'sklearn.preprocessing.data.MinMaxScaler'>, 'Out': {19: 55207.88379347415, 21: array([0. , 0.1, 0.2, 0.3, 0.4, 0.5, 0.6, 0.7, 0.8, 0.9])}, 'PolynomialFeatures': <class 'sklearn.preprocessing.data.PolynomialFeatures'>, 'RandomForestClassifier': <class 'sklearn.ensemble.forest.RandomForestClassifier'>, 'RandomizedSearchCV': <class 'sklearn.model_selection._search.RandomizedSearchCV'>, 'SGDClassifier': <class 'sklearn.linear_model.stochastic_gradient.SGDClassifier'>, ...}\n        self.user_ns = {'DecisionTreeClassifier': <class 'sklearn.tree.tree.DecisionTreeClassifier'>, 'ExtraTreesClassifier': <class 'sklearn.ensemble.forest.ExtraTreesClassifier'>, 'GridSearchCV': <class 'sklearn.model_selection._search.GridSearchCV'>, 'In': ['', 'import pandas as pd\\nimport matplotlib.pyplot as ...atifiedKFold, cross_val_score, RandomizedSearchCV', 'import catboost as cb\\nimport xgboost as xgb\\nfrom sklearn.linear_model import SGDClassifier', \"train = pd.read_csv('X_train.csv')\\ntest = pd.read_csv('X_test.csv')\", \"train = train.drop(['Unnamed: 0'], axis=1)\\ntest = test.drop(['Unnamed: 0'], axis=1)\", \"target = train['quality']\\ntrain = train.drop(['quality'], axis=1)\", 'mapping = {3:0, 4:0, 5:0, 6:0, 7:1, 8:1}\\ntarget = target.map(mapping)', 'from sklearn.preprocessing import MinMaxScaler, ...ransform(train)\\ntest = scaler.fit_transform(test)', 'k_fold = StratifiedKFold(n_splits=5, shuffle=True)', 'from sklearn.preprocessing import PolynomialFeatures', '# poly = PolynomialFeatures(2)\\n# train_poly = po...orm(train)\\n# test_poly = poly.fit_transform(test)', 'from sklearn.model_selection import cross_val_sc...r\\nfrom sklearn.tree import DecisionTreeClassifier', 'from sklearn.ensemble import RandomForestClassifier, VotingClassifier', 'sgd_clf = SGDClassifier(loss=\"hinge\", penalty=\"l2\", max_iter=5)', 'cat_clf = cb.CatBoostClassifier()', 'xgb_clf = xgb.XGBClassifier()', 'clf_1 = DecisionTreeClassifier(max_depth=None, m...th=None,\\n    min_samples_split=2, random_state=0)', \"eclf1 = VotingClassifier(estimators=[\\n        ('...), ('rf', clf_2), ('gnb', clf_3)], voting='soft')\", \"get_ipython().magic('time')\\ncat_clf_cv = cross_v...ain, target, cv = k_fold, scoring='f1', n_jobs=8)\", 'cat_clf_cv.mean() * 10**5', ...], 'MinMaxScaler': <class 'sklearn.preprocessing.data.MinMaxScaler'>, 'Out': {19: 55207.88379347415, 21: array([0. , 0.1, 0.2, 0.3, 0.4, 0.5, 0.6, 0.7, 0.8, 0.9])}, 'PolynomialFeatures': <class 'sklearn.preprocessing.data.PolynomialFeatures'>, 'RandomForestClassifier': <class 'sklearn.ensemble.forest.RandomForestClassifier'>, 'RandomizedSearchCV': <class 'sklearn.model_selection._search.RandomizedSearchCV'>, 'SGDClassifier': <class 'sklearn.linear_model.stochastic_gradient.SGDClassifier'>, ...}\n   2882             finally:\n   2883                 # Reset our crash handler in place\n   2884                 sys.excepthook = old_excepthook\n   2885         except SystemExit as e:\n\n...........................................................................\n/home/ubuntu/Notebooks/НТИ/dvfu_t1/<ipython-input-25-6481fcfe4fa2> in <module>()\n      1 get_ipython().magic('time')\n----> 2 rs.fit(train, target)\n\n...........................................................................\n/home/ubuntu/anaconda3/lib/python3.6/site-packages/sklearn/model_selection/_search.py in fit(self=RandomizedSearchCV(cv=5, error_score='raise',\n  ...eturn_train_score=True, scoring=None, verbose=10), X=array([[0.36283186, 0.39041096, 0.31      , ...,....., 0.51181102, 0.10429448,\n        0.78461538]]), y=0       0\n1       0\n2       0\n3       0\n4       ...78    0\nName: quality, Length: 1279, dtype: int64, groups=None, **fit_params={})\n    634                                   return_train_score=self.return_train_score,\n    635                                   return_n_test_samples=True,\n    636                                   return_times=True, return_parameters=False,\n    637                                   error_score=self.error_score)\n    638           for parameters, (train, test) in product(candidate_params,\n--> 639                                                    cv.split(X, y, groups)))\n        cv.split = <bound method StratifiedKFold.split of Stratifie...ld(n_splits=5, random_state=None, shuffle=False)>\n        X = array([[0.36283186, 0.39041096, 0.31      , ...,....., 0.51181102, 0.10429448,\n        0.78461538]])\n        y = 0       0\n1       0\n2       0\n3       0\n4       ...78    0\nName: quality, Length: 1279, dtype: int64\n        groups = None\n    640 \n    641         # if one choose to see train score, \"out\" will contain train score info\n    642         if self.return_train_score:\n    643             (train_score_dicts, test_score_dicts, test_sample_counts, fit_time,\n\n...........................................................................\n/home/ubuntu/anaconda3/lib/python3.6/site-packages/sklearn/externals/joblib/parallel.py in __call__(self=Parallel(n_jobs=8), iterable=<generator object BaseSearchCV.fit.<locals>.<genexpr>>)\n    784             if pre_dispatch == \"all\" or n_jobs == 1:\n    785                 # The iterable was consumed all at once by the above for loop.\n    786                 # No need to wait for async callbacks to trigger to\n    787                 # consumption.\n    788                 self._iterating = False\n--> 789             self.retrieve()\n        self.retrieve = <bound method Parallel.retrieve of Parallel(n_jobs=8)>\n    790             # Make sure that we get a last message telling us we are done\n    791             elapsed_time = time.time() - self._start_time\n    792             self._print('Done %3i out of %3i | elapsed: %s finished',\n    793                         (len(self._output), len(self._output),\n\n---------------------------------------------------------------------------\nSub-process traceback:\n---------------------------------------------------------------------------\nXGBoostError                                       Sun Feb 24 01:52:42 2019\nPID: 1882                   Python 3.6.6: /home/ubuntu/anaconda3/bin/python\n...........................................................................\n/home/ubuntu/anaconda3/lib/python3.6/site-packages/sklearn/externals/joblib/parallel.py in __call__(self=<sklearn.externals.joblib.parallel.BatchedCalls object>)\n    126     def __init__(self, iterator_slice):\n    127         self.items = list(iterator_slice)\n    128         self._size = len(self.items)\n    129 \n    130     def __call__(self):\n--> 131         return [func(*args, **kwargs) for func, args, kwargs in self.items]\n        self.items = [(<function _fit_and_score>, (XGBClassifier(base_score=0.5, booster='gbtree', ...=1, seed=None,\n       silent=True, subsample=0.9), array([[0.36283186, 0.39041096, 0.31      , ...,....., 0.51181102, 0.10429448,\n        0.78461538]]), 0       0\n1       0\n2       0\n3       0\n4       ...78    0\nName: quality, Length: 1279, dtype: int64, {'score': <function _passthrough_scorer>}, array([ 255,  256,  258, ..., 1276, 1277, 1278]), array([  0,   1,   2,   3,   4,   5,   6,   7,  ...    247, 248, 249, 250, 251, 252, 253, 254, 257]), 10, {'colsample_bytree': 0.0, 'max_depth': 5, 'n_estimators': 1480, 'reg_alpha': 0.8, 'subsample': 0.9}), {'error_score': 'raise', 'fit_params': {}, 'return_n_test_samples': True, 'return_parameters': False, 'return_times': True, 'return_train_score': True})]\n    132 \n    133     def __len__(self):\n    134         return self._size\n    135 \n\n...........................................................................\n/home/ubuntu/anaconda3/lib/python3.6/site-packages/sklearn/externals/joblib/parallel.py in <listcomp>(.0=<list_iterator object>)\n    126     def __init__(self, iterator_slice):\n    127         self.items = list(iterator_slice)\n    128         self._size = len(self.items)\n    129 \n    130     def __call__(self):\n--> 131         return [func(*args, **kwargs) for func, args, kwargs in self.items]\n        func = <function _fit_and_score>\n        args = (XGBClassifier(base_score=0.5, booster='gbtree', ...=1, seed=None,\n       silent=True, subsample=0.9), array([[0.36283186, 0.39041096, 0.31      , ...,....., 0.51181102, 0.10429448,\n        0.78461538]]), 0       0\n1       0\n2       0\n3       0\n4       ...78    0\nName: quality, Length: 1279, dtype: int64, {'score': <function _passthrough_scorer>}, array([ 255,  256,  258, ..., 1276, 1277, 1278]), array([  0,   1,   2,   3,   4,   5,   6,   7,  ...    247, 248, 249, 250, 251, 252, 253, 254, 257]), 10, {'colsample_bytree': 0.0, 'max_depth': 5, 'n_estimators': 1480, 'reg_alpha': 0.8, 'subsample': 0.9})\n        kwargs = {'error_score': 'raise', 'fit_params': {}, 'return_n_test_samples': True, 'return_parameters': False, 'return_times': True, 'return_train_score': True}\n    132 \n    133     def __len__(self):\n    134         return self._size\n    135 \n\n...........................................................................\n/home/ubuntu/anaconda3/lib/python3.6/site-packages/sklearn/model_selection/_validation.py in _fit_and_score(estimator=XGBClassifier(base_score=0.5, booster='gbtree', ...=1, seed=None,\n       silent=True, subsample=0.9), X=array([[0.36283186, 0.39041096, 0.31      , ...,....., 0.51181102, 0.10429448,\n        0.78461538]]), y=0       0\n1       0\n2       0\n3       0\n4       ...78    0\nName: quality, Length: 1279, dtype: int64, scorer={'score': <function _passthrough_scorer>}, train=array([ 255,  256,  258, ..., 1276, 1277, 1278]), test=array([  0,   1,   2,   3,   4,   5,   6,   7,  ...    247, 248, 249, 250, 251, 252, 253, 254, 257]), verbose=10, parameters={'colsample_bytree': 0.0, 'max_depth': 5, 'n_estimators': 1480, 'reg_alpha': 0.8, 'subsample': 0.9}, fit_params={}, return_train_score=True, return_parameters=False, return_n_test_samples=True, return_times=True, error_score='raise')\n    453 \n    454     try:\n    455         if y_train is None:\n    456             estimator.fit(X_train, **fit_params)\n    457         else:\n--> 458             estimator.fit(X_train, y_train, **fit_params)\n        estimator.fit = <bound method XGBClassifier.fit of XGBClassifier...1, seed=None,\n       silent=True, subsample=0.9)>\n        X_train = array([[0.27433628, 0.32876712, 0.        , ...,....., 0.51181102, 0.10429448,\n        0.78461538]])\n        y_train = 255     0\n256     0\n258     0\n259     0\n260     ...78    0\nName: quality, Length: 1023, dtype: int64\n        fit_params = {}\n    459 \n    460     except Exception as e:\n    461         # Note fit time as time until error\n    462         fit_time = time.time() - start_time\n\n...........................................................................\n/home/ubuntu/anaconda3/lib/python3.6/site-packages/xgboost/sklearn.py in fit(self=XGBClassifier(base_score=0.5, booster='gbtree', ...=1, seed=None,\n       silent=True, subsample=0.9), X=array([[0.27433628, 0.32876712, 0.        , ...,....., 0.51181102, 0.10429448,\n        0.78461538]]), y=255     0\n256     0\n258     0\n259     0\n260     ...78    0\nName: quality, Length: 1023, dtype: int64, sample_weight=None, eval_set=None, eval_metric=None, early_stopping_rounds=None, verbose=True, xgb_model=None, sample_weight_eval_set=None)\n    542 \n    543         self._Booster = train(xgb_options, train_dmatrix, self.n_estimators,\n    544                               evals=evals,\n    545                               early_stopping_rounds=early_stopping_rounds,\n    546                               evals_result=evals_result, obj=obj, feval=feval,\n--> 547                               verbose_eval=verbose, xgb_model=None)\n        verbose = True\n        xgb_model = None\n    548 \n    549         self.objective = xgb_options[\"objective\"]\n    550         if evals_result:\n    551             for val in evals_result.items():\n\n...........................................................................\n/home/ubuntu/anaconda3/lib/python3.6/site-packages/xgboost/training.py in train(params={'base_score': 0.5, 'booster': 'gbtree', 'colsample_bylevel': 1, 'colsample_bytree': 0.0, 'gamma': 0, 'learning_rate': 0.1, 'max_delta_step': 0, 'max_depth': 5, 'min_child_weight': 1, 'missing': nan, ...}, dtrain=<xgboost.core.DMatrix object>, num_boost_round=1480, evals=(), obj=None, feval=None, maximize=False, early_stopping_rounds=None, evals_result={}, verbose_eval=True, xgb_model=None, callbacks=[<function print_evaluation.<locals>.callback>, <function record_evaluation.<locals>.callback>], learning_rates=None)\n    199 \n    200     return _train_internal(params, dtrain,\n    201                            num_boost_round=num_boost_round,\n    202                            evals=evals,\n    203                            obj=obj, feval=feval,\n--> 204                            xgb_model=xgb_model, callbacks=callbacks)\n        xgb_model = None\n        callbacks = [<function print_evaluation.<locals>.callback>, <function record_evaluation.<locals>.callback>]\n    205 \n    206 \n    207 class CVPack(object):\n    208     \"\"\"\"Auxiliary datastruct to hold one fold of CV.\"\"\"\n\n...........................................................................\n/home/ubuntu/anaconda3/lib/python3.6/site-packages/xgboost/training.py in _train_internal(params={'base_score': 0.5, 'booster': 'gbtree', 'colsample_bylevel': 1, 'colsample_bytree': 0.0, 'gamma': 0, 'learning_rate': 0.1, 'max_delta_step': 0, 'max_depth': 5, 'min_child_weight': 1, 'missing': nan, ...}, dtrain=<xgboost.core.DMatrix object>, num_boost_round=1480, evals=[], obj=None, feval=None, xgb_model=None, callbacks=[<function print_evaluation.<locals>.callback>, <function record_evaluation.<locals>.callback>])\n     69                            rank=rank,\n     70                            evaluation_result_list=None))\n     71         # Distributed code: need to resume to this point.\n     72         # Skip the first update if it is a recovery step.\n     73         if version % 2 == 0:\n---> 74             bst.update(dtrain, i, obj)\n        bst.update = <bound method Booster.update of <xgboost.core.Booster object>>\n        dtrain = <xgboost.core.DMatrix object>\n        i = 0\n        obj = None\n     75             bst.save_rabit_checkpoint()\n     76             version += 1\n     77 \n     78         assert(rabit.get_world_size() == 1 or version == rabit.version_number())\n\n...........................................................................\n/home/ubuntu/anaconda3/lib/python3.6/site-packages/xgboost/core.py in update(self=<xgboost.core.Booster object>, dtrain=<xgboost.core.DMatrix object>, iteration=0, fobj=None)\n   1016             raise TypeError('invalid training matrix: {}'.format(type(dtrain).__name__))\n   1017         self._validate_features(dtrain)\n   1018 \n   1019         if fobj is None:\n   1020             _check_call(_LIB.XGBoosterUpdateOneIter(self.handle, ctypes.c_int(iteration),\n-> 1021                                                     dtrain.handle))\n        dtrain.handle = c_void_p(94544844770000)\n   1022         else:\n   1023             pred = self.predict(dtrain)\n   1024             grad, hess = fobj(pred, dtrain)\n   1025             self.boost(dtrain, grad, hess)\n\n...........................................................................\n/home/ubuntu/anaconda3/lib/python3.6/site-packages/xgboost/core.py in _check_call(ret=-1)\n    146     ----------\n    147     ret : int\n    148         return value from API calls\n    149     \"\"\"\n    150     if ret != 0:\n--> 151         raise XGBoostError(_LIB.XGBGetLastError())\n    152 \n    153 \n    154 def ctypes2numpy(cptr, length, dtype):\n    155     \"\"\"Convert a ctypes pointer array to a numpy array.\n\nXGBoostError: b'[01:52:42] /workspace/src/tree/updater_colmaker.cc:186: Check failed: param_.colsample_bytree > 0U (0 vs. 0) colsample_bytree cannot be zero.\\n\\nStack trace returned 10 entries:\\n[bt] (0) /home/ubuntu/anaconda3/xgboost/libxgboost.so(dmlc::StackTrace()+0x42) [0x7ff31d8e54a2]\\n[bt] (1) /home/ubuntu/anaconda3/xgboost/libxgboost.so(dmlc::LogMessageFatal::~LogMessageFatal()+0x18) [0x7ff31d8e5b08]\\n[bt] (2) /home/ubuntu/anaconda3/xgboost/libxgboost.so(xgboost::tree::ColMaker::Builder::InitData(std::vector<xgboost::detail::GradientPairInternal<float>, std::allocator<xgboost::detail::GradientPairInternal<float> > > const&, xgboost::DMatrix const&, xgboost::RegTree const&)+0x3aa) [0x7ff31da328ba]\\n[bt] (3) /home/ubuntu/anaconda3/xgboost/libxgboost.so(xgboost::tree::ColMaker::Builder::Update(std::vector<xgboost::detail::GradientPairInternal<float>, std::allocator<xgboost::detail::GradientPairInternal<float> > > const&, xgboost::DMatrix*, xgboost::RegTree*)+0x47) [0x7ff31da33f67]\\n[bt] (4) /home/ubuntu/anaconda3/xgboost/libxgboost.so(xgboost::tree::ColMaker::Update(xgboost::HostDeviceVector<xgboost::detail::GradientPairInternal<float> >*, xgboost::DMatrix*, std::vector<xgboost::RegTree*, std::allocator<xgboost::RegTree*> > const&)+0x188) [0x7ff31da34ce8]\\n[bt] (5) /home/ubuntu/anaconda3/xgboost/libxgboost.so(xgboost::gbm::GBTree::BoostNewTrees(xgboost::HostDeviceVector<xgboost::detail::GradientPairInternal<float> >*, xgboost::DMatrix*, int, std::vector<std::unique_ptr<xgboost::RegTree, std::default_delete<xgboost::RegTree> >, std::allocator<std::unique_ptr<xgboost::RegTree, std::default_delete<xgboost::RegTree> > > >*)+0x5a8) [0x7ff31d9622c8]\\n[bt] (6) /home/ubuntu/anaconda3/xgboost/libxgboost.so(xgboost::gbm::GBTree::DoBoost(xgboost::DMatrix*, xgboost::HostDeviceVector<xgboost::detail::GradientPairInternal<float> >*, xgboost::ObjFunction*)+0x8c6) [0x7ff31d963046]\\n[bt] (7) /home/ubuntu/anaconda3/xgboost/libxgboost.so(xgboost::LearnerImpl::UpdateOneIter(int, xgboost::DMatrix*)+0x3b8) [0x7ff31d995a88]\\n[bt] (8) /home/ubuntu/anaconda3/xgboost/libxgboost.so(XGBoosterUpdateOneIter+0x35) [0x7ff31d925515]\\n[bt] (9) /home/ubuntu/anaconda3/lib/python3.6/lib-dynload/../../libffi.so.6(ffi_call_unix64+0x4c) [0x7ff3599eeadc]\\n\\n'\n___________________________________________________________________________"
     ]
    }
   ],
   "source": [
    "%time\n",
    "rs.fit(train, target)"
   ]
  },
  {
   "cell_type": "code",
   "execution_count": 27,
   "metadata": {},
   "outputs": [
    {
     "data": {
      "text/plain": [
       "<bound method BaseSearchCV.score of RandomizedSearchCV(cv=5, error_score='raise',\n",
       "          estimator=XGBClassifier(base_score=0.5, booster='gbtree', colsample_bylevel=1,\n",
       "       colsample_bytree=1, gamma=0, learning_rate=0.1, max_delta_step=0,\n",
       "       max_depth=3, min_child_weight=1, missing=None, n_estimators=100,\n",
       "       n_jobs=1, nthread=None, objective='binary:logistic', random_state=0,\n",
       "       reg_alpha=0, reg_lambda=1, scale_pos_weight=1, seed=None,\n",
       "       silent=True, subsample=1),\n",
       "          fit_params=None, iid=True, n_iter=10, n_jobs=8,\n",
       "          param_distributions={'max_depth': [0, 1, 2, 3, 4, 5, 6, 7, 8, 9], 'subsample': array([0. , 0.1, 0.2, 0.3, 0.4, 0.5, 0.6, 0.7, 0.8, 0.9]), 'colsample_bytree': array([0. , 0.1, 0.2, 0.3, 0.4, 0.5, 0.6, 0.7, 0.8, 0.9]), 'n_estimators': [80, 180, 280, 380, 480, 580, 680, 780, 880, 980, 1080, 1180, 1280, 1380, 1480, 1580, 1680, 1780, 1880, 1980], 'reg_alpha': array([0. , 0.1, 0.2, 0.3, 0.4, 0.5, 0.6, 0.7, 0.8, 0.9])},\n",
       "          pre_dispatch='2*n_jobs', random_state=None, refit=True,\n",
       "          return_train_score=True, scoring=None, verbose=10)>"
      ]
     },
     "execution_count": 27,
     "metadata": {},
     "output_type": "execute_result"
    }
   ],
   "source": [
    "rs.score"
   ]
  },
  {
   "cell_type": "code",
   "execution_count": 28,
   "metadata": {
    "collapsed": true
   },
   "outputs": [],
   "source": [
    "xgb_clf = xgb.XGBClassifier(colsample_bytree=0.5, max_depth=4, n_estimators=200, reg_alpha=0.04, subsample=0.6)"
   ]
  },
  {
   "cell_type": "markdown",
   "metadata": {},
   "source": [
    "## Subbmit"
   ]
  },
  {
   "cell_type": "code",
   "execution_count": 29,
   "metadata": {
    "scrolled": true
   },
   "outputs": [
    {
     "data": {
      "text/plain": [
       "VotingClassifier(estimators=[('lr', DecisionTreeClassifier(class_weight=None, criterion='gini', max_depth=None,\n",
       "            max_features=None, max_leaf_nodes=None,\n",
       "            min_impurity_decrease=0.0, min_impurity_split=None,\n",
       "            min_samples_leaf=1, min_samples_split=2,\n",
       "            min_weight_fraction_leaf..._estimators=10, n_jobs=1,\n",
       "           oob_score=False, random_state=0, verbose=0, warm_start=False))],\n",
       "         flatten_transform=None, n_jobs=1, voting='soft', weights=None)"
      ]
     },
     "execution_count": 29,
     "metadata": {},
     "output_type": "execute_result"
    }
   ],
   "source": [
    "eclf1.fit(train,target)"
   ]
  },
  {
   "cell_type": "code",
   "execution_count": 30,
   "metadata": {},
   "outputs": [
    {
     "name": "stderr",
     "output_type": "stream",
     "text": [
      "/home/ubuntu/anaconda3/lib/python3.6/site-packages/sklearn/preprocessing/label.py:151: DeprecationWarning: The truth value of an empty array is ambiguous. Returning False, but in future this will result in an error. Use `array.size > 0` to check that an array is not empty.\n",
      "  if diff:\n"
     ]
    }
   ],
   "source": [
    "ans = eclf1.predict(test)"
   ]
  },
  {
   "cell_type": "code",
   "execution_count": 31,
   "metadata": {
    "collapsed": true
   },
   "outputs": [],
   "source": [
    "ans = pd.Series(ans)"
   ]
  },
  {
   "cell_type": "code",
   "execution_count": 32,
   "metadata": {
    "collapsed": true
   },
   "outputs": [],
   "source": [
    "import time"
   ]
  },
  {
   "cell_type": "code",
   "execution_count": 33,
   "metadata": {
    "collapsed": true
   },
   "outputs": [],
   "source": [
    "def make_submission(predicted):\n",
    "    submission = []\n",
    "    for i in predicted:\n",
    "        submission.append(int(i))\n",
    "        \n",
    "    f = open('submission{}.txt'.format('::'.join(time.ctime().split()[2:4])), 'w')\n",
    "    for i in submission:\n",
    "        f.write(str(i) + '\\r')"
   ]
  },
  {
   "cell_type": "code",
   "execution_count": 34,
   "metadata": {
    "collapsed": true
   },
   "outputs": [],
   "source": [
    "make_submission(ans)"
   ]
  }
 ],
 "metadata": {
  "kernelspec": {
   "display_name": "Python 3",
   "language": "python",
   "name": "python3"
  },
  "language_info": {
   "codemirror_mode": {
    "name": "ipython",
    "version": 3
   },
   "file_extension": ".py",
   "mimetype": "text/x-python",
   "name": "python",
   "nbconvert_exporter": "python",
   "pygments_lexer": "ipython3",
   "version": "3.6.6"
  }
 },
 "nbformat": 4,
 "nbformat_minor": 2
}
